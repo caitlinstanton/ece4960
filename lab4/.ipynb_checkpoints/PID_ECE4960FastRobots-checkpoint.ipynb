{
  "nbformat": 4,
  "nbformat_minor": 0,
  "metadata": {
    "colab": {
      "name": "PID-ECE4960FastRobots.ipynb",
      "provenance": [],
      "collapsed_sections": []
    },
    "kernelspec": {
      "name": "python3",
      "display_name": "Python 3"
    }
  },
  "cells": [
    {
      "cell_type": "markdown",
      "metadata": {
        "id": "dByAVUIBTyX0",
        "colab_type": "text"
      },
      "source": [
        "Notebook for Designing PID controller"
      ]
    },
    {
      "cell_type": "code",
      "metadata": {
        "id": "3ITDgej_Sxhu",
        "colab_type": "code",
        "colab": {}
      },
      "source": [
        "from matplotlib import pyplot as plt\n",
        "import numpy as np\n",
        "\n",
        "'''\n",
        "ECE 4960: Designing a PID controller\n",
        "'''\n",
        "\n",
        "class System:\n",
        "  '''\n",
        "  To simplify the general case, assume y is the first element of x and that D is zero. \n",
        "  '''\n",
        "\n",
        "  def __init__(self, \n",
        "               A=[[0, 1],[0,-0.2]],\n",
        "               B=[0,1], \n",
        "               x0=[0, 0], \n",
        "               sigma = 0,\n",
        "               dt=0.05):\n",
        "    \n",
        "    self.x=np.array(x0)\n",
        "    self.t=0\n",
        "    self.dt=dt\n",
        "\n",
        "    self.sigma = sigma\n",
        "\n",
        "    self.A = np.array(A)\n",
        "    self.B = np.array(B)\n",
        "    \n",
        "    self.x_hist=[x0]\n",
        "    self.y_hist=[0]    \n",
        "    self.t_hist=[self.t]\n",
        "    self.e_hist=[0]\n",
        "\n",
        "    '''\n",
        "    Controller parameters\n",
        "    '''\n",
        "    self.I=0\n",
        "    self.dF=0\n",
        "\n",
        "  def step(self,u):\n",
        "    self.x =  self.x + self.dt * ( np.dot(self.A,self.x) + u*self.B )\n",
        "    self.t += self.dt\n",
        "    self.t_hist.append(self.t)\n",
        "    self.x_hist.append(tuple(self.x))\n",
        "    self.y_hist.append(self.x[1]+np.random.normal(scale=self.sigma))    \n",
        "\n",
        "\n",
        "  def PID(self,setpoint, KP=0, KI=0, KD=0, alpha = 0):\n",
        "    '''\n",
        "    1) get error signal\n",
        "    2) Update integral\n",
        "    3) Compute de (for D)\n",
        "    4) Compute and return u\n",
        "    '''\n",
        "    e = setpoint - self.y_hist[-1]\n",
        "    self.e_hist.append(e)\n",
        "\n",
        "    self.I += e * self.dt\n",
        "    \n",
        "    if len(self.e_hist) >= 2:\n",
        "      d = (self.e_hist[-2] - self.e_hist[-1]) / self.dt  \n",
        "      self.dF = d\n",
        "      '''self.dF = alpha*d + (1-alpha)*self.dF'''\n",
        "    else:\n",
        "      self.dF = 0\n",
        "\n",
        "    return  KP*e + KD*self.dF + KI*self.I\n",
        "    \n",
        "  def runPID(self, setpoint, KP=0, KI=0, KD=0, Tfinal=10, alpha=0):\n",
        "    while self.t < Tfinal:\n",
        "      u=self.PID(setpoint,1.0*KP,1.0*KI,1.0*KD,alpha=alpha)\n",
        "      self.step(u)\n",
        "\n"
      ],
      "execution_count": 1,
      "outputs": []
    },
    {
      "cell_type": "markdown",
      "metadata": {
        "id": "JXeTnD21hO9p",
        "colab_type": "text"
      },
      "source": [
        "Look at the effect of KD on the output signal and the state in the presence of noise (sigma [0-1]), with and without a LPF (alpha [0 1])\n"
      ]
    },
    {
      "cell_type": "code",
      "metadata": {
        "id": "c3o7-sdaT8nq",
        "colab_type": "code",
        "colab": {
          "base_uri": "https://localhost:8080/",
          "height": 268
        },
        "outputId": "b026b04a-077b-472d-fcfe-904a3cf6e79c"
      },
      "source": [
        "sys=System(sigma=0)\n",
        "\n",
        "setpoint= 2\n",
        "final_time=4\n",
        "\n",
        "sys.runPID(setpoint,KP=1,KI=0.5,KD=0.8, alpha=1,Tfinal=final_time)\n",
        "\n",
        "#Plot Controller Output\n",
        "#plt.plot(sys.t_hist,sys.y_hist)\n",
        "#Plot Actual State\n",
        "plt.plot(sys.t_hist,tuple(x[1] for x in sys.x_hist),'r--')\n",
        "#Plot Setpoint\n",
        "plt.plot([0,final_time],[setpoint,setpoint],'k:')\n",
        "plt.grid()"
      ],
      "execution_count": 22,
      "outputs": [
        {
          "output_type": "display_data",
          "data": {
            "image/png": "[encoded data removed]",
            "text/plain": [
              "<Figure size 432x288 with 1 Axes>"
            ]
          },
          "metadata": {
            "tags": [],
            "needs_background": "light"
          }
        }
      ]
    }
  ]
}