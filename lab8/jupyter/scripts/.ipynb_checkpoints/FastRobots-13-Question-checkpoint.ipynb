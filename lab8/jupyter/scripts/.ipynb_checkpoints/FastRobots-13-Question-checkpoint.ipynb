{
 "cells": [
  {
   "cell_type": "markdown",
   "metadata": {},
   "source": [
    "# In-Class Exercise: Grid Localization using Bayes Filter\n",
    "<hr>"
   ]
  },
  {
   "cell_type": "code",
   "execution_count": 5,
   "metadata": {},
   "outputs": [
    {
     "name": "stdout",
     "output_type": "stream",
     "text": [
      "Using python version: 3.6.9 (default, Jul 17 2020, 12:50:27) \n",
      "[GCC 8.4.0] \n",
      "\n",
      "Initializing Node\n",
      "Initializing Virtual Robot\n",
      "Initializing Mapper\n",
      " | Number of observations per grid cell:  18\n",
      " | Precaching Views...\n",
      " | Precaching Time:  80.9926929473877\n",
      "Initial Pose:  (10, 10, 9)\n",
      "Initializing belief with a Point mass Distribution at:  (10, 10, 9)\n",
      "Caught rospy shutdown Exception\n",
      "Service call failed: service [/map_init] returned no response\n"
     ]
    }
   ],
   "source": [
    "from robot_interface import *\n",
    "\n",
    "# Initialize Robot to communicate with the virtual/real robot and plotter\n",
    "robot = VirtualRobot()\n",
    "\n",
    "# Initialize mapper\n",
    "# Requires a VirtualRobot object as input\n",
    "mapper = init_map(robot)\n",
    "\n",
    "# Initialize your localization object\n",
    "# Requires a VirtualRobot object and a Mapper object as inputs\n",
    "loc = BaseLocalization(robot, mapper)\n",
    "\n",
    "# Visualize the map (described using line segments) in the plotter\n",
    "loc.plotter.visualize_map()"
   ]
  },
  {
   "cell_type": "markdown",
   "metadata": {},
   "source": [
    "## 1. Find the grid indices of (0,0,0)"
   ]
  },
  {
   "cell_type": "code",
   "execution_count": 4,
   "metadata": {},
   "outputs": [],
   "source": [
    "x=0\n",
    "y=0 \n",
    "a=0\n",
    "cx, cy, cz = mapper.to_map(x,y,a)\n",
    "print(cx, cy, cz)"
   ]
  },
  {
   "cell_type": "markdown",
   "metadata": {},
   "source": [
    "<hr>\n",
    "\n",
    "## 2. Find the the continuous world cordinates of the grid index from the previous cell\n",
    "\n",
    "Explain the result."
   ]
  },
  {
   "cell_type": "code",
   "execution_count": null,
   "metadata": {},
   "outputs": [],
   "source": [
    "mapper.from_map(cx, cy, cz)"
   ]
  },
  {
   "cell_type": "markdown",
   "metadata": {},
   "source": [
    "<hr>\n",
    "\n",
    "## 3. Normalize angles to the tange [-180,180]\n",
    "Why do we need to do this?"
   ]
  },
  {
   "cell_type": "code",
   "execution_count": null,
   "metadata": {},
   "outputs": [],
   "source": [
    "# Note that the angles are in degrees\n",
    "for a in [30,-180,180,360,530,-10]:\n",
    "    na = loc.mapper.normalize_angle(a)\n",
    "    print(\"{:4d}   --->  {:4d}\".format(a, na))"
   ]
  },
  {
   "cell_type": "markdown",
   "metadata": {},
   "source": [
    "<hr>\n",
    "\n",
    "## 4. Get Views/True Measurement Data\n",
    "Get the true measurement at world coodrinates (-1,0,30)"
   ]
  },
  {
   "cell_type": "code",
   "execution_count": null,
   "metadata": {},
   "outputs": [],
   "source": [
    "cx, cy, ca = mapper.to_map(-1,0,30)\n",
    "\n",
    "# Using the function get_views\n",
    "print(loc.mapper.get_views(cx, cy, ca))\n",
    "print()\n",
    "\n",
    "# Using the numpy variable obs_views\n",
    "print(loc.mapper.obs_views[cx, cy, ca, :])"
   ]
  },
  {
   "cell_type": "markdown",
   "metadata": {},
   "source": [
    "<hr> \n",
    "\n",
    "## 5. Plotter\n",
    "(For Visualization purposes, not required for the Bayes filter implementation)\n",
    "\n",
    "5.1 Plot the true measurement data at the pose (0,0,0). <br>\n",
    "5.2 Plot the observation data at the pose (0,0,0)"
   ]
  },
  {
   "cell_type": "code",
   "execution_count": null,
   "metadata": {},
   "outputs": [],
   "source": [
    "# Plots only for the pose (0,0,0)\n",
    "# Add a transformation matrix to make it work for other poses\n",
    "def plot_data(data, cx, cy, ca, plot_type):\n",
    "    a_delta = loc.mapper.RAY_TRACING_ANGLE_INCREMENT\n",
    "\n",
    "    rx, ry, ra = loc.mapper.from_map(cx, cy, ca)\n",
    "    cur_a = ra\n",
    "\n",
    "    for view in data:\n",
    "        x = rx + view*np.cos(np.radians(cur_a))\n",
    "        y = ry + view*np.sin(np.radians(cur_a))\n",
    "        print(\"Hit Point: \", x,y)\n",
    "        loc.plotter.plot_point(x,y,plot_type)\n",
    "\n",
    "        cur_a = cur_a + a_delta\n",
    "        time.sleep(1)"
   ]
  },
  {
   "cell_type": "code",
   "execution_count": null,
   "metadata": {},
   "outputs": [],
   "source": [
    "cx, cy, ca = mapper.to_map(0,0,0)\n",
    "\n",
    "# Get the true measurements\n",
    "obs_views = loc.mapper.get_views(cx, cy, ca)\n",
    "\n",
    "# Reset Plotter and robot pose\n",
    "loc.robot.reset()\n",
    "loc.plotter.reset_plot()\n",
    "\n",
    "# Plot in green\n",
    "plot_data(obs_views, cx, cy, ca, GT)"
   ]
  },
  {
   "cell_type": "code",
   "execution_count": null,
   "metadata": {},
   "outputs": [],
   "source": [
    "cx, cy, ca = mapper.to_map(0,0,0)\n",
    "\n",
    "# Perform rotation behaviour to get observation data at current pose\n",
    "loc.get_observation_data()\n",
    "\n",
    "# Plot in blue\n",
    "plot_data(loc.obs_range_data, cx, cy, ca, ODOM)"
   ]
  },
  {
   "cell_type": "markdown",
   "metadata": {},
   "source": [
    "<hr>\n",
    "\n",
    "## 6. Bayes Filter\n",
    "6.1 How many \"for\" loops in the prediction step? <br>\n",
    "6.2 How many \"for\" loops in the update step? <br>\n",
    "6.3 Do you iterate through discrete grid cells or continous coordinates? <br>\n",
    "6.4 The motion and sensor model operate in the discrete grid space or the conitinous world space? <br>\n",
    "6.4 Where do you use the functions \"from_map()\" and \"to_map()\"? <br>\n",
    "6.5 In reference to the code, what is the belief of the robot and what is the most probable state? <br>\n"
   ]
  },
  {
   "cell_type": "code",
   "execution_count": null,
   "metadata": {},
   "outputs": [],
   "source": []
  },
  {
   "cell_type": "markdown",
   "metadata": {},
   "source": [
    "[Bayes Filter Algorithm](../Figs/bayes_filter.png)"
   ]
  },
  {
   "cell_type": "markdown",
   "metadata": {},
   "source": [
    "<hr>\n",
    "\n",
    "## 7. Prediction Statistics, Update Statistics and Visualizing Grid Beliefs\n",
    "Check out the function **print_prediction_stats()** in class **Mapper**. <br>\n",
    "Re-use the code to write your statistics function for debugging and/or supporting your writeup."
   ]
  },
  {
   "cell_type": "code",
   "execution_count": null,
   "metadata": {},
   "outputs": [],
   "source": []
  }
 ],
 "metadata": {
  "kernelspec": {
   "display_name": "Python 3",
   "language": "python",
   "name": "python3"
  },
  "language_info": {
   "codemirror_mode": {
    "name": "ipython",
    "version": 3
   },
   "file_extension": ".py",
   "mimetype": "text/x-python",
   "name": "python",
   "nbconvert_exporter": "python",
   "pygments_lexer": "ipython3",
   "version": "3.6.9"
  }
 },
 "nbformat": 4,
 "nbformat_minor": 4
}
