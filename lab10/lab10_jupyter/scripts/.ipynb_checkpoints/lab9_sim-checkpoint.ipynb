{
 "cells": [
  {
   "cell_type": "markdown",
   "metadata": {},
   "source": [
    "# Lab 9: Grid Localization using Bayes Filter on the Virtual Robot\n",
    "\n",
    "#### <span style=\"color:rgb(0,150,0)\">It is recommended that you close any heavy-duty applications running on your system while working on this lab.</span>\n",
    "\n",
    "#### This notebook showcases localization results of the **Localization** module (defined in *robot_interface.py*) for the virtual robot.\n",
    "\n",
    "<hr>\n"
   ]
  },
  {
   "cell_type": "code",
   "execution_count": 1,
   "metadata": {},
   "outputs": [],
   "source": [
    "# Automatically reload changes in python modules\n",
    "%load_ext autoreload\n",
    "%autoreload 2\n",
    "\n",
    "# Import classes\n",
    "from robot_interface import *\n",
    "\n",
    "import time\n",
    "import numpy as np\n",
    "import rospy\n",
    "from Traj import Trajectory"
   ]
  },
  {
   "cell_type": "code",
   "execution_count": 2,
   "metadata": {},
   "outputs": [],
   "source": [
    "from gridmap import OccupancyGridMap\n",
    "import matplotlib.pyplot as plt\n",
    "from a_star import a_star\n",
    "from utils import plot_path"
   ]
  },
  {
   "cell_type": "code",
   "execution_count": 3,
   "metadata": {},
   "outputs": [
    {
     "name": "stdout",
     "output_type": "stream",
     "text": [
      "Using python version: 3.6.9 (default, Jul 17 2020, 12:50:27) \n",
      "[GCC 8.4.0] \n",
      "\n",
      "Initializing Node\n",
      "Initializing Virtual Robot\n",
      "Initializing beliefs with a Uniform Distribution\n",
      "Uniform Belief with each cell value:  0.0001388888888888889\n"
     ]
    }
   ],
   "source": [
    "# Instantiate VirtualRobot to communicate with the real robot\n",
    "robot = VirtualRobot()\n",
    "\n",
    "# Instantiate Mapper\n",
    "# Start points for each line segment describing the map\n",
    "start_points = np.array([[0,0],\n",
    "                         [3.04,0],\n",
    "                         [3.04,3.04],\n",
    "                         [0,3.04],\n",
    "                         [0,0],\n",
    "                         [0,0.608],\n",
    "                         [0.608,0.608],\n",
    "                         [0.608,0.912],\n",
    "                         [0,0.912],\n",
    "                         [0,2.128],\n",
    "                         [1.216,2.128],\n",
    "                         [1.216,1.52],\n",
    "                         [2.584,1.52],\n",
    "                         [2.584,0.912],\n",
    "                         [1.52,0.304]])\n",
    "\n",
    "# End points for each line segment describing the map\n",
    "end_points = np.array([  [3.04,0],\n",
    "                         [3.04,3.04],\n",
    "                         [0,3.04],\n",
    "                         [0,0],\n",
    "                         [0,0.608],\n",
    "                         [0.608,0.608],\n",
    "                         [0.608,0.912],\n",
    "                         [0,0.912],\n",
    "                         [0,2.128],\n",
    "                         [1.216,2.128],\n",
    "                         [1.216,1.52],\n",
    "                         [2.584,1.52],\n",
    "                         [2.584,0.912],\n",
    "                         [1.52,0.304],\n",
    "                         [0,0]])\n",
    "\n",
    "# Requires a RealRobot object as input\n",
    "mapper = Mapper(min_x=0, max_x=3.04, min_y=0, max_y=3.04, min_a=-180, max_a=180,\n",
    "                cell_size_x=0.152, cell_size_y=0.152, cell_size_a=20,\n",
    "                max_cells_x=20, max_cells_y=20, max_cells_a=18,\n",
    "                ray_length=7, lines=[start_points, end_points], obs_per_cell=18, \n",
    "                robot=robot)\n",
    "#mapper.populate_views()\n",
    "\n",
    "# Instantiate Localization \n",
    "odom_trans_sigma = 0.33\n",
    "odom_rot_sigma = 15\n",
    "sensor_sigma = 0.11\n",
    "\n",
    "# Requires a RealRobot object and a Mapper object as inputs\n",
    "loc = Localization(robot, mapper, sensor_sigma, odom_trans_sigma, odom_rot_sigma)\n",
    "\n",
    "# Visualize the map (described using line segments) in the plotter\n",
    "loc.plotter.visualize_map()"
   ]
  },
  {
   "cell_type": "code",
   "execution_count": 48,
   "metadata": {},
   "outputs": [
    {
     "data": {
      "image/png": "[encoded data removed]",
      "text/plain": [
       "<Figure size 432x288 with 1 Axes>"
      ]
     },
     "metadata": {
      "needs_background": "light"
     },
     "output_type": "display_data"
    }
   ],
   "source": [
    "import subprocess\n",
    "\n",
    "subprocess.run([\"/bin/bash\",\"-c\", \"wmctrl -a 'Plotter'\"])\n",
    "subprocess.run([\"/bin/bash\",\"-c\",\"scrot -d 4 -u -quality 100 map.png\"])\n",
    "gmap = OccupancyGridMap.from_png('map.png', 1)\n",
    "gmap.plot()"
   ]
  },
  {
   "cell_type": "code",
   "execution_count": 11,
   "metadata": {},
   "outputs": [
    {
     "name": "stdout",
     "output_type": "stream",
     "text": [
      "(6, 7): 1\n",
      "Start cell:  (14, 4)\n",
      "Goal cell:  (12, 12)\n"
     ]
    },
    {
     "data": {
      "image/png": "[encoded data removed]",
      "text/plain": [
       "<Figure size 432x288 with 1 Axes>"
      ]
     },
     "metadata": {
      "needs_background": "light"
     },
     "output_type": "display_data"
    },
    {
     "name": "stdout",
     "output_type": "stream",
     "text": [
      "-----------------\n",
      "(14, 4), (12, 12)\n",
      "goal reached\n"
     ]
    },
    {
     "data": {
      "image/png": "[encoded data removed]",
      "text/plain": [
       "<Figure size 432x288 with 1 Axes>"
      ]
     },
     "metadata": {
      "needs_background": "light"
     },
     "output_type": "display_data"
    },
    {
     "name": "stdout",
     "output_type": "stream",
     "text": [
      "Start cell:  (4, 6)\n",
      "Goal cell:  (10, 13)\n"
     ]
    },
    {
     "data": {
      "image/png": "[encoded data removed]",
      "text/plain": [
       "<Figure size 432x288 with 1 Axes>"
      ]
     },
     "metadata": {
      "needs_background": "light"
     },
     "output_type": "display_data"
    },
    {
     "name": "stdout",
     "output_type": "stream",
     "text": [
      "-----------------\n",
      "(4, 6), (10, 13)\n",
      "goal reached\n"
     ]
    },
    {
     "data": {
      "image/png": "[encoded data removed]",
      "text/plain": [
       "<Figure size 432x288 with 1 Axes>"
      ]
     },
     "metadata": {
      "needs_background": "light"
     },
     "output_type": "display_data"
    },
    {
     "name": "stdout",
     "output_type": "stream",
     "text": [
      "Start cell:  (11, 7)\n",
      "Goal cell:  (4, 2)\n"
     ]
    },
    {
     "data": {
      "image/png": "[encoded data removed]",
      "text/plain": [
       "<Figure size 432x288 with 1 Axes>"
      ]
     },
     "metadata": {
      "needs_background": "light"
     },
     "output_type": "display_data"
    },
    {
     "name": "stdout",
     "output_type": "stream",
     "text": [
      "-----------------\n",
      "(11, 7), (4, 2)\n",
      "goal reached\n"
     ]
    },
    {
     "data": {
      "image/png": "[encoded data removed]",
      "text/plain": [
       "<Figure size 432x288 with 1 Axes>"
      ]
     },
     "metadata": {
      "needs_background": "light"
     },
     "output_type": "display_data"
    },
    {
     "name": "stdout",
     "output_type": "stream",
     "text": [
      "Start cell:  (8, 15)\n",
      "Goal cell:  (13, 6)\n"
     ]
    },
    {
     "data": {
      "image/png": "[encoded data removed]",
      "text/plain": [
       "<Figure size 432x288 with 1 Axes>"
      ]
     },
     "metadata": {
      "needs_background": "light"
     },
     "output_type": "display_data"
    },
    {
     "name": "stdout",
     "output_type": "stream",
     "text": [
      "-----------------\n",
      "(8, 15), (13, 6)\n",
      "Goal is not reachable\n"
     ]
    },
    {
     "data": {
      "image/png": "[encoded data removed]",
      "text/plain": [
       "<Figure size 432x288 with 1 Axes>"
      ]
     },
     "metadata": {
      "needs_background": "light"
     },
     "output_type": "display_data"
    },
    {
     "name": "stdout",
     "output_type": "stream",
     "text": [
      "Start cell:  (14, 7)\n",
      "Goal cell:  (8, 14)\n"
     ]
    },
    {
     "data": {
      "image/png": "[encoded data removed]",
      "text/plain": [
       "<Figure size 432x288 with 1 Axes>"
      ]
     },
     "metadata": {
      "needs_background": "light"
     },
     "output_type": "display_data"
    },
    {
     "name": "stdout",
     "output_type": "stream",
     "text": [
      "-----------------\n",
      "(14, 7), (8, 14)\n",
      "Goal is not reachable\n"
     ]
    },
    {
     "data": {
      "image/png": "[encoded data removed]",
      "text/plain": [
       "<Figure size 432x288 with 1 Axes>"
      ]
     },
     "metadata": {
      "needs_background": "light"
     },
     "output_type": "display_data"
    },
    {
     "name": "stdout",
     "output_type": "stream",
     "text": [
      "Start cell:  (8, 15)\n",
      "Goal cell:  (6, 3)\n"
     ]
    },
    {
     "data": {
      "image/png": "[encoded data removed]",
      "text/plain": [
       "<Figure size 432x288 with 1 Axes>"
      ]
     },
     "metadata": {
      "needs_background": "light"
     },
     "output_type": "display_data"
    },
    {
     "name": "stdout",
     "output_type": "stream",
     "text": [
      "-----------------\n",
      "(8, 15), (6, 3)\n",
      "Goal is not reachable\n"
     ]
    },
    {
     "data": {
      "image/png": "[encoded data removed]",
      "text/plain": [
       "<Figure size 432x288 with 1 Axes>"
      ]
     },
     "metadata": {
      "needs_background": "light"
     },
     "output_type": "display_data"
    },
    {
     "name": "stdout",
     "output_type": "stream",
     "text": [
      "Start cell:  (11, 7)\n",
      "Goal cell:  (4, 4)\n"
     ]
    },
    {
     "data": {
      "image/png": "[encoded data removed]",
      "text/plain": [
       "<Figure size 432x288 with 1 Axes>"
      ]
     },
     "metadata": {
      "needs_background": "light"
     },
     "output_type": "display_data"
    },
    {
     "name": "stdout",
     "output_type": "stream",
     "text": [
      "-----------------\n",
      "(11, 7), (4, 4)\n",
      "Goal is not reachable\n"
     ]
    },
    {
     "data": {
      "image/png": "[encoded data removed]",
      "text/plain": [
       "<Figure size 432x288 with 1 Axes>"
      ]
     },
     "metadata": {
      "needs_background": "light"
     },
     "output_type": "display_data"
    },
    {
     "name": "stdout",
     "output_type": "stream",
     "text": [
      "Start cell:  (10, 7)\n",
      "Goal cell:  (8, 16)\n"
     ]
    },
    {
     "data": {
      "image/png": "[encoded data removed]",
      "text/plain": [
       "<Figure size 432x288 with 1 Axes>"
      ]
     },
     "metadata": {
      "needs_background": "light"
     },
     "output_type": "display_data"
    },
    {
     "name": "stdout",
     "output_type": "stream",
     "text": [
      "-----------------\n",
      "(10, 7), (8, 16)\n",
      "Goal is not reachable\n"
     ]
    },
    {
     "data": {
      "image/png": "[encoded data removed]",
      "text/plain": [
       "<Figure size 432x288 with 1 Axes>"
      ]
     },
     "metadata": {
      "needs_background": "light"
     },
     "output_type": "display_data"
    },
    {
     "name": "stdout",
     "output_type": "stream",
     "text": [
      "Start cell:  (11, 5)\n",
      "Goal cell:  (8, 15)\n"
     ]
    },
    {
     "data": {
      "image/png": "[encoded data removed]",
      "text/plain": [
       "<Figure size 432x288 with 1 Axes>"
      ]
     },
     "metadata": {
      "needs_background": "light"
     },
     "output_type": "display_data"
    },
    {
     "name": "stdout",
     "output_type": "stream",
     "text": [
      "-----------------\n",
      "(11, 5), (8, 15)\n",
      "Goal is not reachable\n"
     ]
    },
    {
     "data": {
      "image/png": "[encoded data removed]",
      "text/plain": [
       "<Figure size 432x288 with 1 Axes>"
      ]
     },
     "metadata": {
      "needs_background": "light"
     },
     "output_type": "display_data"
    },
    {
     "name": "stdout",
     "output_type": "stream",
     "text": [
      "Start cell:  (15, 8)\n",
      "Goal cell:  (4, 3)\n"
     ]
    },
    {
     "data": {
      "image/png": "[encoded data removed]",
      "text/plain": [
       "<Figure size 432x288 with 1 Axes>"
      ]
     },
     "metadata": {
      "needs_background": "light"
     },
     "output_type": "display_data"
    },
    {
     "name": "stdout",
     "output_type": "stream",
     "text": [
      "-----------------\n",
      "(15, 8), (4, 3)\n",
      "Goal is not reachable\n"
     ]
    },
    {
     "data": {
      "image/png": "[encoded data removed]",
      "text/plain": [
       "<Figure size 432x288 with 1 Axes>"
      ]
     },
     "metadata": {
      "needs_background": "light"
     },
     "output_type": "display_data"
    }
   ],
   "source": [
    "from planner_query import *\n",
    "\n",
    "grid =  [ 1,1,1,1,1,1,1,1,1,1,1,1,1,1,1,1,1,1,1,1,1,1,1,\n",
    "          1,1,1,1,1,1,1,1,1,1,1,1,1,1,1,1,1,1,1,1,1,1,1,\n",
    "          1,1,1,1,1,1,1,1,1,1,1,1,1,1,1,1,1,1,1,1,1,1,1,\n",
    "          1,1,1,1,1,1,1,1,1,1,1,1,1,1,1,1,1,1,1,1,1,1,1,\n",
    "          1,0,0,0,0,0,0,1,1,1,1,1,1,1,1,1,1,1,1,1,1,1,1,\n",
    "          1,0,0,0,0,0,0,1,1,1,1,1,1,1,1,1,1,1,1,1,1,1,1,\n",
    "          1,0,0,0,0,0,0,1,1,1,1,1,1,1,1,1,1,1,1,1,1,1,1,\n",
    "          1,0,0,0,0,0,0,0,0,0,0,0,0,0,0,0,0,1,1,1,1,1,1,\n",
    "          1,0,0,0,0,0,0,0,0,0,0,0,0,0,0,0,0,1,1,1,1,1,1,\n",
    "          1,0,0,0,0,0,0,0,0,0,0,0,0,0,0,0,0,1,1,1,1,1,1,\n",
    "          1,0,0,0,0,0,0,0,0,0,0,0,0,0,0,0,1,1,1,1,1,1,1,\n",
    "          1,1,1,1,0,0,0,0,0,0,0,0,0,0,0,1,1,1,1,1,1,1,1,\n",
    "          1,1,1,1,0,0,0,0,0,0,0,0,0,0,1,1,1,1,1,1,1,1,1,\n",
    "          1,0,0,0,0,0,0,0,0,0,0,0,0,1,1,1,1,1,1,1,1,1,1,\n",
    "          1,0,0,0,0,0,0,0,0,0,0,0,1,1,1,1,1,1,1,1,1,1,1,\n",
    "          1,0,0,0,0,0,0,0,0,0,1,1,1,1,1,1,1,1,1,1,1,1,1,\n",
    "          1,1,1,1,1,1,1,1,1,1,1,1,1,1,1,1,1,1,1,1,1,1,1]\n",
    "grid = np.array(grid, dtype=np.uint8)\n",
    "grid.resize(17,23)\n",
    "\n",
    "# Instantiate the class PlannerQuery\n",
    "pq = PlannerQuery(grid)\n",
    "\n",
    "#print(grid.shape)\n",
    "\n",
    "#for j in range(0,grid.shape[1]):\n",
    "#    for i in range(0,grid.shape[0]):\n",
    "#        print(str((j,i)) + \": \" + str(gmap.get_data((j,i))))\n",
    "print(str((6,7)) + \": \" + str(gmap.get_data((6,7))))\n",
    "        \n",
    "for i in range(0,10):\n",
    "    # Generate a start and goal pair\n",
    "    (start_node, goal_node) = pq.generate(plot=True)\n",
    "    gmap = OccupancyGridMap.from_data(grid,1,1)\n",
    "    gmap.plot()\n",
    "    print(\"-----------------\")\n",
    "    path, path_px = a_star(start_node, goal_node, gmap,movement=\"4N\")\n",
    "\n",
    "\n",
    "    if path:\n",
    "        # plot resulting path in pixels over the map\n",
    "        plot_path(path_px, loc)\n",
    "    else:\n",
    "        print('Goal is not reachable')\n",
    "\n",
    "        # plot start and goal points over the map (in pixels)\n",
    "        start_node_px = gmap.get_index_from_coordinates(start_node[0], start_node[1])\n",
    "        goal_node_px = gmap.get_index_from_coordinates(goal_node[0], goal_node[1])\n",
    "\n",
    "        plt.plot(start_node_px[1], start_node_px[0], 'ro')\n",
    "        plt.plot(goal_node_px[1], goal_node_px[0], 'go')\n",
    "\n",
    "    plt.show()"
   ]
  },
  {
   "cell_type": "code",
   "execution_count": 12,
   "metadata": {},
   "outputs": [
    {
     "ename": "KeyboardInterrupt",
     "evalue": "",
     "output_type": "error",
     "traceback": [
      "\u001b[0;31m---------------------------------------------------------------------------\u001b[0m",
      "\u001b[0;31mKeyboardInterrupt\u001b[0m                         Traceback (most recent call last)",
      "\u001b[0;32m<ipython-input-12-b66d683dcc3a>\u001b[0m in \u001b[0;36m<module>\u001b[0;34m\u001b[0m\n\u001b[1;32m      1\u001b[0m \u001b[0;31m# load the map\u001b[0m\u001b[0;34m\u001b[0m\u001b[0;34m\u001b[0m\u001b[0;34m\u001b[0m\u001b[0m\n\u001b[1;32m      2\u001b[0m \u001b[0;31m#gmap = OccupancyGridMap.from_png('maps/example_map_binary.png', 1)\u001b[0m\u001b[0;34m\u001b[0m\u001b[0;34m\u001b[0m\u001b[0;34m\u001b[0m\u001b[0m\n\u001b[0;32m----> 3\u001b[0;31m \u001b[0mgmap\u001b[0m \u001b[0;34m=\u001b[0m \u001b[0mOccupancyGridMap\u001b[0m\u001b[0;34m.\u001b[0m\u001b[0mfrom_png\u001b[0m\u001b[0;34m(\u001b[0m\u001b[0;34m'map.png'\u001b[0m\u001b[0;34m,\u001b[0m \u001b[0;36m1\u001b[0m\u001b[0;34m)\u001b[0m\u001b[0;34m\u001b[0m\u001b[0;34m\u001b[0m\u001b[0m\n\u001b[0m\u001b[1;32m      4\u001b[0m \u001b[0;34m\u001b[0m\u001b[0m\n\u001b[1;32m      5\u001b[0m \u001b[0;31m# set a start and an end node (in meters)\u001b[0m\u001b[0;34m\u001b[0m\u001b[0;34m\u001b[0m\u001b[0;34m\u001b[0m\u001b[0m\n",
      "\u001b[0;32m~/Desktop/ece4960/lab10/lab10_jupyter/scripts/gridmap.py\u001b[0m in \u001b[0;36mfrom_png\u001b[0;34m(filename, cell_size)\u001b[0m\n\u001b[1;32m    200\u001b[0m         \u001b[0;34m:\u001b[0m\u001b[0;32mreturn\u001b[0m\u001b[0;34m:\u001b[0m \u001b[0mthe\u001b[0m \u001b[0mcreated\u001b[0m \u001b[0mOccupancyGridMap\u001b[0m\u001b[0;34m\u001b[0m\u001b[0;34m\u001b[0m\u001b[0m\n\u001b[1;32m    201\u001b[0m         \"\"\"\n\u001b[0;32m--> 202\u001b[0;31m         \u001b[0mogm_data\u001b[0m \u001b[0;34m=\u001b[0m \u001b[0mpng_to_ogm\u001b[0m\u001b[0;34m(\u001b[0m\u001b[0mfilename\u001b[0m\u001b[0;34m,\u001b[0m \u001b[0mnormalized\u001b[0m\u001b[0;34m=\u001b[0m\u001b[0;32mTrue\u001b[0m\u001b[0;34m)\u001b[0m\u001b[0;34m\u001b[0m\u001b[0;34m\u001b[0m\u001b[0m\n\u001b[0m\u001b[1;32m    203\u001b[0m         \u001b[0mogm_data_arr\u001b[0m \u001b[0;34m=\u001b[0m \u001b[0mnumpy\u001b[0m\u001b[0;34m.\u001b[0m\u001b[0marray\u001b[0m\u001b[0;34m(\u001b[0m\u001b[0mogm_data\u001b[0m\u001b[0;34m)\u001b[0m\u001b[0;34m\u001b[0m\u001b[0;34m\u001b[0m\u001b[0m\n\u001b[1;32m    204\u001b[0m         \u001b[0mogm\u001b[0m \u001b[0;34m=\u001b[0m \u001b[0mOccupancyGridMap\u001b[0m\u001b[0;34m(\u001b[0m\u001b[0mogm_data_arr\u001b[0m\u001b[0;34m,\u001b[0m \u001b[0mcell_size\u001b[0m\u001b[0;34m)\u001b[0m\u001b[0;34m\u001b[0m\u001b[0;34m\u001b[0m\u001b[0m\n",
      "\u001b[0;32m~/Desktop/ece4960/lab10/lab10_jupyter/scripts/utils.py\u001b[0m in \u001b[0;36mpng_to_ogm\u001b[0;34m(filename, normalized, origin)\u001b[0m\n\u001b[1;32m     32\u001b[0m     \u001b[0mr\u001b[0m \u001b[0;34m=\u001b[0m \u001b[0mpng\u001b[0m\u001b[0;34m.\u001b[0m\u001b[0mReader\u001b[0m\u001b[0;34m(\u001b[0m\u001b[0mfilename\u001b[0m\u001b[0;34m)\u001b[0m\u001b[0;34m\u001b[0m\u001b[0;34m\u001b[0m\u001b[0m\n\u001b[1;32m     33\u001b[0m     \u001b[0mimg\u001b[0m \u001b[0;34m=\u001b[0m \u001b[0mr\u001b[0m\u001b[0;34m.\u001b[0m\u001b[0mread\u001b[0m\u001b[0;34m(\u001b[0m\u001b[0;34m)\u001b[0m\u001b[0;34m\u001b[0m\u001b[0;34m\u001b[0m\u001b[0m\n\u001b[0;32m---> 34\u001b[0;31m     \u001b[0mimg_data\u001b[0m \u001b[0;34m=\u001b[0m \u001b[0mlist\u001b[0m\u001b[0;34m(\u001b[0m\u001b[0mimg\u001b[0m\u001b[0;34m[\u001b[0m\u001b[0;36m2\u001b[0m\u001b[0;34m]\u001b[0m\u001b[0;34m)\u001b[0m\u001b[0;34m\u001b[0m\u001b[0;34m\u001b[0m\u001b[0m\n\u001b[0m\u001b[1;32m     35\u001b[0m \u001b[0;34m\u001b[0m\u001b[0m\n\u001b[1;32m     36\u001b[0m     \u001b[0mout_img\u001b[0m \u001b[0;34m=\u001b[0m \u001b[0;34m[\u001b[0m\u001b[0;34m]\u001b[0m\u001b[0;34m\u001b[0m\u001b[0;34m\u001b[0m\u001b[0m\n",
      "\u001b[0;32m~/.local/lib/python3.6/site-packages/png.py\u001b[0m in \u001b[0;36m_iter_bytes_to_values\u001b[0;34m(self, byte_rows)\u001b[0m\n\u001b[1;32m   1526\u001b[0m         \"\"\"\n\u001b[1;32m   1527\u001b[0m \u001b[0;34m\u001b[0m\u001b[0m\n\u001b[0;32m-> 1528\u001b[0;31m         \u001b[0;32mfor\u001b[0m \u001b[0mrow\u001b[0m \u001b[0;32min\u001b[0m \u001b[0mbyte_rows\u001b[0m\u001b[0;34m:\u001b[0m\u001b[0;34m\u001b[0m\u001b[0;34m\u001b[0m\u001b[0m\n\u001b[0m\u001b[1;32m   1529\u001b[0m             \u001b[0;32myield\u001b[0m \u001b[0mself\u001b[0m\u001b[0;34m.\u001b[0m\u001b[0m_bytes_to_values\u001b[0m\u001b[0;34m(\u001b[0m\u001b[0mrow\u001b[0m\u001b[0;34m)\u001b[0m\u001b[0;34m\u001b[0m\u001b[0;34m\u001b[0m\u001b[0m\n\u001b[1;32m   1530\u001b[0m \u001b[0;34m\u001b[0m\u001b[0m\n",
      "\u001b[0;32m~/.local/lib/python3.6/site-packages/png.py\u001b[0m in \u001b[0;36m_iter_straight_packed\u001b[0;34m(self, byte_blocks)\u001b[0m\n\u001b[1;32m   1574\u001b[0m                 \u001b[0mscanline\u001b[0m \u001b[0;34m=\u001b[0m \u001b[0ma\u001b[0m\u001b[0;34m[\u001b[0m\u001b[0;36m1\u001b[0m\u001b[0;34m:\u001b[0m \u001b[0mrb\u001b[0m \u001b[0;34m+\u001b[0m \u001b[0;36m1\u001b[0m\u001b[0;34m]\u001b[0m\u001b[0;34m\u001b[0m\u001b[0;34m\u001b[0m\u001b[0m\n\u001b[1;32m   1575\u001b[0m                 \u001b[0;32mdel\u001b[0m \u001b[0ma\u001b[0m\u001b[0;34m[\u001b[0m\u001b[0;34m:\u001b[0m \u001b[0mrb\u001b[0m \u001b[0;34m+\u001b[0m \u001b[0;36m1\u001b[0m\u001b[0;34m]\u001b[0m\u001b[0;34m\u001b[0m\u001b[0;34m\u001b[0m\u001b[0m\n\u001b[0;32m-> 1576\u001b[0;31m                 \u001b[0mrecon\u001b[0m \u001b[0;34m=\u001b[0m \u001b[0mself\u001b[0m\u001b[0;34m.\u001b[0m\u001b[0mundo_filter\u001b[0m\u001b[0;34m(\u001b[0m\u001b[0mfilter_type\u001b[0m\u001b[0;34m,\u001b[0m \u001b[0mscanline\u001b[0m\u001b[0;34m,\u001b[0m \u001b[0mrecon\u001b[0m\u001b[0;34m)\u001b[0m\u001b[0;34m\u001b[0m\u001b[0;34m\u001b[0m\u001b[0m\n\u001b[0m\u001b[1;32m   1577\u001b[0m                 \u001b[0;32myield\u001b[0m \u001b[0mrecon\u001b[0m\u001b[0;34m\u001b[0m\u001b[0;34m\u001b[0m\u001b[0m\n\u001b[1;32m   1578\u001b[0m         \u001b[0;32mif\u001b[0m \u001b[0mlen\u001b[0m\u001b[0;34m(\u001b[0m\u001b[0ma\u001b[0m\u001b[0;34m)\u001b[0m \u001b[0;34m!=\u001b[0m \u001b[0;36m0\u001b[0m\u001b[0;34m:\u001b[0m\u001b[0;34m\u001b[0m\u001b[0;34m\u001b[0m\u001b[0m\n",
      "\u001b[0;32m~/.local/lib/python3.6/site-packages/png.py\u001b[0m in \u001b[0;36mundo_filter\u001b[0;34m(self, filter_type, scanline, previous)\u001b[0m\n\u001b[1;32m   1463\u001b[0m               \u001b[0mundo_filter_average\u001b[0m\u001b[0;34m,\u001b[0m\u001b[0;34m\u001b[0m\u001b[0;34m\u001b[0m\u001b[0m\n\u001b[1;32m   1464\u001b[0m               undo_filter_paeth)[filter_type]\n\u001b[0;32m-> 1465\u001b[0;31m         \u001b[0mfn\u001b[0m\u001b[0;34m(\u001b[0m\u001b[0mfu\u001b[0m\u001b[0;34m,\u001b[0m \u001b[0mscanline\u001b[0m\u001b[0;34m,\u001b[0m \u001b[0mprevious\u001b[0m\u001b[0;34m,\u001b[0m \u001b[0mresult\u001b[0m\u001b[0;34m)\u001b[0m\u001b[0;34m\u001b[0m\u001b[0;34m\u001b[0m\u001b[0m\n\u001b[0m\u001b[1;32m   1466\u001b[0m         \u001b[0;32mreturn\u001b[0m \u001b[0mresult\u001b[0m\u001b[0;34m\u001b[0m\u001b[0;34m\u001b[0m\u001b[0m\n\u001b[1;32m   1467\u001b[0m \u001b[0;34m\u001b[0m\u001b[0m\n",
      "\u001b[0;32m~/.local/lib/python3.6/site-packages/png.py\u001b[0m in \u001b[0;36mundo_filter_paeth\u001b[0;34m(filter_unit, scanline, previous, result)\u001b[0m\n\u001b[1;32m   2263\u001b[0m         \u001b[0mp\u001b[0m \u001b[0;34m=\u001b[0m \u001b[0ma\u001b[0m \u001b[0;34m+\u001b[0m \u001b[0mb\u001b[0m \u001b[0;34m-\u001b[0m \u001b[0mc\u001b[0m\u001b[0;34m\u001b[0m\u001b[0;34m\u001b[0m\u001b[0m\n\u001b[1;32m   2264\u001b[0m         \u001b[0mpa\u001b[0m \u001b[0;34m=\u001b[0m \u001b[0mabs\u001b[0m\u001b[0;34m(\u001b[0m\u001b[0mp\u001b[0m \u001b[0;34m-\u001b[0m \u001b[0ma\u001b[0m\u001b[0;34m)\u001b[0m\u001b[0;34m\u001b[0m\u001b[0;34m\u001b[0m\u001b[0m\n\u001b[0;32m-> 2265\u001b[0;31m         \u001b[0mpb\u001b[0m \u001b[0;34m=\u001b[0m \u001b[0mabs\u001b[0m\u001b[0;34m(\u001b[0m\u001b[0mp\u001b[0m \u001b[0;34m-\u001b[0m \u001b[0mb\u001b[0m\u001b[0;34m)\u001b[0m\u001b[0;34m\u001b[0m\u001b[0;34m\u001b[0m\u001b[0m\n\u001b[0m\u001b[1;32m   2266\u001b[0m         \u001b[0mpc\u001b[0m \u001b[0;34m=\u001b[0m \u001b[0mabs\u001b[0m\u001b[0;34m(\u001b[0m\u001b[0mp\u001b[0m \u001b[0;34m-\u001b[0m \u001b[0mc\u001b[0m\u001b[0;34m)\u001b[0m\u001b[0;34m\u001b[0m\u001b[0;34m\u001b[0m\u001b[0m\n\u001b[1;32m   2267\u001b[0m         \u001b[0;32mif\u001b[0m \u001b[0mpa\u001b[0m \u001b[0;34m<=\u001b[0m \u001b[0mpb\u001b[0m \u001b[0;32mand\u001b[0m \u001b[0mpa\u001b[0m \u001b[0;34m<=\u001b[0m \u001b[0mpc\u001b[0m\u001b[0;34m:\u001b[0m\u001b[0;34m\u001b[0m\u001b[0;34m\u001b[0m\u001b[0m\n",
      "\u001b[0;31mKeyboardInterrupt\u001b[0m: "
     ]
    }
   ],
   "source": [
    "# load the map\n",
    "#gmap = OccupancyGridMap.from_png('maps/example_map_binary.png', 1)\n",
    "gmap = OccupancyGridMap.from_png('map.png', 1)\n",
    "\n",
    "# set a start and an end node (in meters)\n",
    "start_node = (360.0, 330.0)\n",
    "goal_node = (285.0, 86.0)\n",
    "\n",
    "# run A*\n",
    "path, path_px = a_star(start_node, goal_node, gmap, movement='4N')\n",
    "\n",
    "gmap.plot()\n",
    "\n",
    "if path:\n",
    "    # plot resulting path in pixels over the map\n",
    "    plot_path(path_px, loc)\n",
    "else:\n",
    "    print('Goal is not reachable')\n",
    "\n",
    "    # plot start and goal points over the map (in pixels)\n",
    "    start_node_px = gmap.get_index_from_coordinates(start_node[0], start_node[1])\n",
    "    goal_node_px = gmap.get_index_from_coordinates(goal_node[0], goal_node[1])\n",
    "\n",
    "    plt.plot(start_node_px[0], start_node_px[1], 'ro')\n",
    "    plt.plot(goal_node_px[0], goal_node_px[1], 'go')\n",
    "\n",
    "plt.show()"
   ]
  },
  {
   "cell_type": "code",
   "execution_count": 51,
   "metadata": {},
   "outputs": [],
   "source": [
    "cx,cy,ca = mapper.to_map(0,2.128,0)\n",
    "#mapper.get_views(cx,cy,ca)"
   ]
  },
  {
   "cell_type": "markdown",
   "metadata": {},
   "source": [
    "# Bayes filter on the virtual robot\n",
    "The cell below run the bayes filter algorithm for the pre-planned trajectory."
   ]
  },
  {
   "cell_type": "code",
   "execution_count": 52,
   "metadata": {},
   "outputs": [
    {
     "name": "stdout",
     "output_type": "stream",
     "text": [
      " | Resetting Robot pose\n",
      "Initializing beliefs with a Uniform Distribution\n",
      "Uniform Belief with each cell value:  0.0001388888888888889\n",
      " | Executing Observation Loop at: 30 deg/s\n",
      "Update Step\n",
      "     | Update Time:  0.007139444351196289\n",
      "\n",
      "---------- UPDATE STATS -----------\n",
      "GT index      :  (10, 10, 8)\n",
      "Bel index     :  (0, 0, 0) with prob =  0.0001388\n",
      "Bel_bar prob at index =  0.0001388888888888889\n",
      "\n",
      "GT     : (0.000, 0.000, -0.000)\n",
      "Belief   : (0.076, 0.076, -170.000)\n",
      "POS ERROR : (-0.076, -0.076, 170.000)\n",
      "---------- UPDATE STATS -----------\n",
      "\n",
      "\n",
      "----------------- 0 -----------------\n",
      " | Resetting Robot pose\n",
      "Prediction Step\n",
      "Uniform Belief with each cell value:  0.0\n",
      "     | Prediction Time:  0.032858848571777344\n",
      "\n",
      "---------- PREDICTION STATS -----------\n",
      "GT index            :  (12, 9, 7)\n",
      "Prior Bel index     :  (0, 0, 0) with prob =  nan\n",
      "POS ERROR      : (0.313, -0.171, 148.228)\n"
     ]
    },
    {
     "name": "stderr",
     "output_type": "stream",
     "text": [
      "/home/artemis/Desktop/ece4960/lab10/lab10_jupyter/scripts/robot_interface.py:557: RuntimeWarning: invalid value encountered in true_divide\n",
      "  self.bel_bar = self.bel_bar / np.sum(self.bel_bar)\n"
     ]
    },
    {
     "name": "stdout",
     "output_type": "stream",
     "text": [
      "---------- PREDICTION STATS -----------\n",
      " | Executing Observation Loop at: 30 deg/s\n",
      "Update Step\n",
      "     | Update Time:  0.010918617248535156\n",
      "\n",
      "---------- UPDATE STATS -----------\n",
      "GT index      :  (12, 9, 8)\n",
      "Bel index     :  (0, 0, 0) with prob =  nan\n",
      "Bel_bar prob at index =  nan\n",
      "\n",
      "GT     : (0.389, -0.095, -19.345)\n",
      "Belief   : (0.076, 0.076, -170.000)\n",
      "POS ERROR : (0.313, -0.171, 150.655)\n",
      "---------- UPDATE STATS -----------\n",
      "-------------------------------------\n",
      "\n",
      "\n",
      "----------------- 1 -----------------\n",
      "Prediction Step\n",
      "Uniform Belief with each cell value:  0.0\n",
      "     | Prediction Time:  0.03686070442199707\n",
      "\n",
      "---------- PREDICTION STATS -----------\n",
      "GT index            :  (14, 7, 8)\n",
      "Prior Bel index     :  (0, 0, 0) with prob =  nan\n",
      "POS ERROR      : (0.614, -0.505, 167.843)\n",
      "---------- PREDICTION STATS -----------\n",
      " | Executing Observation Loop at: 30 deg/s\n",
      "Update Step\n",
      "     | Update Time:  0.1723954677581787\n",
      "\n",
      "---------- UPDATE STATS -----------\n",
      "GT index      :  (14, 7, 9)\n",
      "Bel index     :  (0, 0, 0) with prob =  nan\n",
      "Bel_bar prob at index =  nan\n",
      "\n",
      "GT     : (0.690, -0.429, 0.843)\n",
      "Belief   : (0.076, 0.076, -170.000)\n",
      "POS ERROR : (0.614, -0.505, 170.843)\n",
      "---------- UPDATE STATS -----------\n",
      "-------------------------------------\n",
      "\n",
      "\n",
      "----------------- 2 -----------------\n",
      "Prediction Step\n",
      "Uniform Belief with each cell value:  0.0\n",
      "     | Prediction Time:  0.058954715728759766\n",
      "\n",
      "---------- PREDICTION STATS -----------\n",
      "GT index            :  (16, 7, 9)\n",
      "Prior Bel index     :  (0, 0, 0) with prob =  nan\n",
      "POS ERROR      : (0.914, -0.501, 174.969)\n",
      "---------- PREDICTION STATS -----------\n",
      " | Executing Observation Loop at: 30 deg/s\n",
      "Update Step\n",
      "     | Update Time:  0.08284258842468262\n",
      "\n",
      "---------- UPDATE STATS -----------\n",
      "GT index      :  (16, 7, 7)\n",
      "Bel index     :  (0, 0, 0) with prob =  nan\n",
      "Bel_bar prob at index =  nan\n",
      "\n",
      "GT     : (0.990, -0.425, -34.031)\n",
      "Belief   : (0.076, 0.076, -170.000)\n",
      "POS ERROR : (0.914, -0.501, 135.969)\n",
      "---------- UPDATE STATS -----------\n",
      "-------------------------------------\n",
      "\n",
      "\n",
      "----------------- 3 -----------------\n",
      "Prediction Step\n",
      "Uniform Belief with each cell value:  0.0\n",
      "     | Prediction Time:  0.06744217872619629\n",
      "\n",
      "---------- PREDICTION STATS -----------\n",
      "GT index            :  (16, 7, 8)\n",
      "Prior Bel index     :  (0, 0, 0) with prob =  nan\n",
      "POS ERROR      : (0.943, -0.521, 162.439)\n",
      "---------- PREDICTION STATS -----------\n",
      " | Executing Observation Loop at: 30 deg/s\n",
      "Update Step\n",
      "     | Update Time:  0.051088809967041016\n",
      "\n",
      "---------- UPDATE STATS -----------\n",
      "GT index      :  (16, 7, 8)\n",
      "Bel index     :  (0, 0, 0) with prob =  nan\n",
      "Bel_bar prob at index =  nan\n",
      "\n",
      "GT     : (1.019, -0.445, -13.561)\n",
      "Belief   : (0.076, 0.076, -170.000)\n",
      "POS ERROR : (0.943, -0.521, 156.439)\n",
      "---------- UPDATE STATS -----------\n",
      "-------------------------------------\n",
      "\n",
      "\n",
      "----------------- 4 -----------------\n",
      "Prediction Step\n",
      "Uniform Belief with each cell value:  0.0\n",
      "     | Prediction Time:  0.040389060974121094\n",
      "\n",
      "---------- PREDICTION STATS -----------\n",
      "GT index            :  (18, 6, 11)\n",
      "Prior Bel index     :  (0, 0, 0) with prob =  nan\n",
      "POS ERROR      : (1.238, -0.577, 216.600)\n"
     ]
    },
    {
     "ename": "KeyboardInterrupt",
     "evalue": "",
     "output_type": "error",
     "traceback": [
      "\u001b[0;31m---------------------------------------------------------------------------\u001b[0m",
      "\u001b[0;31mKeyboardInterrupt\u001b[0m                         Traceback (most recent call last)",
      "\u001b[0;32m<ipython-input-52-30aff3ed4946>\u001b[0m in \u001b[0;36m<module>\u001b[0;34m\u001b[0m\n\u001b[1;32m     25\u001b[0m     \u001b[0;31m# Prediction Step\u001b[0m\u001b[0;34m\u001b[0m\u001b[0;34m\u001b[0m\u001b[0;34m\u001b[0m\u001b[0m\n\u001b[1;32m     26\u001b[0m     \u001b[0mloc\u001b[0m\u001b[0;34m.\u001b[0m\u001b[0mprediction_step\u001b[0m\u001b[0;34m(\u001b[0m\u001b[0mcurrent_odom\u001b[0m\u001b[0;34m,\u001b[0m \u001b[0mprev_odom\u001b[0m\u001b[0;34m)\u001b[0m\u001b[0;34m\u001b[0m\u001b[0;34m\u001b[0m\u001b[0m\n\u001b[0;32m---> 27\u001b[0;31m     \u001b[0mloc\u001b[0m\u001b[0;34m.\u001b[0m\u001b[0mprint_prediction_stats\u001b[0m\u001b[0;34m(\u001b[0m\u001b[0mplot_data\u001b[0m\u001b[0;34m=\u001b[0m\u001b[0;32mTrue\u001b[0m\u001b[0;34m)\u001b[0m\u001b[0;34m\u001b[0m\u001b[0;34m\u001b[0m\u001b[0m\n\u001b[0m\u001b[1;32m     28\u001b[0m \u001b[0;34m\u001b[0m\u001b[0m\n\u001b[1;32m     29\u001b[0m     \u001b[0;31m# Get Observation Data by executing a 360 degree rotation motion\u001b[0m\u001b[0;34m\u001b[0m\u001b[0;34m\u001b[0m\u001b[0;34m\u001b[0m\u001b[0m\n",
      "\u001b[0;32m~/Desktop/ece4960/lab10/lab10_jupyter/scripts/robot_interface.py\u001b[0m in \u001b[0;36mprint_prediction_stats\u001b[0;34m(self, plot_data)\u001b[0m\n\u001b[1;32m    473\u001b[0m                                     \u001b[0mcurrent_odom\u001b[0m\u001b[0;34m[\u001b[0m\u001b[0;36m1\u001b[0m\u001b[0;34m]\u001b[0m\u001b[0;34m,\u001b[0m\u001b[0;34m\u001b[0m\u001b[0;34m\u001b[0m\u001b[0m\n\u001b[1;32m    474\u001b[0m                                     ODOM)\n\u001b[0;32m--> 475\u001b[0;31m             \u001b[0mself\u001b[0m\u001b[0;34m.\u001b[0m\u001b[0mplotter\u001b[0m\u001b[0;34m.\u001b[0m\u001b[0mvisualize_prior_bel\u001b[0m\u001b[0;34m(\u001b[0m\u001b[0;34m)\u001b[0m\u001b[0;34m\u001b[0m\u001b[0;34m\u001b[0m\u001b[0m\n\u001b[0m\u001b[1;32m    476\u001b[0m         \u001b[0mprint\u001b[0m\u001b[0;34m(\u001b[0m\u001b[0;34m'---------- PREDICTION STATS -----------'\u001b[0m\u001b[0;34m)\u001b[0m\u001b[0;34m\u001b[0m\u001b[0;34m\u001b[0m\u001b[0m\n\u001b[1;32m    477\u001b[0m         \u001b[0;32mreturn\u001b[0m \u001b[0mpos_error\u001b[0m\u001b[0;34m\u001b[0m\u001b[0;34m\u001b[0m\u001b[0m\n",
      "\u001b[0;32m~/Desktop/ece4960/lab10/lab10_jupyter/scripts/robot_interface.py\u001b[0m in \u001b[0;36mvisualize_prior_bel\u001b[0;34m(self)\u001b[0m\n\u001b[1;32m    649\u001b[0m         data = data.reshape(self.loc.mapper.MAX_CELLS_X *\n\u001b[1;32m    650\u001b[0m                             self.loc.mapper.MAX_CELLS_Y)\n\u001b[0;32m--> 651\u001b[0;31m         \u001b[0mself\u001b[0m\u001b[0;34m.\u001b[0m\u001b[0mplot_prob_dist\u001b[0m\u001b[0;34m(\u001b[0m\u001b[0mdata\u001b[0m\u001b[0;34m)\u001b[0m\u001b[0;34m\u001b[0m\u001b[0;34m\u001b[0m\u001b[0m\n\u001b[0m\u001b[1;32m    652\u001b[0m \u001b[0;34m\u001b[0m\u001b[0m\n\u001b[1;32m    653\u001b[0m     \u001b[0;31m# Visualize Bel\u001b[0m\u001b[0;34m\u001b[0m\u001b[0;34m\u001b[0m\u001b[0;34m\u001b[0m\u001b[0m\n",
      "\u001b[0;32m~/Desktop/ece4960/lab10/lab10_jupyter/scripts/robot_interface.py\u001b[0m in \u001b[0;36mplot_prob_dist\u001b[0;34m(self, data)\u001b[0m\n\u001b[1;32m    623\u001b[0m                                                        ProbDist)\n\u001b[1;32m    624\u001b[0m             \u001b[0mresp1\u001b[0m \u001b[0;34m=\u001b[0m \u001b[0mplot_prob_dist_client\u001b[0m\u001b[0;34m(\u001b[0m\u001b[0mdata\u001b[0m\u001b[0;34m)\u001b[0m\u001b[0;34m\u001b[0m\u001b[0;34m\u001b[0m\u001b[0m\n\u001b[0;32m--> 625\u001b[0;31m             \u001b[0mtime\u001b[0m\u001b[0;34m.\u001b[0m\u001b[0msleep\u001b[0m\u001b[0;34m(\u001b[0m\u001b[0;36m0.3\u001b[0m\u001b[0;34m)\u001b[0m\u001b[0;34m\u001b[0m\u001b[0;34m\u001b[0m\u001b[0m\n\u001b[0m\u001b[1;32m    626\u001b[0m             \u001b[0;32mreturn\u001b[0m \u001b[0mresp1\u001b[0m\u001b[0;34m.\u001b[0m\u001b[0mresult\u001b[0m\u001b[0;34m\u001b[0m\u001b[0;34m\u001b[0m\u001b[0m\n\u001b[1;32m    627\u001b[0m         \u001b[0;32mexcept\u001b[0m \u001b[0mrospy\u001b[0m\u001b[0;34m.\u001b[0m\u001b[0mServiceException\u001b[0m \u001b[0;32mas\u001b[0m \u001b[0me\u001b[0m\u001b[0;34m:\u001b[0m\u001b[0;34m\u001b[0m\u001b[0;34m\u001b[0m\u001b[0m\n",
      "\u001b[0;31mKeyboardInterrupt\u001b[0m: "
     ]
    }
   ],
   "source": [
    "# Reset Plots\n",
    "robot.reset()\n",
    "loc.plotter.reset_plot()\n",
    "\n",
    "# Init Uniform Belief\n",
    "loc.init_pose()\n",
    "\n",
    "# Get Observation Data by executing a 360 degree rotation motion\n",
    "loc.get_observation_data()\n",
    "\n",
    "# Run Update Step\n",
    "loc.update_step()\n",
    "loc.print_update_stats(plot_data=True)\n",
    "    \n",
    "# Intialize the Trajectory object\n",
    "traj = Trajectory(loc)\n",
    "\n",
    "# Run through each motion steps\n",
    "for t in range(0, traj.total_time_steps):\n",
    "\n",
    "    print(\"\\n\\n-----------------\", t, \"-----------------\")\n",
    "    \n",
    "    prev_odom, current_odom, prev_gt, current_gt = traj.execute_time_step(t)\n",
    "    \n",
    "    # Prediction Step\n",
    "    loc.prediction_step(current_odom, prev_odom)\n",
    "    loc.print_prediction_stats(plot_data=True)\n",
    "    \n",
    "    # Get Observation Data by executing a 360 degree rotation motion\n",
    "    loc.get_observation_data()\n",
    "    \n",
    "    # Update Step    \n",
    "    loc.update_step()\n",
    "    loc.print_update_stats(plot_data=True)\n",
    "    \n",
    "        \n",
    "    print(\"-------------------------------------\")"
   ]
  }
 ],
 "metadata": {
  "kernelspec": {
   "display_name": "Python 3",
   "language": "python",
   "name": "python3"
  },
  "language_info": {
   "codemirror_mode": {
    "name": "ipython",
    "version": 3
   },
   "file_extension": ".py",
   "mimetype": "text/x-python",
   "name": "python",
   "nbconvert_exporter": "python",
   "pygments_lexer": "ipython3",
   "version": "3.6.9"
  }
 },
 "nbformat": 4,
 "nbformat_minor": 4
}
