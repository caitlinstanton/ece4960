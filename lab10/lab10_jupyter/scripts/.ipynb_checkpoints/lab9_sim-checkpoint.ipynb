{
 "cells": [
  {
   "cell_type": "markdown",
   "metadata": {},
   "source": [
    "# Lab 9: Grid Localization using Bayes Filter on the Virtual Robot\n",
    "\n",
    "#### <span style=\"color:rgb(0,150,0)\">It is recommended that you close any heavy-duty applications running on your system while working on this lab.</span>\n",
    "\n",
    "#### This notebook showcases localization results of the **Localization** module (defined in *robot_interface.py*) for the virtual robot.\n",
    "\n",
    "<hr>\n"
   ]
  },
  {
   "cell_type": "code",
   "execution_count": 12,
   "metadata": {},
   "outputs": [
    {
     "name": "stdout",
     "output_type": "stream",
     "text": [
      "The autoreload extension is already loaded. To reload it, use:\n",
      "  %reload_ext autoreload\n"
     ]
    }
   ],
   "source": [
    "# Automatically reload changes in python modules\n",
    "%load_ext autoreload\n",
    "%autoreload 2\n",
    "\n",
    "# Import classes\n",
    "from robot_interface import *\n",
    "\n",
    "import time\n",
    "import numpy as np\n",
    "import rospy\n",
    "from Traj import Trajectory"
   ]
  },
  {
   "cell_type": "code",
   "execution_count": 13,
   "metadata": {},
   "outputs": [],
   "source": [
    "from gridmap import OccupancyGridMap\n",
    "import matplotlib.pyplot as plt\n",
    "from a_star import a_star\n",
    "from utils import plot_path"
   ]
  },
  {
   "cell_type": "code",
   "execution_count": 14,
   "metadata": {},
   "outputs": [
    {
     "name": "stdout",
     "output_type": "stream",
     "text": [
      "Using python version: 3.6.9 (default, Jul 17 2020, 12:50:27) \n",
      "[GCC 8.4.0] \n",
      "\n",
      "Initializing Node\n",
      "Initializing Virtual Robot\n",
      "Initializing beliefs with a Uniform Distribution\n",
      "Uniform Belief with each cell value:  0.0001388888888888889\n"
     ]
    }
   ],
   "source": [
    "# Instantiate VirtualRobot to communicate with the real robot\n",
    "robot = VirtualRobot()\n",
    "\n",
    "# Instantiate Mapper\n",
    "# Start points for each line segment describing the map\n",
    "start_points = np.array([[0,0],\n",
    "                         [3.04,0],\n",
    "                         [3.04,3.04],\n",
    "                         [0,3.04],\n",
    "                         [0,0],\n",
    "                         [0,0.608],\n",
    "                         [0.608,0.608],\n",
    "                         [0.608,0.912],\n",
    "                         [0,0.912],\n",
    "                         [0,2.128],\n",
    "                         [1.216,2.128],\n",
    "                         [1.216,1.52],\n",
    "                         [2.584,1.52],\n",
    "                         [2.584,0.912],\n",
    "                         [1.52,0.304]])\n",
    "\n",
    "# End points for each line segment describing the map\n",
    "end_points = np.array([  [3.04,0],\n",
    "                         [3.04,3.04],\n",
    "                         [0,3.04],\n",
    "                         [0,0],\n",
    "                         [0,0.608],\n",
    "                         [0.608,0.608],\n",
    "                         [0.608,0.912],\n",
    "                         [0,0.912],\n",
    "                         [0,2.128],\n",
    "                         [1.216,2.128],\n",
    "                         [1.216,1.52],\n",
    "                         [2.584,1.52],\n",
    "                         [2.584,0.912],\n",
    "                         [1.52,0.304],\n",
    "                         [0,0]])\n",
    "\n",
    "# Requires a RealRobot object as input\n",
    "mapper = Mapper(min_x=0, max_x=3.04, min_y=0, max_y=3.04, min_a=-180, max_a=180,\n",
    "                cell_size_x=0.152, cell_size_y=0.152, cell_size_a=20,\n",
    "                max_cells_x=20, max_cells_y=20, max_cells_a=18,\n",
    "                ray_length=7, lines=[start_points, end_points], obs_per_cell=18, \n",
    "                robot=robot)\n",
    "#mapper.populate_views()\n",
    "\n",
    "# Instantiate Localization \n",
    "odom_trans_sigma = 0.33\n",
    "odom_rot_sigma = 15\n",
    "sensor_sigma = 0.11\n",
    "\n",
    "# Requires a RealRobot object and a Mapper object as inputs\n",
    "loc = Localization(robot, mapper, sensor_sigma, odom_trans_sigma, odom_rot_sigma)\n",
    "\n",
    "# Visualize the map (described using line segments) in the plotter\n",
    "loc.plotter.visualize_map()"
   ]
  },
  {
   "cell_type": "code",
   "execution_count": null,
   "metadata": {},
   "outputs": [],
   "source": [
    "import subprocess\n",
    "\n",
    "subprocess.run([\"/bin/bash\",\"-c\", \"wmctrl -a 'Plotter'\"])\n",
    "subprocess.run([\"/bin/bash\",\"-c\",\"scrot -d 4 -u -quality 100 map.png\"])\n",
    "gmap = OccupancyGridMap.from_png('map.png', 1)\n",
    "gmap.plot()"
   ]
  },
  {
   "cell_type": "code",
   "execution_count": null,
   "metadata": {},
   "outputs": [],
   "source": [
    "#robot.get_gt_pose()\n",
    "robot.get_laser_data()"
   ]
  },
  {
   "cell_type": "code",
   "execution_count": 20,
   "metadata": {},
   "outputs": [],
   "source": [
    "def check_front(robot):\n",
    "    return robot.get_laser_data() < 0.2\n",
    "\n",
    "def move_to_next(currPos, nextPos, robot):\n",
    "    print(str(currPos) + \" to \" + str(nextPos))\n",
    "    #while(round(robot.get_gt_pose()[0],2) != nextPos[0] and round(robot.get_gt_pose()[1],2) != nextPos[1]):\n",
    "    print(robot.get_gt_pose())\n",
    "    if(currPos[0]>nextPos[0]): #moving left\n",
    "        print(\"moving left\")\n",
    "        #print(robot.get_gt_pose())\n",
    "        nextAng = 180;\n",
    "        while(round(robot.get_gt_pose()[2]) != nextAng): #wait till it gets to the right angle\n",
    "            robot.set_vel(0,0.1)\n",
    "        #print(\"@ 180\")\n",
    "        while(round(robot.get_gt_pose()[0],2) > nextPos[0]): #wait till it gets to the right distance\n",
    "            robot.set_vel(0.1,0)\n",
    "        #print(\"@ location\")\n",
    "        #print(robot.get_gt_pose())\n",
    "\n",
    "    if(currPos[0]<nextPos[0]): #moving right\n",
    "        print(\"moving right\")\n",
    "        #print(robot.get_gt_pose())\n",
    "        nextAng = 0;\n",
    "        while(round(robot.get_gt_pose()[2]) != nextAng): #wait till it gets to the right angle\n",
    "            robot.set_vel(0,0.1)\n",
    "        #print(\"@ 0\")\n",
    "        while(round(robot.get_gt_pose()[0],2) < nextPos[0]): #wait till it gets to the right distance\n",
    "            robot.set_vel(0.1,0)\n",
    "        #print(\"@ location\")\n",
    "        #print(robot.get_gt_pose())\n",
    "\n",
    "    if(currPos[1]>nextPos[1]): #moving down\n",
    "        print(\"moving down\")\n",
    "        #print(robot.get_gt_pose())\n",
    "        nextAng = -90;\n",
    "        while(round(robot.get_gt_pose()[2]) != nextAng): #wait till it gets to the right angle\n",
    "            robot.set_vel(0,0.1)\n",
    "        #print(\"@ -90\")\n",
    "        while(round(robot.get_gt_pose()[1],2) > nextPos[1] and (not check_front(robot))): #wait till it gets to the right distance\n",
    "            robot.set_vel(0.1,0)\n",
    "        #print(\"@ location\")\n",
    "        #print(robot.get_gt_pose())\n",
    "\n",
    "    if(currPos[1]<nextPos[1]): #moving up\n",
    "        print(\"moving up\")\n",
    "        #print(robot.get_gt_pose())\n",
    "        nextAng = 90;\n",
    "        while(round(robot.get_gt_pose()[2]) != nextAng): #wait till it gets to the right angle\n",
    "            robot.set_vel(0,0.1)\n",
    "        #print(\"@ 90\")\n",
    "        while(round(robot.get_gt_pose()[1],2) < nextPos[1] and (not check_front(robot))): #wait till it gets to the right distance\n",
    "            robot.set_vel(0.1,0)\n",
    "        #print(\"@ location\")\n",
    "        #print(robot.get_gt_pose())\n",
    "\n",
    "    print(\"DONE WITH STEP\")\n",
    "    robot.set_vel(0,0)"
   ]
  },
  {
   "cell_type": "code",
   "execution_count": 21,
   "metadata": {},
   "outputs": [
    {
     "name": "stdout",
     "output_type": "stream",
     "text": [
      "Start cell:  (5, 6)\n",
      "Goal cell:  (13, 2)\n"
     ]
    },
    {
     "data": {
      "image/png": "[encoded data removed]",
      "text/plain": [
       "<Figure size 432x288 with 1 Axes>"
      ]
     },
     "metadata": {
      "needs_background": "light"
     },
     "output_type": "display_data"
    },
    {
     "name": "stdout",
     "output_type": "stream",
     "text": [
      "-----------------\n",
      "(1, 1, 0) to (0.9119999999999999, 1.8239999999999998, 0)\n",
      "(1.0, 1.0, 0.0)\n",
      "moving left\n",
      "moving up\n",
      "DONE WITH STEP\n",
      "(0.9119999999999999, 1.8239999999999998, 0) to (0.76, 1.8239999999999998, 0)\n",
      "(0.9133048616114405, 1.8301367596064007, 89.7718691776937)\n",
      "moving left\n",
      "DONE WITH STEP\n",
      "(0.76, 1.8239999999999998, 0) to (0.608, 1.8239999999999998, 0)\n",
      "(0.7633065737763669, 1.83085345099493, 179.7262430132316)\n",
      "moving left\n",
      "DONE WITH STEP\n",
      "(0.608, 1.8239999999999998, 0) to (0.608, 1.672, 0)\n",
      "(0.6033084000856217, 1.8316179218093611, 179.7262430132316)\n",
      "moving down\n",
      "DONE WITH STEP\n",
      "(0.608, 1.672, 0) to (0.608, 1.52, 0)\n",
      "(0.6024165186941968, 1.6716204076174714, -90.31938315123054)\n",
      "moving down\n",
      "DONE WITH STEP\n",
      "(0.608, 1.52, 0) to (0.608, 1.3679999999999999, 0)\n",
      "(0.6015803798897359, 1.5216227380625749, -90.31938315123054)\n",
      "moving down\n",
      "DONE WITH STEP\n",
      "(0.608, 1.3679999999999999, 0) to (0.608, 1.216, 0)\n",
      "(0.600688498498311, 1.3616252238706852, -90.31938315123054)\n",
      "moving down\n",
      "DONE WITH STEP\n",
      "(0.608, 1.216, 0) to (0.608, 1.064, 0)\n",
      "(0.5998523596938501, 1.2116275543157886, -90.31938315123054)\n",
      "moving down\n",
      "DONE WITH STEP\n",
      "(0.608, 1.064, 0) to (0.608, 0.9119999999999999, 0)\n",
      "(0.5990162208893892, 1.061629884760892, -90.31938315123054)\n",
      "moving down\n",
      "DONE WITH STEP\n",
      "(0.608, 0.9119999999999999, 0) to (0.608, 0.76, 0)\n",
      "(0.5981800820849283, 0.9116322152059965, -90.31938315123054)\n",
      "moving down\n",
      "DONE WITH STEP\n",
      "(0.608, 0.76, 0) to (0.608, 0.608, 0)\n",
      "(0.5973439432804675, 0.7616345456511016, -90.31938315123054)\n",
      "moving down\n",
      "DONE WITH STEP\n",
      "(0.608, 0.608, 0) to (0.45599999999999996, 0.608, 0)\n",
      "(0.5964520618890425, 0.6016370314592137, -90.31938315123054)\n",
      "moving left\n",
      "DONE WITH STEP\n",
      "(0.45599999999999996, 0.608, 0) to (0.304, 0.608, 0)\n",
      "(0.4464568178866415, 0.6028315090271216, 179.54373835538598)\n",
      "moving left\n",
      "DONE WITH STEP\n",
      "MOVE FROM (5, 6) TO (13, 2) COMPLETE!\n"
     ]
    },
    {
     "data": {
      "image/png": "[encoded data removed]",
      "text/plain": [
       "<Figure size 432x288 with 1 Axes>"
      ]
     },
     "metadata": {
      "needs_background": "light"
     },
     "output_type": "display_data"
    },
    {
     "name": "stdout",
     "output_type": "stream",
     "text": [
      "Start cell:  (11, 6)\n",
      "Goal cell:  (7, 12)\n"
     ]
    },
    {
     "data": {
      "image/png": "[encoded data removed]",
      "text/plain": [
       "<Figure size 432x288 with 1 Axes>"
      ]
     },
     "metadata": {
      "needs_background": "light"
     },
     "output_type": "display_data"
    },
    {
     "name": "stdout",
     "output_type": "stream",
     "text": [
      "-----------------\n",
      "(1, 1, 0) to (0.9119999999999999, 0.9119999999999999, 0)\n",
      "(0.29646157388424044, 0.6040259865950295, 179.54373835538598)\n",
      "moving left\n",
      "moving down\n",
      "DONE WITH STEP\n",
      "(0.9119999999999999, 0.9119999999999999, 0) to (0.9119999999999999, 1.064, 0)\n",
      "(0.29646157388424044, 0.6040259865950295, -89.9289300139453)\n",
      "moving up\n",
      "DONE WITH STEP\n",
      "(0.9119999999999999, 1.064, 0) to (0.9119999999999999, 1.216, 0)\n",
      "(0.29662713059769885, 1.074025957436493, 89.97981765713334)\n",
      "moving up\n",
      "DONE WITH STEP\n",
      "(0.9119999999999999, 1.216, 0) to (0.9119999999999999, 1.3679999999999999, 0)\n",
      "(0.29667996784667494, 1.224025948130577, 89.97981765713334)\n",
      "moving up\n",
      "DONE WITH STEP\n",
      "(0.9119999999999999, 1.3679999999999999, 0) to (0.9119999999999999, 1.52, 0)\n",
      "(0.29673280509565103, 1.3740259388246612, 89.97981765713334)\n",
      "moving up\n",
      "DONE WITH STEP\n",
      "(0.9119999999999999, 1.52, 0) to (1.064, 1.52, 0)\n",
      "(0.2967856423446271, 1.5240259295187453, 89.97981765713334)\n",
      "moving right\n",
      "DONE WITH STEP\n",
      "(1.064, 1.52, 0) to (1.216, 1.52, 0)\n",
      "(1.0667827493275084, 1.5219151860489473, -0.15706083625158462)\n",
      "moving right\n",
      "DONE WITH STEP\n",
      "(1.216, 1.52, 0) to (1.3679999999999999, 1.52, 0)\n",
      "(1.216782185752745, 1.5215040022561295, -0.15706083625158462)\n",
      "moving right\n",
      "DONE WITH STEP\n",
      "(1.3679999999999999, 1.52, 0) to (1.52, 1.52, 0)\n",
      "(1.3667816221779816, 1.5210928184633117, -0.15706083625158462)\n",
      "moving right\n",
      "DONE WITH STEP\n",
      "(1.52, 1.52, 0) to (1.672, 1.52, 0)\n",
      "(1.5167810586032182, 1.5206816346704939, -0.15706083625158462)\n",
      "moving right\n",
      "DONE WITH STEP\n",
      "(1.672, 1.52, 0) to (1.8239999999999998, 1.52, 0)\n",
      "(1.676780457456804, 1.5202430386248216, -0.15706083625158462)\n",
      "moving right\n",
      "DONE WITH STEP\n",
      "MOVE FROM (11, 6) TO (7, 12) COMPLETE!\n"
     ]
    },
    {
     "data": {
      "image/png": "[encoded data removed]",
      "text/plain": [
       "<Figure size 432x288 with 1 Axes>"
      ]
     },
     "metadata": {
      "needs_background": "light"
     },
     "output_type": "display_data"
    },
    {
     "name": "stdout",
     "output_type": "stream",
     "text": [
      "Start cell:  (9, 8)\n",
      "Goal cell:  (5, 1)\n"
     ]
    },
    {
     "data": {
      "image/png": "[encoded data removed]",
      "text/plain": [
       "<Figure size 432x288 with 1 Axes>"
      ]
     },
     "metadata": {
      "needs_background": "light"
     },
     "output_type": "display_data"
    },
    {
     "name": "stdout",
     "output_type": "stream",
     "text": [
      "-----------------\n",
      "(1, 1, 0) to (1.216, 1.216, 0)\n",
      "(1.8267798938820405, 1.5198318548320038, -0.15706083625158462)\n",
      "moving right\n",
      "moving up\n",
      "DONE WITH STEP\n",
      "(1.216, 1.216, 0) to (1.216, 1.3679999999999999, 0)\n",
      "(1.8267798938820405, 1.5198318548320038, 89.79731299928773)\n",
      "moving up\n",
      "DONE WITH STEP\n",
      "(1.216, 1.3679999999999999, 0) to (1.216, 1.52, 0)\n",
      "(1.8267798938820405, 1.5198318548320038, 89.79731299928773)\n",
      "moving up\n",
      "DONE WITH STEP\n",
      "(1.216, 1.52, 0) to (1.064, 1.52, 0)\n",
      "(1.8267798938820405, 1.5198318548320038, 89.79731299928773)\n",
      "moving left\n",
      "DONE WITH STEP\n",
      "(1.064, 1.52, 0) to (1.064, 1.672, 0)\n",
      "(1.056787125147036, 1.523168933762943, 179.75168683482562)\n",
      "moving up\n",
      "DONE WITH STEP\n",
      "(1.064, 1.672, 0) to (1.064, 1.8239999999999998, 0)\n",
      "(1.0578627750752114, 1.6831653180259392, 89.61480834144214)\n",
      "moving up\n",
      "DONE WITH STEP\n",
      "(1.064, 1.8239999999999998, 0) to (0.9119999999999999, 1.8239999999999998, 0)\n",
      "(1.058871196882876, 1.833161928272498, 89.61480834144214)\n",
      "moving left\n",
      "DONE WITH STEP\n",
      "(0.9119999999999999, 1.8239999999999998, 0) to (0.76, 1.8239999999999998, 0)\n",
      "(0.9088754372286891, 1.8342897960676867, 179.56918217698004)\n",
      "moving left\n",
      "DONE WITH STEP\n",
      "(0.76, 1.8239999999999998, 0) to (0.608, 1.8239999999999998, 0)\n",
      "(0.7588796775745018, 1.8354176638628754, 179.56918217698004)\n",
      "moving left\n",
      "DONE WITH STEP\n",
      "(0.608, 1.8239999999999998, 0) to (0.45599999999999996, 1.8239999999999998, 0)\n",
      "(0.5988842006100353, 1.83662072284441, 179.56918217698004)\n",
      "moving left\n",
      "DONE WITH STEP\n",
      "(0.45599999999999996, 1.8239999999999998, 0) to (0.304, 1.8239999999999998, 0)\n",
      "(0.44888844095584834, 1.8377485906395987, 179.56918217698004)\n",
      "moving left\n",
      "DONE WITH STEP\n",
      "(0.304, 1.8239999999999998, 0) to (0.152, 1.8239999999999998, 0)\n",
      "(0.29889268130166186, 1.8388764584347874, 179.56918217698004)\n",
      "moving left\n",
      "DONE WITH STEP\n",
      "MOVE FROM (9, 8) TO (5, 1) COMPLETE!\n"
     ]
    },
    {
     "data": {
      "image/png": "[encoded data removed]",
      "text/plain": [
       "<Figure size 432x288 with 1 Axes>"
      ]
     },
     "metadata": {
      "needs_background": "light"
     },
     "output_type": "display_data"
    },
    {
     "name": "stdout",
     "output_type": "stream",
     "text": [
      "Start cell:  (10, 11)\n",
      "Goal cell:  (14, 1)\n"
     ]
    },
    {
     "data": {
      "image/png": "[encoded data removed]",
      "text/plain": [
       "<Figure size 432x288 with 1 Axes>"
      ]
     },
     "metadata": {
      "needs_background": "light"
     },
     "output_type": "display_data"
    },
    {
     "name": "stdout",
     "output_type": "stream",
     "text": [
      "-----------------\n",
      "(1, 1, 0) to (1.672, 1.064, 0)\n",
      "(0.14889692164747506, 1.8400043262299761, 179.56918217698004)\n",
      "moving right\n",
      "moving up\n",
      "DONE WITH STEP\n",
      "(1.672, 1.064, 0) to (1.52, 1.064, 0)\n",
      "(1.67889631819814, 1.8413632061422904, 90.00526147872738)\n",
      "moving left\n",
      "DONE WITH STEP\n",
      "(1.52, 1.064, 0) to (1.3679999999999999, 1.064, 0)\n",
      "(1.5188963579033816, 1.8414759255997846, 179.95963531426526)\n",
      "moving left\n",
      "DONE WITH STEP\n",
      "(1.3679999999999999, 1.064, 0) to (1.216, 1.064, 0)\n",
      "(1.3588963976086232, 1.8415886450572787, 179.95963531426526)\n",
      "moving left\n",
      "DONE WITH STEP\n",
      "(1.216, 1.064, 0) to (1.064, 1.064, 0)\n",
      "(1.2088964348322873, 1.8416943195486795, 179.95963531426526)\n",
      "moving left\n",
      "DONE WITH STEP\n",
      "(1.064, 1.064, 0) to (0.9119999999999999, 1.064, 0)\n",
      "(1.0588964720559513, 1.8417999940400802, 179.95963531426526)\n",
      "moving left\n",
      "DONE WITH STEP\n",
      "(0.9119999999999999, 1.064, 0) to (0.76, 1.064, 0)\n",
      "(0.9088965092796164, 1.841905668531481, 179.95963531426526)\n",
      "moving left\n",
      "DONE WITH STEP\n",
      "(0.76, 1.064, 0) to (0.608, 1.064, 0)\n",
      "(0.7588965465032821, 1.8420113430228817, 179.95963531426526)\n",
      "moving left\n",
      "DONE WITH STEP\n",
      "(0.608, 1.064, 0) to (0.608, 0.9119999999999999, 0)\n",
      "(0.5988965862085255, 1.8421240624803759, 179.95963531426526)\n",
      "moving down\n",
      "DONE WITH STEP\n",
      "(0.608, 0.9119999999999999, 0) to (0.608, 0.76, 0)\n",
      "(0.5975008209123596, 0.9121251098792293, -90.08599085019688)\n",
      "moving down\n",
      "DONE WITH STEP\n",
      "(0.608, 0.76, 0) to (0.608, 0.608, 0)\n",
      "(0.5972756974774941, 0.7621252788145283, -90.08599085019688)\n",
      "moving down\n",
      "DONE WITH STEP\n",
      "(0.608, 0.608, 0) to (0.45599999999999996, 0.608, 0)\n",
      "(0.5970355658136376, 0.6021254590121805, -90.08599085019688)\n",
      "moving left\n",
      "DONE WITH STEP\n",
      "(0.45599999999999996, 0.608, 0) to (0.304, 0.608, 0)\n",
      "(0.4470367006052548, 0.6027089281178927, 179.77713065641964)\n",
      "moving left\n",
      "DONE WITH STEP\n",
      "(0.304, 0.608, 0) to (0.152, 0.608, 0)\n",
      "(0.297037835396872, 0.6032923972236048, 179.77713065641964)\n",
      "moving left\n",
      "DONE WITH STEP\n",
      "(0.152, 0.608, 0) to (0.152, 0.45599999999999996, 0)\n",
      "(0.1470389701884889, 0.603875866329317, 179.77713065641964)\n",
      "moving down\n",
      "DONE WITH STEP\n",
      "MOVE FROM (10, 11) TO (14, 1) COMPLETE!\n"
     ]
    },
    {
     "data": {
      "image/png": "[encoded data removed]",
      "text/plain": [
       "<Figure size 432x288 with 1 Axes>"
      ]
     },
     "metadata": {
      "needs_background": "light"
     },
     "output_type": "display_data"
    },
    {
     "name": "stdout",
     "output_type": "stream",
     "text": [
      "Start cell:  (10, 3)\n",
      "Goal cell:  (4, 7)\n"
     ]
    },
    {
     "data": {
      "image/png": "[encoded data removed]",
      "text/plain": [
       "<Figure size 432x288 with 1 Axes>"
      ]
     },
     "metadata": {
      "needs_background": "light"
     },
     "output_type": "display_data"
    },
    {
     "name": "stdout",
     "output_type": "stream",
     "text": [
      "-----------------\n",
      "(1, 1, 0) to (0.45599999999999996, 1.064, 0)\n",
      "(0.14633605316482753, 0.4538775133128328, -90.26849550804246)\n",
      "moving left\n",
      "moving up\n",
      "DONE WITH STEP\n",
      "(0.45599999999999996, 1.064, 0) to (0.45599999999999996, 1.216, 0)\n",
      "(0.14600378985590953, 1.0738774242814535, 90.0307053003214)\n",
      "moving up\n",
      "DONE WITH STEP\n",
      "(0.45599999999999996, 1.216, 0) to (0.45599999999999996, 1.3679999999999999, 0)\n",
      "(0.1459234035714939, 1.2238774027416037, 90.0307053003214)\n",
      "moving up\n",
      "DONE WITH STEP\n",
      "(0.45599999999999996, 1.3679999999999999, 0) to (0.45599999999999996, 1.52, 0)\n",
      "(0.14584301728707824, 1.373877381201754, 90.0307053003214)\n",
      "moving up\n",
      "DONE WITH STEP\n",
      "(0.45599999999999996, 1.52, 0) to (0.45599999999999996, 1.672, 0)\n",
      "(0.1457626310026626, 1.5238773596619042, 90.0307053003214)\n",
      "moving up\n",
      "DONE WITH STEP\n",
      "(0.45599999999999996, 1.672, 0) to (0.45599999999999996, 1.8239999999999998, 0)\n",
      "(0.14567688563261924, 1.6838773366860644, 90.0307053003214)\n",
      "moving up\n",
      "DONE WITH STEP\n",
      "(0.45599999999999996, 1.8239999999999998, 0) to (0.45599999999999996, 1.976, 0)\n",
      "(0.1455964993482036, 1.8338773151462147, 90.0307053003214)\n",
      "moving up\n",
      "DONE WITH STEP\n",
      "(0.45599999999999996, 1.976, 0) to (0.608, 1.976, 0)\n",
      "(0.14551611306378795, 1.9838772936063649, 90.0307053003214)\n",
      "moving right\n",
      "DONE WITH STEP\n",
      "(0.608, 1.976, 0) to (0.76, 1.976, 0)\n",
      "(0.6055153232727459, 1.9830248810679112, -0.10617319306351468)\n",
      "moving right\n",
      "DONE WITH STEP\n",
      "(0.76, 1.976, 0) to (0.9119999999999999, 1.976, 0)\n",
      "(0.7555150657321889, 1.9827469204575459, -0.10617319306351468)\n",
      "moving right\n",
      "DONE WITH STEP\n",
      "(0.9119999999999999, 1.976, 0) to (1.064, 1.976, 0)\n",
      "(0.9155147910222613, 1.9824504291398228, -0.10617319306351468)\n",
      "moving right\n",
      "DONE WITH STEP\n",
      "MOVE FROM (10, 3) TO (4, 7) COMPLETE!\n"
     ]
    },
    {
     "data": {
      "image/png": "[encoded data removed]",
      "text/plain": [
       "<Figure size 432x288 with 1 Axes>"
      ]
     },
     "metadata": {
      "needs_background": "light"
     },
     "output_type": "display_data"
    },
    {
     "name": "stdout",
     "output_type": "stream",
     "text": [
      "Start cell:  (7, 3)\n",
      "Goal cell:  (9, 10)\n"
     ]
    },
    {
     "data": {
      "image/png": "[encoded data removed]",
      "text/plain": [
       "<Figure size 432x288 with 1 Axes>"
      ]
     },
     "metadata": {
      "needs_background": "light"
     },
     "output_type": "display_data"
    },
    {
     "name": "stdout",
     "output_type": "stream",
     "text": [
      "-----------------\n",
      "(1, 1, 0) to (0.45599999999999996, 1.52, 0)\n",
      "(1.0655145334817036, 1.9821724685294575, -0.10617319306351468)\n",
      "moving left\n",
      "moving up\n",
      "DONE WITH STEP\n",
      "(0.45599999999999996, 1.52, 0) to (0.608, 1.52, 0)\n",
      "(0.44551821411532533, 1.984308814041374, 89.6656959846302)\n",
      "moving right\n",
      "DONE WITH STEP\n",
      "(0.608, 1.52, 0) to (0.76, 1.52, 0)\n",
      "(0.6055128038246975, 1.9829930390873585, -0.4711825087546982)\n",
      "moving right\n",
      "DONE WITH STEP\n",
      "(0.76, 1.52, 0) to (0.9119999999999999, 1.52, 0)\n",
      "(0.755507731677234, 1.9817595000679689, -0.4711825087546982)\n",
      "moving right\n",
      "DONE WITH STEP\n",
      "(0.9119999999999999, 1.52, 0) to (1.064, 1.52, 0)\n",
      "(0.9155023213866061, 1.9804437251139533, -0.4711825087546982)\n",
      "moving right\n",
      "DONE WITH STEP\n",
      "(1.064, 1.52, 0) to (1.216, 1.52, 0)\n",
      "(1.0654972492391432, 1.9792101860945637, -0.4711825087546982)\n",
      "moving right\n",
      "DONE WITH STEP\n",
      "(1.216, 1.52, 0) to (1.3679999999999999, 1.52, 0)\n",
      "(1.2154921770916813, 1.977976647075174, -0.4711825087546982)\n",
      "moving right\n",
      "DONE WITH STEP\n",
      "(1.3679999999999999, 1.52, 0) to (1.52, 1.52, 0)\n",
      "(1.3654871049442194, 1.9767431080557845, -0.4711825087546982)\n",
      "moving right\n",
      "DONE WITH STEP\n",
      "(1.52, 1.52, 0) to (1.52, 1.3679999999999999, 0)\n",
      "(1.5154820327967575, 1.9755095690363949, -0.4711825087546982)\n",
      "moving down\n",
      "DONE WITH STEP\n",
      "(1.52, 1.3679999999999999, 0) to (1.52, 1.216, 0)\n",
      "(1.5151021795655326, 1.35550968539808, -90.0351032070088)\n",
      "moving down\n",
      "DONE WITH STEP\n",
      "MOVE FROM (7, 3) TO (9, 10) COMPLETE!\n"
     ]
    },
    {
     "data": {
      "image/png": "[encoded data removed]",
      "text/plain": [
       "<Figure size 432x288 with 1 Axes>"
      ]
     },
     "metadata": {
      "needs_background": "light"
     },
     "output_type": "display_data"
    },
    {
     "name": "stdout",
     "output_type": "stream",
     "text": [
      "Start cell:  (5, 5)\n",
      "Goal cell:  (7, 13)\n"
     ]
    },
    {
     "data": {
      "image/png": "[encoded data removed]",
      "text/plain": [
       "<Figure size 432x288 with 1 Axes>"
      ]
     },
     "metadata": {
      "needs_background": "light"
     },
     "output_type": "display_data"
    },
    {
     "name": "stdout",
     "output_type": "stream",
     "text": [
      "-----------------\n",
      "(1, 1, 0) to (0.76, 1.8239999999999998, 0)\n",
      "(1.5150102795902363, 1.2055097135501005, -90.0351032070088)\n",
      "moving left\n",
      "moving up\n",
      "DONE WITH STEP\n",
      "(0.76, 1.8239999999999998, 0) to (0.9119999999999999, 1.8239999999999998, 0)\n",
      "(0.7583558760890466, 1.8277819535618374, 89.69113980622424)\n",
      "moving right\n",
      "DONE WITH STEP\n",
      "(0.9119999999999999, 1.8239999999999998, 0) to (1.064, 1.8239999999999998, 0)\n",
      "(0.9183510343297955, 1.8265372288864103, -0.445738687160663)\n",
      "moving right\n",
      "DONE WITH STEP\n",
      "(1.064, 1.8239999999999998, 0) to (1.064, 1.672, 0)\n",
      "(1.0683464951804982, 1.8253702995031975, -0.445738687160663)\n",
      "moving down\n",
      "DONE WITH STEP\n",
      "(1.064, 1.672, 0) to (1.064, 1.52, 0)\n",
      "(1.0683195210879528, 1.665370301776952, -90.00965938541476)\n",
      "moving down\n",
      "DONE WITH STEP\n",
      "(1.064, 1.52, 0) to (1.216, 1.52, 0)\n",
      "(1.0682942328761915, 1.5153703039085966, -90.00965938541476)\n",
      "moving right\n",
      "DONE WITH STEP\n",
      "(1.216, 1.52, 0) to (1.3679999999999999, 1.52, 0)\n",
      "(1.2182941630466428, 1.5152255666999417, -0.05528554987544436)\n",
      "moving right\n",
      "DONE WITH STEP\n",
      "(1.3679999999999999, 1.52, 0) to (1.52, 1.52, 0)\n",
      "(1.3682940932170942, 1.5150808294912868, -0.05528554987544436)\n",
      "moving right\n",
      "DONE WITH STEP\n",
      "(1.52, 1.52, 0) to (1.672, 1.52, 0)\n",
      "(1.5182940233875455, 1.5149360922826318, -0.05528554987544436)\n",
      "moving right\n",
      "DONE WITH STEP\n",
      "(1.672, 1.52, 0) to (1.8239999999999998, 1.52, 0)\n",
      "(1.6782939489026936, 1.5147817059267332, -0.05528554987544436)\n",
      "moving right\n",
      "DONE WITH STEP\n",
      "(1.8239999999999998, 1.52, 0) to (1.976, 1.52, 0)\n",
      "(1.828293879073145, 1.5146369687180783, -0.05528554987544436)\n",
      "moving right\n",
      "DONE WITH STEP\n",
      "MOVE FROM (5, 5) TO (7, 13) COMPLETE!\n"
     ]
    },
    {
     "data": {
      "image/png": "[encoded data removed]",
      "text/plain": [
       "<Figure size 432x288 with 1 Axes>"
      ]
     },
     "metadata": {
      "needs_background": "light"
     },
     "output_type": "display_data"
    },
    {
     "name": "stdout",
     "output_type": "stream",
     "text": [
      "Start cell:  (8, 14)\n",
      "Goal cell:  (13, 8)\n"
     ]
    },
    {
     "data": {
      "image/png": "[encoded data removed]",
      "text/plain": [
       "<Figure size 432x288 with 1 Axes>"
      ]
     },
     "metadata": {
      "needs_background": "light"
     },
     "output_type": "display_data"
    },
    {
     "name": "stdout",
     "output_type": "stream",
     "text": [
      "-----------------\n",
      "(1, 1, 0) to (2.128, 1.3679999999999999, 0)\n",
      "(1.9782938092435962, 1.5144922315094234, -0.05528554987544436)\n",
      "moving right\n",
      "moving up\n",
      "DONE WITH STEP\n",
      "(2.128, 1.3679999999999999, 0) to (1.976, 1.3679999999999999, 0)\n",
      "(2.12829373941405, 1.5143474943007684, 89.89908828566388)\n",
      "moving left\n",
      "DONE WITH STEP\n",
      "(1.976, 1.3679999999999999, 0) to (1.8239999999999998, 1.3679999999999999, 0)\n",
      "(1.9682942627062818, 1.5147567048088784, 179.85346212120177)\n",
      "moving left\n",
      "DONE WITH STEP\n",
      "(1.8239999999999998, 1.3679999999999999, 0) to (1.672, 1.3679999999999999, 0)\n",
      "(1.8182947532927465, 1.5151403396602314, 179.85346212120177)\n",
      "moving left\n",
      "DONE WITH STEP\n",
      "(1.672, 1.3679999999999999, 0) to (1.52, 1.3679999999999999, 0)\n",
      "(1.6682952438792111, 1.5155239745115845, 179.85346212120177)\n",
      "moving left\n",
      "DONE WITH STEP\n",
      "(1.52, 1.3679999999999999, 0) to (1.3679999999999999, 1.3679999999999999, 0)\n",
      "(1.5182957344656758, 1.5159076093629376, 179.85346212120177)\n",
      "moving left\n",
      "DONE WITH STEP\n",
      "(1.3679999999999999, 1.3679999999999999, 0) to (1.216, 1.3679999999999999, 0)\n",
      "(1.3582962577579047, 1.5163168198710475, 179.85346212120177)\n",
      "moving left\n",
      "DONE WITH STEP\n",
      "(1.216, 1.3679999999999999, 0) to (1.216, 1.216, 0)\n",
      "(1.2082967483443694, 1.5167004547224006, 179.85346212120177)\n",
      "moving down\n",
      "DONE WITH STEP\n",
      "(1.216, 1.216, 0) to (1.216, 1.064, 0)\n",
      "(1.2072570427633413, 1.206702198255842, -90.19216404326036)\n",
      "moving down\n",
      "DONE WITH STEP\n",
      "(1.216, 1.064, 0) to (1.216, 0.9119999999999999, 0)\n",
      "(1.2067539594176826, 1.0567030419010555, -90.19216404326036)\n",
      "moving down\n",
      "DONE WITH STEP\n",
      "(1.216, 0.9119999999999999, 0) to (1.216, 0.76, 0)\n",
      "(1.2062508760720239, 0.9067038855462701, -90.19216404326036)\n",
      "moving down\n",
      "DONE WITH STEP\n",
      "(1.216, 0.76, 0) to (1.216, 0.608, 0)\n",
      "(1.2057477927263651, 0.7567047291914853, -90.19216404326036)\n",
      "moving down\n",
      "DONE WITH STEP\n",
      "MOVE FROM (8, 14) TO (13, 8) COMPLETE!\n"
     ]
    },
    {
     "data": {
      "image/png": "[encoded data removed]",
      "text/plain": [
       "<Figure size 432x288 with 1 Axes>"
      ]
     },
     "metadata": {
      "needs_background": "light"
     },
     "output_type": "display_data"
    },
    {
     "name": "stdout",
     "output_type": "stream",
     "text": [
      "Start cell:  (15, 6)\n",
      "Goal cell:  (7, 2)\n"
     ]
    },
    {
     "data": {
      "image/png": "[encoded data removed]",
      "text/plain": [
       "<Figure size 432x288 with 1 Axes>"
      ]
     },
     "metadata": {
      "needs_background": "light"
     },
     "output_type": "display_data"
    },
    {
     "name": "stdout",
     "output_type": "stream",
     "text": [
      "-----------------\n",
      "(1, 1, 0) to (0.9119999999999999, 0.304, 0)\n",
      "(1.2052111704909958, 0.5967056290797149, -90.19216404326036)\n",
      "moving left\n",
      "moving down\n",
      "DONE WITH STEP\n",
      "(0.9119999999999999, 0.304, 0) to (0.9119999999999999, 0.45599999999999996, 0)\n",
      "(0.9032543708201208, 0.2984348964550369, -90.37466870110595)\n",
      "moving up\n",
      "DONE WITH STEP\n",
      "(0.9119999999999999, 0.45599999999999996, 0) to (0.9119999999999999, 0.608, 0)\n",
      "(0.9045554534450657, 0.4584296063175916, 89.53407896997268)\n",
      "moving up\n",
      "DONE WITH STEP\n",
      "(0.9119999999999999, 0.608, 0) to (0.9119999999999999, 0.76, 0)\n",
      "(0.9057752184059515, 0.6084246468137372, 89.53407896997268)\n",
      "moving up\n",
      "DONE WITH STEP\n",
      "(0.9119999999999999, 0.76, 0) to (0.9119999999999999, 0.9119999999999999, 0)\n",
      "(0.9069949833668374, 0.7584196873098831, 89.53407896997268)\n",
      "moving up\n",
      "DONE WITH STEP\n",
      "(0.9119999999999999, 0.9119999999999999, 0) to (0.9119999999999999, 1.064, 0)\n",
      "(0.9082960659917823, 0.9184143971724387, 89.53407896997268)\n",
      "moving up\n",
      "DONE WITH STEP\n",
      "(0.9119999999999999, 1.064, 0) to (0.9119999999999999, 1.216, 0)\n",
      "(0.9095158309526681, 1.0684094376685844, 89.53407896997268)\n",
      "moving up\n",
      "DONE WITH STEP\n",
      "(0.9119999999999999, 1.216, 0) to (0.9119999999999999, 1.3679999999999999, 0)\n",
      "(0.9107355959135539, 1.2184044781647303, 89.53407896997268)\n",
      "moving up\n",
      "DONE WITH STEP\n",
      "(0.9119999999999999, 1.3679999999999999, 0) to (0.9119999999999999, 1.52, 0)\n",
      "(0.9119553608744397, 1.3683995186608762, 89.53407896997268)\n",
      "moving up\n",
      "DONE WITH STEP\n",
      "(0.9119999999999999, 1.52, 0) to (0.76, 1.52, 0)\n",
      "(0.9131751258353256, 1.518394559157022, 89.53407896997268)\n",
      "moving left\n",
      "DONE WITH STEP\n",
      "(0.76, 1.52, 0) to (0.608, 1.52, 0)\n",
      "(0.7631754608481995, 1.5187115824214288, 179.8789059427958)\n",
      "moving left\n",
      "DONE WITH STEP\n",
      "(0.608, 1.52, 0) to (0.45599999999999996, 1.52, 0)\n",
      "(0.6031758181952651, 1.5190497405701293, 179.8789059427958)\n",
      "moving left\n",
      "DONE WITH STEP\n",
      "(0.45599999999999996, 1.52, 0) to (0.304, 1.52, 0)\n",
      "(0.45317615320813937, 1.519366763834536, 179.8789059427958)\n",
      "moving left\n",
      "DONE WITH STEP\n",
      "MOVE FROM (15, 6) TO (7, 2) COMPLETE!\n"
     ]
    },
    {
     "data": {
      "image/png": "[encoded data removed]",
      "text/plain": [
       "<Figure size 432x288 with 1 Axes>"
      ]
     },
     "metadata": {
      "needs_background": "light"
     },
     "output_type": "display_data"
    },
    {
     "name": "stdout",
     "output_type": "stream",
     "text": [
      "Start cell:  (9, 11)\n",
      "Goal cell:  (13, 3)\n"
     ]
    },
    {
     "data": {
      "image/png": "[encoded data removed]",
      "text/plain": [
       "<Figure size 432x288 with 1 Axes>"
      ]
     },
     "metadata": {
      "needs_background": "light"
     },
     "output_type": "display_data"
    },
    {
     "name": "stdout",
     "output_type": "stream",
     "text": [
      "-----------------\n",
      "(1, 1, 0) to (1.672, 1.216, 0)\n",
      "(0.3031764882210142, 1.5196837870989428, 179.8789059427958)\n",
      "moving right\n",
      "moving up\n",
      "DONE WITH STEP\n",
      "(1.672, 1.216, 0) to (1.52, 1.216, 0)\n",
      "(1.6831670107366312, 1.514569320649435, 89.74202744941232)\n",
      "moving left\n",
      "DONE WITH STEP\n",
      "(1.52, 1.216, 0) to (1.3679999999999999, 1.216, 0)\n",
      "(1.5231692569115038, 1.51541712423128, 179.6964012849502)\n",
      "moving left\n",
      "DONE WITH STEP\n",
      "(1.3679999999999999, 1.216, 0) to (1.216, 1.216, 0)\n",
      "(1.3631715030863765, 1.5162649278131248, 179.6964012849502)\n",
      "moving left\n",
      "DONE WITH STEP\n",
      "(1.216, 1.216, 0) to (1.064, 1.216, 0)\n",
      "(1.2131736088753196, 1.5170597436711044, 179.6964012849502)\n",
      "moving left\n",
      "DONE WITH STEP\n",
      "(1.064, 1.216, 0) to (0.9119999999999999, 1.216, 0)\n",
      "(1.0631757146642626, 1.517854559529084, 179.6964012849502)\n",
      "moving left\n",
      "DONE WITH STEP\n",
      "(0.9119999999999999, 1.216, 0) to (0.76, 1.216, 0)\n",
      "(0.9131778204532047, 1.5186493753870636, 179.6964012849502)\n",
      "moving left\n",
      "DONE WITH STEP\n",
      "(0.76, 1.216, 0) to (0.608, 1.216, 0)\n",
      "(0.7631799262421461, 1.5194441912450432, 179.6964012849502)\n",
      "moving left\n",
      "DONE WITH STEP\n",
      "(0.608, 1.216, 0) to (0.608, 1.064, 0)\n",
      "(0.603182172417017, 1.520291994826888, 179.6964012849502)\n",
      "moving down\n",
      "DONE WITH STEP\n",
      "(0.608, 1.064, 0) to (0.608, 0.9119999999999999, 0)\n",
      "(0.6003784327475776, 1.0603005394237803, -90.34922487951192)\n",
      "moving down\n",
      "DONE WITH STEP\n",
      "(0.608, 0.9119999999999999, 0) to (0.608, 0.76, 0)\n",
      "(0.5994641698118909, 0.9103033257053766, -90.34922487951192)\n",
      "moving down\n",
      "DONE WITH STEP\n",
      "(0.608, 0.76, 0) to (0.608, 0.608, 0)\n",
      "(0.5985499068762041, 0.7603061119869736, -90.34922487951192)\n",
      "moving down\n",
      "DONE WITH STEP\n",
      "(0.608, 0.608, 0) to (0.45599999999999996, 0.608, 0)\n",
      "(0.5975746930781383, 0.6003090840206771, -90.34922487951192)\n",
      "moving left\n",
      "DONE WITH STEP\n",
      "MOVE FROM (9, 11) TO (13, 3) COMPLETE!\n"
     ]
    },
    {
     "data": {
      "image/png": "[encoded data removed]",
      "text/plain": [
       "<Figure size 432x288 with 1 Axes>"
      ]
     },
     "metadata": {
      "needs_background": "light"
     },
     "output_type": "display_data"
    }
   ],
   "source": [
    "from planner_query import *\n",
    "\n",
    "grid =  [ 1,1,1,1,1,1,1,1,1,1,1,1,1,1,1,1,1,1,1,1,1,1,1,\n",
    "          1,1,1,1,1,1,1,1,1,1,1,1,1,1,1,1,1,1,1,1,1,1,1,\n",
    "          1,1,1,1,1,1,1,1,1,1,1,1,1,1,1,1,1,1,1,1,1,1,1,\n",
    "          1,1,1,1,1,1,1,1,1,1,1,1,1,1,1,1,1,1,1,1,1,1,1,\n",
    "          1,0,0,0,0,0,0,0,1,1,1,1,1,1,1,1,1,1,1,1,1,1,1,\n",
    "          1,0,0,0,0,0,0,0,1,1,1,1,1,1,1,1,1,1,1,1,1,1,1,\n",
    "          1,0,0,0,0,0,0,0,1,1,1,1,1,1,1,1,1,1,1,1,1,1,1,\n",
    "          1,0,0,0,0,0,0,0,0,0,0,0,0,0,0,0,0,0,1,1,1,1,1,\n",
    "          1,0,0,0,0,0,0,0,0,0,0,0,0,0,0,0,0,0,1,1,1,1,1,\n",
    "          1,0,0,0,0,0,0,0,0,0,0,0,0,0,0,0,0,1,1,1,1,1,1,\n",
    "          1,0,0,0,0,0,0,0,0,0,0,0,0,0,0,0,1,1,1,1,1,1,1,\n",
    "          1,1,1,1,0,0,0,0,0,0,0,0,0,0,0,1,1,1,1,1,1,1,1,\n",
    "          1,1,1,1,0,0,0,0,0,0,0,0,0,0,1,1,1,1,1,1,1,1,1,\n",
    "          1,0,0,0,0,0,0,0,0,0,0,0,0,1,1,1,1,1,1,1,1,1,1,\n",
    "          1,0,0,0,0,0,0,0,0,0,0,0,1,1,1,1,1,1,1,1,1,1,1,\n",
    "          1,0,0,0,0,0,0,1,1,1,1,1,1,1,1,1,1,1,1,1,1,1,1,\n",
    "          1,1,1,1,1,1,1,1,1,1,1,1,1,1,1,1,1,1,1,1,1,1,1]\n",
    "grid = np.array(grid, dtype=np.uint8)\n",
    "grid.resize(17,23)\n",
    "\n",
    "# Instantiate the class PlannerQuery\n",
    "pq = PlannerQuery(grid)\n",
    "        \n",
    "for i in range(0,10):\n",
    "    # Generate a start and goal pair\n",
    "    (start_node, goal_node) = pq.generate(plot=True)\n",
    "    gmap = OccupancyGridMap.from_data(grid,1,1)\n",
    "    gmap.plot()\n",
    "    print(\"-----------------\")\n",
    "    path, path_px = a_star(start_node, goal_node, gmap,movement=\"4N\")\n",
    "    \n",
    "\n",
    "    if path:\n",
    "        # plot resulting path in pixels over the map\n",
    "        #plot_path(path_px)\n",
    "        path_arr = np.array(path)\n",
    "        prevStep = (1,1,0)\n",
    "        #nextStep = ((start_node[1])*0.152,(17-start_node[0])*0.152,0)\n",
    "        #move_to_next(prevStep,nextStep,robot)\n",
    "        #prevStep = nextStep\n",
    "        for i in path_arr:\n",
    "            graphStep = ((i[1])*0.152,(17-i[0])*0.152, 0)\n",
    "            loc.plotter.plot_point(graphStep[0], graphStep[1],GT)\n",
    "            \n",
    "            nextStep = ((i[1])*0.152,(17-i[0])*0.152,0)\n",
    "            move_to_next(prevStep,nextStep,robot)\n",
    "            loc.plotter.plot_point(robot.get_gt_pose()[0], robot.get_gt_pose()[1], GT)\n",
    "            loc.plotter.plot_point(robot.get_pose()[0], robot.get_pose()[1], ODOM)\n",
    "            prevStep = nextStep\n",
    "        print(\"MOVE FROM \" + str(start_node) + \" TO \" + str(goal_node) + \" COMPLETE!\")\n",
    "        robot.set_vel(0,0)\n",
    "        start_node_px = gmap.get_index_from_coordinates(start_node[0], start_node[1])\n",
    "        goal_node_px = gmap.get_index_from_coordinates(goal_node[0], goal_node[1])\n",
    "\n",
    "        plt.plot(path_arr[:, 1], path_arr[:, 0], 'yo')\n",
    "        plt.plot(start_node_px[1], start_node_px[0], 'ro')\n",
    "        plt.plot(goal_node_px[1], goal_node_px[0], 'go')\n",
    "    else:\n",
    "        print('Goal is not reachable')\n",
    "\n",
    "        # plot start and goal points over the map (in pixels)\n",
    "        start_node_px = gmap.get_index_from_coordinates(start_node[0], start_node[1])\n",
    "        goal_node_px = gmap.get_index_from_coordinates(goal_node[0], goal_node[1])\n",
    "\n",
    "        plt.plot(start_node_px[1], start_node_px[0], 'ro')\n",
    "        plt.plot(goal_node_px[1], goal_node_px[0], 'go')\n",
    "\n",
    "    plt.show()"
   ]
  },
  {
   "cell_type": "code",
   "execution_count": null,
   "metadata": {},
   "outputs": [],
   "source": [
    "cx,cy,ca = mapper.to_map(0,2.128,0)\n",
    "#mapper.get_views(cx,cy,ca)\n",
    "for i in range(0,start_points.shape[0]):\n",
    "    get_sim_model(start_points[i],end_points[i])"
   ]
  },
  {
   "cell_type": "markdown",
   "metadata": {},
   "source": [
    "# Bayes filter on the virtual robot\n",
    "The cell below run the bayes filter algorithm for the pre-planned trajectory."
   ]
  },
  {
   "cell_type": "code",
   "execution_count": null,
   "metadata": {},
   "outputs": [],
   "source": [
    "# Reset Plots\n",
    "robot.reset()\n",
    "loc.plotter.reset_plot()\n",
    "\n",
    "# Init Uniform Belief\n",
    "loc.init_pose()\n",
    "\n",
    "# Get Observation Data by executing a 360 degree rotation motion\n",
    "loc.get_observation_data()\n",
    "\n",
    "# Run Update Step\n",
    "loc.update_step()\n",
    "loc.print_update_stats(plot_data=True)\n",
    "    \n",
    "# Intialize the Trajectory object\n",
    "traj = Trajectory(loc)\n",
    "\n",
    "# Run through each motion steps\n",
    "for t in range(0, traj.total_time_steps):\n",
    "\n",
    "    print(\"\\n\\n-----------------\", t, \"-----------------\")\n",
    "    \n",
    "    prev_odom, current_odom, prev_gt, current_gt = traj.execute_time_step(t)\n",
    "    \n",
    "    # Prediction Step\n",
    "    loc.prediction_step(current_odom, prev_odom)\n",
    "    loc.print_prediction_stats(plot_data=True)\n",
    "    \n",
    "    # Get Observation Data by executing a 360 degree rotation motion\n",
    "    loc.get_observation_data()\n",
    "    \n",
    "    # Update Step    \n",
    "    loc.update_step()\n",
    "    loc.print_update_stats(plot_data=True)\n",
    "    \n",
    "        \n",
    "    print(\"-------------------------------------\")"
   ]
  }
 ],
 "metadata": {
  "kernelspec": {
   "display_name": "Python 3",
   "language": "python",
   "name": "python3"
  },
  "language_info": {
   "codemirror_mode": {
    "name": "ipython",
    "version": 3
   },
   "file_extension": ".py",
   "mimetype": "text/x-python",
   "name": "python",
   "nbconvert_exporter": "python",
   "pygments_lexer": "ipython3",
   "version": "3.6.9"
  }
 },
 "nbformat": 4,
 "nbformat_minor": 4
}
