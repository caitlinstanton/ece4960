{
 "cells": [
  {
   "cell_type": "markdown",
   "metadata": {},
   "source": [
    "# Lab 9: Grid Localization using Bayes Filter on the Virtual Robot\n",
    "\n",
    "#### <span style=\"color:rgb(0,150,0)\">It is recommended that you close any heavy-duty applications running on your system while working on this lab.</span>\n",
    "\n",
    "#### This notebook showcases localization results of the **Localization** module (defined in *robot_interface.py*) for the virtual robot.\n",
    "\n",
    "<hr>\n"
   ]
  },
  {
   "cell_type": "code",
   "execution_count": 1,
   "metadata": {},
   "outputs": [],
   "source": [
    "# Automatically reload changes in python modules\n",
    "%load_ext autoreload\n",
    "%autoreload 2\n",
    "\n",
    "# Import classes\n",
    "from robot_interface import *\n",
    "\n",
    "import time\n",
    "import numpy as np\n",
    "import rospy\n",
    "from Traj import Trajectory"
   ]
  },
  {
   "cell_type": "code",
   "execution_count": 2,
   "metadata": {},
   "outputs": [],
   "source": [
    "from gridmap import OccupancyGridMap\n",
    "import matplotlib.pyplot as plt\n",
    "from a_star import a_star\n",
    "from utils import plot_path"
   ]
  },
  {
   "cell_type": "code",
   "execution_count": 3,
   "metadata": {},
   "outputs": [
    {
     "name": "stdout",
     "output_type": "stream",
     "text": [
      "Using python version: 3.6.9 (default, Jul 17 2020, 12:50:27) \n",
      "[GCC 8.4.0] \n",
      "\n",
      "Initializing Node\n",
      "Initializing Virtual Robot\n",
      "Initializing beliefs with a Uniform Distribution\n",
      "Uniform Belief with each cell value:  0.0001388888888888889\n"
     ]
    }
   ],
   "source": [
    "# Instantiate VirtualRobot to communicate with the real robot\n",
    "robot = VirtualRobot()\n",
    "\n",
    "# Instantiate Mapper\n",
    "# Start points for each line segment describing the map\n",
    "start_points = np.array([[0,0],\n",
    "                         [3.04,0],\n",
    "                         [3.04,3.04],\n",
    "                         [0,3.04],\n",
    "                         [0,0],\n",
    "                         [0,0.608],\n",
    "                         [0.608,0.608],\n",
    "                         [0.608,0.912],\n",
    "                         [0,0.912],\n",
    "                         [0,2.128],\n",
    "                         [1.216,2.128],\n",
    "                         [1.216,1.52],\n",
    "                         [2.584,1.52],\n",
    "                         [2.584,0.912],\n",
    "                         [1.52,0.304]])\n",
    "\n",
    "# End points for each line segment describing the map\n",
    "end_points = np.array([  [3.04,0],\n",
    "                         [3.04,3.04],\n",
    "                         [0,3.04],\n",
    "                         [0,0],\n",
    "                         [0,0.608],\n",
    "                         [0.608,0.608],\n",
    "                         [0.608,0.912],\n",
    "                         [0,0.912],\n",
    "                         [0,2.128],\n",
    "                         [1.216,2.128],\n",
    "                         [1.216,1.52],\n",
    "                         [2.584,1.52],\n",
    "                         [2.584,0.912],\n",
    "                         [1.52,0.304],\n",
    "                         [0,0]])\n",
    "\n",
    "# Requires a RealRobot object as input\n",
    "mapper = Mapper(min_x=0, max_x=3.04, min_y=0, max_y=3.04, min_a=-180, max_a=180,\n",
    "                cell_size_x=0.152, cell_size_y=0.152, cell_size_a=20,\n",
    "                max_cells_x=20, max_cells_y=20, max_cells_a=18,\n",
    "                ray_length=7, lines=[start_points, end_points], obs_per_cell=18, \n",
    "                robot=robot)\n",
    "#mapper.populate_views()\n",
    "\n",
    "# Instantiate Localization \n",
    "odom_trans_sigma = 0.33\n",
    "odom_rot_sigma = 15\n",
    "sensor_sigma = 0.11\n",
    "\n",
    "# Requires a RealRobot object and a Mapper object as inputs\n",
    "loc = Localization(robot, mapper, sensor_sigma, odom_trans_sigma, odom_rot_sigma)\n",
    "\n",
    "# Visualize the map (described using line segments) in the plotter\n",
    "loc.plotter.visualize_map()"
   ]
  },
  {
   "cell_type": "code",
   "execution_count": 4,
   "metadata": {},
   "outputs": [
    {
     "data": {
      "image/png": "[encoded data removed]",
      "text/plain": [
       "<Figure size 432x288 with 1 Axes>"
      ]
     },
     "metadata": {
      "needs_background": "light"
     },
     "output_type": "display_data"
    }
   ],
   "source": [
    "import subprocess\n",
    "\n",
    "subprocess.run([\"/bin/bash\",\"-c\", \"wmctrl -a 'Plotter'\"])\n",
    "subprocess.run([\"/bin/bash\",\"-c\",\"scrot -d 4 -u -quality 100 map.png\"])\n",
    "gmap = OccupancyGridMap.from_png('map.png', 1)\n",
    "gmap.plot()"
   ]
  },
  {
   "cell_type": "code",
   "execution_count": 5,
   "metadata": {},
   "outputs": [
    {
     "data": {
      "text/plain": [
       "6.0"
      ]
     },
     "execution_count": 5,
     "metadata": {},
     "output_type": "execute_result"
    }
   ],
   "source": [
    "#robot.get_gt_pose()\n",
    "robot.get_laser_data()"
   ]
  },
  {
   "cell_type": "code",
   "execution_count": 6,
   "metadata": {},
   "outputs": [],
   "source": [
    "def check_front(robot):\n",
    "    return robot.get_laser_data() < 0.2\n",
    "\n",
    "def move_to_next(currPos, nextPos, robot):\n",
    "    print(str(currPos) + \" to \" + str(nextPos))\n",
    "    #while(round(robot.get_gt_pose()[0],2) != nextPos[0] and round(robot.get_gt_pose()[1],2) != nextPos[1]):\n",
    "    print(robot.get_gt_pose())\n",
    "    if(currPos[0]>nextPos[0]): #moving left\n",
    "        print(\"moving left\")\n",
    "        #print(robot.get_gt_pose())\n",
    "        nextAng = 180;\n",
    "        while(round(robot.get_gt_pose()[2]) != nextAng): #wait till it gets to the right angle\n",
    "            robot.set_vel(0,0.1)\n",
    "        #print(\"@ 180\")\n",
    "        while(round(robot.get_gt_pose()[0],2) > nextPos[0]): #wait till it gets to the right distance\n",
    "            robot.set_vel(0.1,0)\n",
    "        #print(\"@ location\")\n",
    "        #print(robot.get_gt_pose())\n",
    "\n",
    "    if(currPos[0]<nextPos[0]): #moving right\n",
    "        print(\"moving right\")\n",
    "        #print(robot.get_gt_pose())\n",
    "        nextAng = 0;\n",
    "        while(round(robot.get_gt_pose()[2]) != nextAng): #wait till it gets to the right angle\n",
    "            robot.set_vel(0,0.1)\n",
    "        #print(\"@ 0\")\n",
    "        while(round(robot.get_gt_pose()[0],2) < nextPos[0]): #wait till it gets to the right distance\n",
    "            robot.set_vel(0.1,0)\n",
    "        #print(\"@ location\")\n",
    "        #print(robot.get_gt_pose())\n",
    "\n",
    "    if(currPos[1]>nextPos[1]): #moving down\n",
    "        print(\"moving down\")\n",
    "        #print(robot.get_gt_pose())\n",
    "        nextAng = -90;\n",
    "        while(round(robot.get_gt_pose()[2]) != nextAng): #wait till it gets to the right angle\n",
    "            robot.set_vel(0,0.1)\n",
    "        #print(\"@ -90\")\n",
    "        while(round(robot.get_gt_pose()[1],2) > nextPos[1] and (not check_front(robot))): #wait till it gets to the right distance\n",
    "            robot.set_vel(0.1,0)\n",
    "        #print(\"@ location\")\n",
    "        #print(robot.get_gt_pose())\n",
    "\n",
    "    if(currPos[1]<nextPos[1]): #moving up\n",
    "        print(\"moving up\")\n",
    "        #print(robot.get_gt_pose())\n",
    "        nextAng = 90;\n",
    "        while(round(robot.get_gt_pose()[2]) != nextAng): #wait till it gets to the right angle\n",
    "            robot.set_vel(0,0.1)\n",
    "        #print(\"@ 90\")\n",
    "        while(round(robot.get_gt_pose()[1],2) < nextPos[1] and (not check_front(robot))): #wait till it gets to the right distance\n",
    "            robot.set_vel(0.1,0)\n",
    "        #print(\"@ location\")\n",
    "        #print(robot.get_gt_pose())\n",
    "\n",
    "    print(\"DONE WITH STEP\")\n",
    "    robot.set_vel(0,0)"
   ]
  },
  {
   "cell_type": "markdown",
   "metadata": {},
   "source": []
  },
  {
   "cell_type": "code",
   "execution_count": 12,
   "metadata": {},
   "outputs": [
    {
     "name": "stdout",
     "output_type": "stream",
     "text": [
      "Start cell:  (8, 10)\n",
      "Goal cell:  (15, 4)\n"
     ]
    },
    {
     "data": {
      "image/png": "[encoded data removed]",
      "text/plain": [
       "<Figure size 432x288 with 1 Axes>"
      ]
     },
     "metadata": {
      "needs_background": "light"
     },
     "output_type": "display_data"
    },
    {
     "name": "stdout",
     "output_type": "stream",
     "text": [
      "-----------------\n",
      "4, 1\n",
      "(1, 1, 0) to (0.152, 1.976, 0)\n",
      "(1.0, 1.0, 0.0)\n",
      "moving left\n",
      "moving up\n",
      "DONE WITH STEP\n",
      "4, 2\n",
      "(0.152, 1.976, 0) to (0.304, 1.976, 0)\n",
      "(0.15390306901663475, 1.9813459868188323, 89.7718691776937)\n",
      "moving right\n",
      "DONE WITH STEP\n",
      "4, 3\n",
      "(0.304, 1.976, 0) to (0.45599999999999996, 1.976, 0)\n",
      "(0.31389982224943047, 1.980326695415995, -0.36500931569121176)\n",
      "moving right\n",
      "DONE WITH STEP\n",
      "4, 4\n",
      "(0.45599999999999996, 1.976, 0) to (0.608, 1.976, 0)\n",
      "(0.46389677840517646, 1.979371109725835, -0.36500931569121176)\n",
      "moving right\n",
      "DONE WITH STEP\n",
      "5, 4\n",
      "(0.608, 1.976, 0) to (0.608, 1.8239999999999998, 0)\n",
      "(0.6138937345609218, 1.978415524035675, -0.36500931569121176)\n",
      "moving down\n",
      "DONE WITH STEP\n",
      "6, 4\n",
      "(0.608, 1.8239999999999998, 0) to (0.608, 1.672, 0)\n",
      "(0.6140921993509888, 1.8184156471240767, -89.9289300139453)\n",
      "moving down\n",
      "DONE WITH STEP\n",
      "7, 4\n",
      "(0.608, 1.672, 0) to (0.608, 1.52, 0)\n",
      "(0.6142782600916766, 1.6684157625194531, -89.9289300139453)\n",
      "moving down\n",
      "DONE WITH STEP\n",
      "8, 4\n",
      "(0.608, 1.52, 0) to (0.608, 1.3679999999999999, 0)\n",
      "(0.6144643208323645, 1.5184158779148296, -89.9289300139453)\n",
      "moving down\n",
      "DONE WITH STEP\n",
      "9, 4\n",
      "(0.608, 1.3679999999999999, 0) to (0.608, 1.216, 0)\n",
      "(0.6146627856224315, 1.3584160010032311, -89.9289300139453)\n",
      "moving down\n",
      "DONE WITH STEP\n",
      "10, 4\n",
      "(0.608, 1.216, 0) to (0.608, 1.064, 0)\n",
      "(0.6148488463631193, 1.2084161163986076, -89.9289300139453)\n",
      "moving down\n",
      "DONE WITH STEP\n",
      "11, 4\n",
      "(0.608, 1.064, 0) to (0.608, 0.9119999999999999, 0)\n",
      "(0.6150349071038071, 1.058416231793984, -89.9289300139453)\n",
      "moving down\n",
      "DONE WITH STEP\n",
      "12, 4\n",
      "(0.608, 0.9119999999999999, 0) to (0.608, 0.76, 0)\n",
      "(0.615220967844495, 0.9084163471893594, -89.9289300139453)\n",
      "moving down\n",
      "DONE WITH STEP\n",
      "13, 4\n",
      "(0.608, 0.76, 0) to (0.608, 0.608, 0)\n",
      "(0.6154070285851828, 0.7584164625847342, -89.9289300139453)\n",
      "moving down\n",
      "DONE WITH STEP\n",
      "14, 4\n",
      "(0.608, 0.608, 0) to (0.608, 0.45599999999999996, 0)\n",
      "(0.6156054933752498, 0.5984165856731339, -89.9289300139453)\n",
      "moving down\n",
      "DONE WITH STEP\n",
      "15, 4\n",
      "(0.608, 0.45599999999999996, 0) to (0.608, 0.304, 0)\n",
      "(0.6157915541159377, 0.4484167010685087, -89.9289300139453)\n",
      "moving down\n",
      "DONE WITH STEP\n",
      "MOVE FROM (8, 10) TO (15, 4) COMPLETE!\n"
     ]
    },
    {
     "data": {
      "image/png": "[encoded data removed]",
      "text/plain": [
       "<Figure size 432x288 with 1 Axes>"
      ]
     },
     "metadata": {
      "needs_background": "light"
     },
     "output_type": "display_data"
    },
    {
     "name": "stdout",
     "output_type": "stream",
     "text": [
      "Start cell:  (14, 7)\n",
      "Goal cell:  (9, 14)\n"
     ]
    },
    {
     "data": {
      "image/png": "[encoded data removed]",
      "text/plain": [
       "<Figure size 432x288 with 1 Axes>"
      ]
     },
     "metadata": {
      "needs_background": "light"
     },
     "output_type": "display_data"
    },
    {
     "name": "stdout",
     "output_type": "stream",
     "text": [
      "-----------------\n",
      "4, 1\n",
      "(1, 1, 0) to (0.152, 1.976, 0)\n",
      "(0.6159776148566255, 0.2984168164638835, -89.9289300139453)\n",
      "moving left\n"
     ]
    },
    {
     "ename": "KeyboardInterrupt",
     "evalue": "",
     "output_type": "error",
     "traceback": [
      "\u001b[0;31m---------------------------------------------------------------------------\u001b[0m",
      "\u001b[0;31mKeyboardInterrupt\u001b[0m                         Traceback (most recent call last)",
      "\u001b[0;32m<ipython-input-12-7bae799d2242>\u001b[0m in \u001b[0;36m<module>\u001b[0;34m\u001b[0m\n\u001b[1;32m     47\u001b[0m \u001b[0;34m\u001b[0m\u001b[0m\n\u001b[1;32m     48\u001b[0m             \u001b[0mnextStep\u001b[0m \u001b[0;34m=\u001b[0m \u001b[0;34m(\u001b[0m\u001b[0;34m(\u001b[0m\u001b[0mi\u001b[0m\u001b[0;34m[\u001b[0m\u001b[0;36m1\u001b[0m\u001b[0;34m]\u001b[0m\u001b[0;34m)\u001b[0m\u001b[0;34m*\u001b[0m\u001b[0;36m0.152\u001b[0m\u001b[0;34m,\u001b[0m\u001b[0;34m(\u001b[0m\u001b[0;36m17\u001b[0m\u001b[0;34m-\u001b[0m\u001b[0mi\u001b[0m\u001b[0;34m[\u001b[0m\u001b[0;36m0\u001b[0m\u001b[0;34m]\u001b[0m\u001b[0;34m)\u001b[0m\u001b[0;34m*\u001b[0m\u001b[0;36m0.152\u001b[0m\u001b[0;34m,\u001b[0m\u001b[0;36m0\u001b[0m\u001b[0;34m)\u001b[0m\u001b[0;34m\u001b[0m\u001b[0;34m\u001b[0m\u001b[0m\n\u001b[0;32m---> 49\u001b[0;31m             \u001b[0mmove_to_next\u001b[0m\u001b[0;34m(\u001b[0m\u001b[0mprevStep\u001b[0m\u001b[0;34m,\u001b[0m\u001b[0mnextStep\u001b[0m\u001b[0;34m,\u001b[0m\u001b[0mrobot\u001b[0m\u001b[0;34m)\u001b[0m\u001b[0;34m\u001b[0m\u001b[0;34m\u001b[0m\u001b[0m\n\u001b[0m\u001b[1;32m     50\u001b[0m             \u001b[0mloc\u001b[0m\u001b[0;34m.\u001b[0m\u001b[0mplotter\u001b[0m\u001b[0;34m.\u001b[0m\u001b[0mplot_point\u001b[0m\u001b[0;34m(\u001b[0m\u001b[0mrobot\u001b[0m\u001b[0;34m.\u001b[0m\u001b[0mget_gt_pose\u001b[0m\u001b[0;34m(\u001b[0m\u001b[0;34m)\u001b[0m\u001b[0;34m[\u001b[0m\u001b[0;36m0\u001b[0m\u001b[0;34m]\u001b[0m\u001b[0;34m,\u001b[0m \u001b[0mrobot\u001b[0m\u001b[0;34m.\u001b[0m\u001b[0mget_gt_pose\u001b[0m\u001b[0;34m(\u001b[0m\u001b[0;34m)\u001b[0m\u001b[0;34m[\u001b[0m\u001b[0;36m1\u001b[0m\u001b[0;34m]\u001b[0m\u001b[0;34m,\u001b[0m \u001b[0mGT\u001b[0m\u001b[0;34m)\u001b[0m\u001b[0;34m\u001b[0m\u001b[0;34m\u001b[0m\u001b[0m\n\u001b[1;32m     51\u001b[0m             \u001b[0mloc\u001b[0m\u001b[0;34m.\u001b[0m\u001b[0mplotter\u001b[0m\u001b[0;34m.\u001b[0m\u001b[0mplot_point\u001b[0m\u001b[0;34m(\u001b[0m\u001b[0mrobot\u001b[0m\u001b[0;34m.\u001b[0m\u001b[0mget_pose\u001b[0m\u001b[0;34m(\u001b[0m\u001b[0;34m)\u001b[0m\u001b[0;34m[\u001b[0m\u001b[0;36m0\u001b[0m\u001b[0;34m]\u001b[0m\u001b[0;34m,\u001b[0m \u001b[0mrobot\u001b[0m\u001b[0;34m.\u001b[0m\u001b[0mget_pose\u001b[0m\u001b[0;34m(\u001b[0m\u001b[0;34m)\u001b[0m\u001b[0;34m[\u001b[0m\u001b[0;36m1\u001b[0m\u001b[0;34m]\u001b[0m\u001b[0;34m,\u001b[0m \u001b[0mODOM\u001b[0m\u001b[0;34m)\u001b[0m\u001b[0;34m\u001b[0m\u001b[0;34m\u001b[0m\u001b[0m\n",
      "\u001b[0;32m<ipython-input-6-6484839c605f>\u001b[0m in \u001b[0;36mmove_to_next\u001b[0;34m(currPos, nextPos, robot)\u001b[0m\n\u001b[1;32m     11\u001b[0m         \u001b[0mnextAng\u001b[0m \u001b[0;34m=\u001b[0m \u001b[0;36m180\u001b[0m\u001b[0;34m;\u001b[0m\u001b[0;34m\u001b[0m\u001b[0;34m\u001b[0m\u001b[0m\n\u001b[1;32m     12\u001b[0m         \u001b[0;32mwhile\u001b[0m\u001b[0;34m(\u001b[0m\u001b[0mround\u001b[0m\u001b[0;34m(\u001b[0m\u001b[0mrobot\u001b[0m\u001b[0;34m.\u001b[0m\u001b[0mget_gt_pose\u001b[0m\u001b[0;34m(\u001b[0m\u001b[0;34m)\u001b[0m\u001b[0;34m[\u001b[0m\u001b[0;36m2\u001b[0m\u001b[0;34m]\u001b[0m\u001b[0;34m)\u001b[0m \u001b[0;34m!=\u001b[0m \u001b[0mnextAng\u001b[0m\u001b[0;34m)\u001b[0m\u001b[0;34m:\u001b[0m \u001b[0;31m#wait till it gets to the right angle\u001b[0m\u001b[0;34m\u001b[0m\u001b[0;34m\u001b[0m\u001b[0m\n\u001b[0;32m---> 13\u001b[0;31m             \u001b[0mrobot\u001b[0m\u001b[0;34m.\u001b[0m\u001b[0mset_vel\u001b[0m\u001b[0;34m(\u001b[0m\u001b[0;36m0\u001b[0m\u001b[0;34m,\u001b[0m\u001b[0;36m0.1\u001b[0m\u001b[0;34m)\u001b[0m\u001b[0;34m\u001b[0m\u001b[0;34m\u001b[0m\u001b[0m\n\u001b[0m\u001b[1;32m     14\u001b[0m         \u001b[0;31m#print(\"@ 180\")\u001b[0m\u001b[0;34m\u001b[0m\u001b[0;34m\u001b[0m\u001b[0;34m\u001b[0m\u001b[0m\n\u001b[1;32m     15\u001b[0m         \u001b[0;32mwhile\u001b[0m\u001b[0;34m(\u001b[0m\u001b[0mround\u001b[0m\u001b[0;34m(\u001b[0m\u001b[0mrobot\u001b[0m\u001b[0;34m.\u001b[0m\u001b[0mget_gt_pose\u001b[0m\u001b[0;34m(\u001b[0m\u001b[0;34m)\u001b[0m\u001b[0;34m[\u001b[0m\u001b[0;36m0\u001b[0m\u001b[0;34m]\u001b[0m\u001b[0;34m,\u001b[0m\u001b[0;36m2\u001b[0m\u001b[0;34m)\u001b[0m \u001b[0;34m>\u001b[0m \u001b[0mnextPos\u001b[0m\u001b[0;34m[\u001b[0m\u001b[0;36m0\u001b[0m\u001b[0;34m]\u001b[0m\u001b[0;34m)\u001b[0m\u001b[0;34m:\u001b[0m \u001b[0;31m#wait till it gets to the right distance\u001b[0m\u001b[0;34m\u001b[0m\u001b[0;34m\u001b[0m\u001b[0m\n",
      "\u001b[0;32m~/Desktop/ece4960/lab10/lab10_jupyter/scripts/robot_interface.py\u001b[0m in \u001b[0;36mset_vel\u001b[0;34m(self, v, w)\u001b[0m\n\u001b[1;32m     93\u001b[0m         \u001b[0mcmd_vel\u001b[0m\u001b[0;34m.\u001b[0m\u001b[0mangular\u001b[0m\u001b[0;34m.\u001b[0m\u001b[0mz\u001b[0m \u001b[0;34m=\u001b[0m \u001b[0mw\u001b[0m\u001b[0;34m\u001b[0m\u001b[0;34m\u001b[0m\u001b[0m\n\u001b[1;32m     94\u001b[0m \u001b[0;34m\u001b[0m\u001b[0m\n\u001b[0;32m---> 95\u001b[0;31m         \u001b[0mself\u001b[0m\u001b[0;34m.\u001b[0m\u001b[0mvel_pub\u001b[0m\u001b[0;34m.\u001b[0m\u001b[0mpublish\u001b[0m\u001b[0;34m(\u001b[0m\u001b[0mcmd_vel\u001b[0m\u001b[0;34m)\u001b[0m\u001b[0;34m\u001b[0m\u001b[0;34m\u001b[0m\u001b[0m\n\u001b[0m\u001b[1;32m     96\u001b[0m \u001b[0;34m\u001b[0m\u001b[0m\n\u001b[1;32m     97\u001b[0m     \u001b[0;32mdef\u001b[0m \u001b[0mget_pose\u001b[0m\u001b[0;34m(\u001b[0m\u001b[0mself\u001b[0m\u001b[0;34m)\u001b[0m\u001b[0;34m:\u001b[0m\u001b[0;34m\u001b[0m\u001b[0;34m\u001b[0m\u001b[0m\n",
      "\u001b[0;32m/opt/ros/melodic/lib/python2.7/dist-packages/rospy/topics.py\u001b[0m in \u001b[0;36mpublish\u001b[0;34m(self, *args, **kwds)\u001b[0m\n\u001b[1;32m    880\u001b[0m         \u001b[0;32mtry\u001b[0m\u001b[0;34m:\u001b[0m\u001b[0;34m\u001b[0m\u001b[0;34m\u001b[0m\u001b[0m\n\u001b[1;32m    881\u001b[0m             \u001b[0mself\u001b[0m\u001b[0;34m.\u001b[0m\u001b[0mimpl\u001b[0m\u001b[0;34m.\u001b[0m\u001b[0macquire\u001b[0m\u001b[0;34m(\u001b[0m\u001b[0;34m)\u001b[0m\u001b[0;34m\u001b[0m\u001b[0;34m\u001b[0m\u001b[0m\n\u001b[0;32m--> 882\u001b[0;31m             \u001b[0mself\u001b[0m\u001b[0;34m.\u001b[0m\u001b[0mimpl\u001b[0m\u001b[0;34m.\u001b[0m\u001b[0mpublish\u001b[0m\u001b[0;34m(\u001b[0m\u001b[0mdata\u001b[0m\u001b[0;34m)\u001b[0m\u001b[0;34m\u001b[0m\u001b[0;34m\u001b[0m\u001b[0m\n\u001b[0m\u001b[1;32m    883\u001b[0m         \u001b[0;32mexcept\u001b[0m \u001b[0mgenpy\u001b[0m\u001b[0;34m.\u001b[0m\u001b[0mSerializationError\u001b[0m \u001b[0;32mas\u001b[0m \u001b[0me\u001b[0m\u001b[0;34m:\u001b[0m\u001b[0;34m\u001b[0m\u001b[0;34m\u001b[0m\u001b[0m\n\u001b[1;32m    884\u001b[0m             \u001b[0;31m# can't go to rospy.logerr(), b/c this could potentially recurse\u001b[0m\u001b[0;34m\u001b[0m\u001b[0;34m\u001b[0m\u001b[0;34m\u001b[0m\u001b[0m\n",
      "\u001b[0;32m/opt/ros/melodic/lib/python2.7/dist-packages/rospy/topics.py\u001b[0m in \u001b[0;36mpublish\u001b[0;34m(self, message, connection_override)\u001b[0m\n\u001b[1;32m   1073\u001b[0m                 \u001b[0;32mtry\u001b[0m\u001b[0;34m:\u001b[0m\u001b[0;34m\u001b[0m\u001b[0;34m\u001b[0m\u001b[0m\n\u001b[1;32m   1074\u001b[0m                     \u001b[0;32mif\u001b[0m \u001b[0;32mnot\u001b[0m \u001b[0mis_shutdown\u001b[0m\u001b[0;34m(\u001b[0m\u001b[0;34m)\u001b[0m\u001b[0;34m:\u001b[0m\u001b[0;34m\u001b[0m\u001b[0;34m\u001b[0m\u001b[0m\n\u001b[0;32m-> 1075\u001b[0;31m                         \u001b[0mc\u001b[0m\u001b[0;34m.\u001b[0m\u001b[0mwrite_data\u001b[0m\u001b[0;34m(\u001b[0m\u001b[0mdata\u001b[0m\u001b[0;34m)\u001b[0m\u001b[0;34m\u001b[0m\u001b[0;34m\u001b[0m\u001b[0m\n\u001b[0m\u001b[1;32m   1076\u001b[0m                 \u001b[0;32mexcept\u001b[0m \u001b[0mTransportTerminated\u001b[0m \u001b[0;32mas\u001b[0m \u001b[0me\u001b[0m\u001b[0;34m:\u001b[0m\u001b[0;34m\u001b[0m\u001b[0;34m\u001b[0m\u001b[0m\n\u001b[1;32m   1077\u001b[0m                     \u001b[0mlogdebug\u001b[0m\u001b[0;34m(\u001b[0m\u001b[0;34m\"publisher connection to [%s] terminated, see errorlog for details:\\n%s\"\u001b[0m\u001b[0;34m%\u001b[0m\u001b[0;34m(\u001b[0m\u001b[0mc\u001b[0m\u001b[0;34m.\u001b[0m\u001b[0mendpoint_id\u001b[0m\u001b[0;34m,\u001b[0m \u001b[0mtraceback\u001b[0m\u001b[0;34m.\u001b[0m\u001b[0mformat_exc\u001b[0m\u001b[0;34m(\u001b[0m\u001b[0;34m)\u001b[0m\u001b[0;34m)\u001b[0m\u001b[0;34m)\u001b[0m\u001b[0;34m\u001b[0m\u001b[0;34m\u001b[0m\u001b[0m\n",
      "\u001b[0;32m/opt/ros/melodic/lib/python2.7/dist-packages/rospy/impl/tcpros_pubsub.py\u001b[0m in \u001b[0;36mwrite_data\u001b[0;34m(self, data)\u001b[0m\n\u001b[1;32m    418\u001b[0m             \u001b[0mself\u001b[0m\u001b[0;34m.\u001b[0m\u001b[0m_cond_data_available\u001b[0m\u001b[0;34m.\u001b[0m\u001b[0mnotify\u001b[0m\u001b[0;34m(\u001b[0m\u001b[0;34m)\u001b[0m\u001b[0;34m\u001b[0m\u001b[0;34m\u001b[0m\u001b[0m\n\u001b[1;32m    419\u001b[0m         \u001b[0;31m# effectively yields the rest of the thread quantum\u001b[0m\u001b[0;34m\u001b[0m\u001b[0;34m\u001b[0m\u001b[0;34m\u001b[0m\u001b[0m\n\u001b[0;32m--> 420\u001b[0;31m         \u001b[0mtime\u001b[0m\u001b[0;34m.\u001b[0m\u001b[0msleep\u001b[0m\u001b[0;34m(\u001b[0m\u001b[0;36m0\u001b[0m\u001b[0;34m)\u001b[0m\u001b[0;34m\u001b[0m\u001b[0;34m\u001b[0m\u001b[0m\n\u001b[0m\u001b[1;32m    421\u001b[0m         \u001b[0;32mreturn\u001b[0m \u001b[0;32mTrue\u001b[0m\u001b[0;34m\u001b[0m\u001b[0;34m\u001b[0m\u001b[0m\n\u001b[1;32m    422\u001b[0m \u001b[0;34m\u001b[0m\u001b[0m\n",
      "\u001b[0;31mKeyboardInterrupt\u001b[0m: "
     ]
    },
    {
     "data": {
      "image/png": "[encoded data removed]",
      "text/plain": [
       "<Figure size 432x288 with 1 Axes>"
      ]
     },
     "metadata": {
      "needs_background": "light"
     },
     "output_type": "display_data"
    }
   ],
   "source": [
    "from planner_query import *\n",
    "\n",
    "grid =  [ 1,1,1,1,1,1,1,1,1,1,1,1,1,1,1,1,1,1,1,1,1,1,1,\n",
    "          1,1,1,1,1,1,1,1,1,1,1,1,1,1,1,1,1,1,1,1,1,1,1,\n",
    "          1,1,1,1,1,1,1,1,1,1,1,1,1,1,1,1,1,1,1,1,1,1,1,\n",
    "          1,1,1,1,1,1,1,1,1,1,1,1,1,1,1,1,1,1,1,1,1,1,1,\n",
    "          1,0,0,0,0,0,0,0,1,1,1,1,1,1,1,1,1,1,1,1,1,1,1,\n",
    "          1,0,0,0,0,0,0,0,1,1,1,1,1,1,1,1,1,1,1,1,1,1,1,\n",
    "          1,0,0,0,0,0,0,0,1,1,1,1,1,1,1,1,1,1,1,1,1,1,1,\n",
    "          1,0,0,0,0,0,0,0,0,0,0,0,0,0,0,0,0,0,1,1,1,1,1,\n",
    "          1,0,0,0,0,0,0,0,0,0,0,0,0,0,0,0,0,0,1,1,1,1,1,\n",
    "          1,0,0,0,0,0,0,0,0,0,0,0,0,0,0,0,0,1,1,1,1,1,1,\n",
    "          1,0,0,0,0,0,0,0,0,0,0,0,0,0,0,0,1,1,1,1,1,1,1,\n",
    "          1,1,1,1,0,0,0,0,0,0,0,0,0,0,0,1,1,1,1,1,1,1,1,\n",
    "          1,1,1,1,0,0,0,0,0,0,0,0,0,0,1,1,1,1,1,1,1,1,1,\n",
    "          1,0,0,0,0,0,0,0,0,0,0,0,0,1,1,1,1,1,1,1,1,1,1,\n",
    "          1,0,0,0,0,0,0,0,0,0,0,0,1,1,1,1,1,1,1,1,1,1,1,\n",
    "          1,0,0,0,0,0,0,1,1,1,1,1,1,1,1,1,1,1,1,1,1,1,1,\n",
    "          1,1,1,1,1,1,1,1,1,1,1,1,1,1,1,1,1,1,1,1,1,1,1]\n",
    "grid = np.array(grid, dtype=np.uint8)\n",
    "grid.resize(17,23)\n",
    "\n",
    "# Instantiate the class PlannerQuery\n",
    "pq = PlannerQuery(grid)\n",
    "        \n",
    "for i in range(0,10):\n",
    "    # Generate a start and goal pair\n",
    "    (start_node, goal_node) = pq.generate(plot=True)\n",
    "    gmap = OccupancyGridMap.from_data(grid,1,1)\n",
    "    gmap.plot()\n",
    "    print(\"-----------------\")\n",
    "    path, path_px = a_star((4,1), goal_node, gmap,movement=\"4N\")\n",
    "    \n",
    "\n",
    "    if path:\n",
    "        # plot resulting path in pixels over the map\n",
    "        #plot_path(path_px)\n",
    "        path_arr = np.array(path)\n",
    "        prevStep = (1,1,0)\n",
    "        #nextStep = ((start_node[1])*0.152,(17-start_node[0])*0.152,0)\n",
    "        #move_to_next(prevStep,nextStep,robot)\n",
    "        #prevStep = nextStep\n",
    "        for i in path_arr:\n",
    "            print(str(i[0]) + \", \" + str(i[1]))\n",
    "            graphStep = ((i[1])*0.152,(17-i[0])*0.152, 0)\n",
    "            loc.plotter.plot_point(graphStep[0], graphStep[1],GT)\n",
    "            \n",
    "            nextStep = ((i[1])*0.152,(17-i[0])*0.152,0)\n",
    "            move_to_next(prevStep,nextStep,robot)\n",
    "            loc.plotter.plot_point(robot.get_gt_pose()[0], robot.get_gt_pose()[1], GT)\n",
    "            loc.plotter.plot_point(robot.get_pose()[0], robot.get_pose()[1], ODOM)\n",
    "            prevStep = nextStep\n",
    "        print(\"MOVE FROM \" + str(start_node) + \" TO \" + str(goal_node) + \" COMPLETE!\")\n",
    "        robot.set_vel(0,0)\n",
    "        start_node_px = gmap.get_index_from_coordinates(start_node[0], start_node[1])\n",
    "        goal_node_px = gmap.get_index_from_coordinates(goal_node[0], goal_node[1])\n",
    "\n",
    "        plt.plot(path_arr[:, 1], path_arr[:, 0], 'yo')\n",
    "        plt.plot(start_node_px[1], start_node_px[0], 'ro')\n",
    "        plt.plot(goal_node_px[1], goal_node_px[0], 'go')\n",
    "    else:\n",
    "        print('Goal is not reachable')\n",
    "\n",
    "        # plot start and goal points over the map (in pixels)\n",
    "        start_node_px = gmap.get_index_from_coordinates(start_node[0], start_node[1])\n",
    "        goal_node_px = gmap.get_index_from_coordinates(goal_node[0], goal_node[1])\n",
    "\n",
    "        plt.plot(start_node_px[1], start_node_px[0], 'ro')\n",
    "        plt.plot(goal_node_px[1], goal_node_px[0], 'go')\n",
    "\n",
    "    plt.show()"
   ]
  },
  {
   "cell_type": "code",
   "execution_count": 8,
   "metadata": {},
   "outputs": [
    {
     "name": "stdout",
     "output_type": "stream",
     "text": [
      "model(pose [1.52 0.0 0 0.0] size [3.04 0.002 0.5])\n",
      "model(pose [3.04 1.52 0 90.0] size [3.04 0.002 0.5])\n",
      "model(pose [1.52 3.04 0 180.0] size [3.04 0.002 0.5])\n",
      "model(pose [0.0 1.52 0 -90.0] size [3.04 0.002 0.5])\n",
      "model(pose [0.0 0.304 0 90.0] size [0.608 0.002 0.5])\n",
      "model(pose [0.304 0.608 0 0.0] size [0.608 0.002 0.5])\n",
      "model(pose [0.608 0.76 0 90.0] size [0.30400000000000005 0.002 0.5])\n",
      "model(pose [0.304 0.912 0 180.0] size [0.608 0.002 0.5])\n",
      "model(pose [0.0 1.52 0 90.0] size [1.2160000000000002 0.002 0.5])\n",
      "model(pose [0.608 2.128 0 0.0] size [1.216 0.002 0.5])\n",
      "model(pose [1.216 1.824 0 -90.0] size [0.6080000000000001 0.002 0.5])\n",
      "model(pose [1.9 1.52 0 0.0] size [1.368 0.002 0.5])\n",
      "model(pose [2.584 1.216 0 -90.0] size [0.608 0.002 0.5])\n",
      "model(pose [2.052 0.608 0 -150.25511870305778] size [1.2254631777413796 0.002 0.5])\n",
      "model(pose [0.76 0.152 0 -168.6900675259798] size [1.5501019321322067 0.002 0.5])\n"
     ]
    }
   ],
   "source": [
    "cx,cy,ca = mapper.to_map(0,2.128,0)\n",
    "#mapper.get_views(cx,cy,ca)\n",
    "for i in range(0,start_points.shape[0]):\n",
    "    get_sim_model(start_points[i],end_points[i])"
   ]
  },
  {
   "cell_type": "markdown",
   "metadata": {},
   "source": [
    "# Bayes filter on the virtual robot\n",
    "The cell below run the bayes filter algorithm for the pre-planned trajectory."
   ]
  },
  {
   "cell_type": "code",
   "execution_count": 9,
   "metadata": {},
   "outputs": [
    {
     "name": "stdout",
     "output_type": "stream",
     "text": [
      " | Resetting Robot pose\n",
      "Initializing beliefs with a Uniform Distribution\n",
      "Uniform Belief with each cell value:  0.0001388888888888889\n",
      " | Executing Observation Loop at: 30 deg/s\n",
      "Update Step\n",
      "     | Update Time:  0.02524590492248535\n",
      "\n",
      "---------- UPDATE STATS -----------\n",
      "GT index      :  (16, 16, 8)\n",
      "Bel index     :  (0, 0, 0) with prob =  nan\n",
      "Bel_bar prob at index =  0.0001388888888888889\n",
      "\n",
      "GT     : (1.000, 1.000, -0.000)\n",
      "Belief   : (0.076, 0.076, -170.000)\n",
      "POS ERROR : (0.924, 0.924, 170.000)\n",
      "---------- UPDATE STATS -----------\n",
      "\n",
      "\n",
      "----------------- 0 -----------------\n",
      " | Resetting Robot pose\n"
     ]
    },
    {
     "name": "stderr",
     "output_type": "stream",
     "text": [
      "/home/artemis/Desktop/ece4960/lab10/lab10_jupyter/scripts/robot_interface.py:570: RuntimeWarning: invalid value encountered in true_divide\n",
      "  self.bel = self.bel / np.sum(self.bel)\n"
     ]
    },
    {
     "name": "stdout",
     "output_type": "stream",
     "text": [
      "Prediction Step\n",
      "Uniform Belief with each cell value:  0.0\n",
      "     | Prediction Time:  0.005663156509399414\n",
      "\n",
      "---------- PREDICTION STATS -----------\n",
      "GT index            :  (19, 15, 7)\n",
      "Prior Bel index     :  (0, 0, 0) with prob =  nan\n",
      "POS ERROR      : (1.313, 0.829, 147.655)\n"
     ]
    },
    {
     "name": "stderr",
     "output_type": "stream",
     "text": [
      "/home/artemis/Desktop/ece4960/lab10/lab10_jupyter/scripts/robot_interface.py:557: RuntimeWarning: invalid value encountered in true_divide\n",
      "  self.bel_bar = self.bel_bar / np.sum(self.bel_bar)\n"
     ]
    },
    {
     "name": "stdout",
     "output_type": "stream",
     "text": [
      "---------- PREDICTION STATS -----------\n",
      " | Executing Observation Loop at: 30 deg/s\n"
     ]
    },
    {
     "ename": "KeyboardInterrupt",
     "evalue": "",
     "output_type": "error",
     "traceback": [
      "\u001b[0;31m---------------------------------------------------------------------------\u001b[0m",
      "\u001b[0;31mKeyboardInterrupt\u001b[0m                         Traceback (most recent call last)",
      "\u001b[0;32m<ipython-input-9-30aff3ed4946>\u001b[0m in \u001b[0;36m<module>\u001b[0;34m\u001b[0m\n\u001b[1;32m     28\u001b[0m \u001b[0;34m\u001b[0m\u001b[0m\n\u001b[1;32m     29\u001b[0m     \u001b[0;31m# Get Observation Data by executing a 360 degree rotation motion\u001b[0m\u001b[0;34m\u001b[0m\u001b[0;34m\u001b[0m\u001b[0;34m\u001b[0m\u001b[0m\n\u001b[0;32m---> 30\u001b[0;31m     \u001b[0mloc\u001b[0m\u001b[0;34m.\u001b[0m\u001b[0mget_observation_data\u001b[0m\u001b[0;34m(\u001b[0m\u001b[0;34m)\u001b[0m\u001b[0;34m\u001b[0m\u001b[0;34m\u001b[0m\u001b[0m\n\u001b[0m\u001b[1;32m     31\u001b[0m \u001b[0;34m\u001b[0m\u001b[0m\n\u001b[1;32m     32\u001b[0m     \u001b[0;31m# Update Step\u001b[0m\u001b[0;34m\u001b[0m\u001b[0;34m\u001b[0m\u001b[0;34m\u001b[0m\u001b[0m\n",
      "\u001b[0;32m~/Desktop/ece4960/lab10/lab10_jupyter/scripts/robot_interface.py\u001b[0m in \u001b[0;36mget_observation_data\u001b[0;34m(self, observation_count, rot_vel)\u001b[0m\n\u001b[1;32m    446\u001b[0m     \u001b[0;32mdef\u001b[0m \u001b[0mget_observation_data\u001b[0m\u001b[0;34m(\u001b[0m\u001b[0mself\u001b[0m\u001b[0;34m,\u001b[0m \u001b[0mobservation_count\u001b[0m\u001b[0;34m=\u001b[0m\u001b[0;36m18\u001b[0m\u001b[0;34m,\u001b[0m \u001b[0mrot_vel\u001b[0m\u001b[0;34m=\u001b[0m\u001b[0;36m30\u001b[0m\u001b[0;34m)\u001b[0m\u001b[0;34m:\u001b[0m\u001b[0;34m\u001b[0m\u001b[0;34m\u001b[0m\u001b[0m\n\u001b[1;32m    447\u001b[0m         self.obs_range_data = self.robot.perform_observation_loop(observation_count,\n\u001b[0;32m--> 448\u001b[0;31m                                                                   rot_vel)\n\u001b[0m\u001b[1;32m    449\u001b[0m \u001b[0;34m\u001b[0m\u001b[0m\n\u001b[1;32m    450\u001b[0m     \u001b[0;31m# Print prior belief statistics (for after prediction step) and plot data in the plotter\u001b[0m\u001b[0;34m\u001b[0m\u001b[0;34m\u001b[0m\u001b[0;34m\u001b[0m\u001b[0m\n",
      "\u001b[0;32m~/Desktop/ece4960/lab10/lab10_jupyter/scripts/robot_interface.py\u001b[0m in \u001b[0;36mperform_observation_loop\u001b[0;34m(self, observation_count, rot_vel)\u001b[0m\n\u001b[1;32m    120\u001b[0m         \u001b[0;32mfor\u001b[0m \u001b[0mi\u001b[0m \u001b[0;32min\u001b[0m \u001b[0mrange\u001b[0m\u001b[0;34m(\u001b[0m\u001b[0;36m0\u001b[0m\u001b[0;34m,\u001b[0m \u001b[0mobservation_count\u001b[0m\u001b[0;34m)\u001b[0m\u001b[0;34m:\u001b[0m\u001b[0;34m\u001b[0m\u001b[0;34m\u001b[0m\u001b[0m\n\u001b[1;32m    121\u001b[0m             \u001b[0mobs_range_data\u001b[0m\u001b[0;34m[\u001b[0m\u001b[0mi\u001b[0m\u001b[0;34m]\u001b[0m \u001b[0;34m=\u001b[0m \u001b[0mself\u001b[0m\u001b[0;34m.\u001b[0m\u001b[0mget_laser_data\u001b[0m\u001b[0;34m(\u001b[0m\u001b[0;34m)\u001b[0m\u001b[0;34m\u001b[0m\u001b[0;34m\u001b[0m\u001b[0m\n\u001b[0;32m--> 122\u001b[0;31m             \u001b[0mtime\u001b[0m\u001b[0;34m.\u001b[0m\u001b[0msleep\u001b[0m\u001b[0;34m(\u001b[0m\u001b[0mloop_rot_duration\u001b[0m\u001b[0;34m)\u001b[0m\u001b[0;34m\u001b[0m\u001b[0;34m\u001b[0m\u001b[0m\n\u001b[0m\u001b[1;32m    123\u001b[0m \u001b[0;34m\u001b[0m\u001b[0m\n\u001b[1;32m    124\u001b[0m         \u001b[0mself\u001b[0m\u001b[0;34m.\u001b[0m\u001b[0mset_vel\u001b[0m\u001b[0;34m(\u001b[0m\u001b[0;36m0\u001b[0m\u001b[0;34m,\u001b[0m \u001b[0;36m0\u001b[0m\u001b[0;34m)\u001b[0m\u001b[0;34m\u001b[0m\u001b[0;34m\u001b[0m\u001b[0m\n",
      "\u001b[0;31mKeyboardInterrupt\u001b[0m: "
     ]
    }
   ],
   "source": [
    "# Reset Plots\n",
    "robot.reset()\n",
    "loc.plotter.reset_plot()\n",
    "\n",
    "# Init Uniform Belief\n",
    "loc.init_pose()\n",
    "\n",
    "# Get Observation Data by executing a 360 degree rotation motion\n",
    "loc.get_observation_data()\n",
    "\n",
    "# Run Update Step\n",
    "loc.update_step()\n",
    "loc.print_update_stats(plot_data=True)\n",
    "    \n",
    "# Intialize the Trajectory object\n",
    "traj = Trajectory(loc)\n",
    "\n",
    "# Run through each motion steps\n",
    "for t in range(0, traj.total_time_steps):\n",
    "\n",
    "    print(\"\\n\\n-----------------\", t, \"-----------------\")\n",
    "    \n",
    "    prev_odom, current_odom, prev_gt, current_gt = traj.execute_time_step(t)\n",
    "    \n",
    "    # Prediction Step\n",
    "    loc.prediction_step(current_odom, prev_odom)\n",
    "    loc.print_prediction_stats(plot_data=True)\n",
    "    \n",
    "    # Get Observation Data by executing a 360 degree rotation motion\n",
    "    loc.get_observation_data()\n",
    "    \n",
    "    # Update Step    \n",
    "    loc.update_step()\n",
    "    loc.print_update_stats(plot_data=True)\n",
    "    \n",
    "        \n",
    "    print(\"-------------------------------------\")"
   ]
  }
 ],
 "metadata": {
  "kernelspec": {
   "display_name": "Python 3",
   "language": "python",
   "name": "python3"
  },
  "language_info": {
   "codemirror_mode": {
    "name": "ipython",
    "version": 3
   },
   "file_extension": ".py",
   "mimetype": "text/x-python",
   "name": "python",
   "nbconvert_exporter": "python",
   "pygments_lexer": "ipython3",
   "version": "3.8.3"
  }
 },
 "nbformat": 4,
 "nbformat_minor": 4
}
