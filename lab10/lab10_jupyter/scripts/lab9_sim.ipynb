{
 "cells": [
  {
   "cell_type": "markdown",
   "metadata": {},
   "source": [
    "# Lab 9: Grid Localization using Bayes Filter on the Virtual Robot\n",
    "\n",
    "#### <span style=\"color:rgb(0,150,0)\">It is recommended that you close any heavy-duty applications running on your system while working on this lab.</span>\n",
    "\n",
    "#### This notebook showcases localization results of the **Localization** module (defined in *robot_interface.py*) for the virtual robot.\n",
    "\n",
    "<hr>\n"
   ]
  },
  {
   "cell_type": "code",
   "execution_count": 2,
   "metadata": {},
   "outputs": [],
   "source": [
    "# Automatically reload changes in python modules\n",
    "%load_ext autoreload\n",
    "%autoreload 2\n",
    "\n",
    "# Import classes\n",
    "from robot_interface import *\n",
    "\n",
    "import time\n",
    "import numpy as np\n",
    "import rospy\n",
    "from Traj import Trajectory"
   ]
  },
  {
   "cell_type": "code",
   "execution_count": 9,
   "metadata": {},
   "outputs": [],
   "source": [
    "from gridmap import OccupancyGridMap\n",
    "import matplotlib.pyplot as plt\n",
    "from a_star import a_star\n",
    "from utils import plot_path"
   ]
  },
  {
   "cell_type": "code",
   "execution_count": 39,
   "metadata": {},
   "outputs": [
    {
     "name": "stdout",
     "output_type": "stream",
     "text": [
      "Using python version: 3.6.9 (default, Jul 17 2020, 12:50:27) \n",
      "[GCC 8.4.0] \n",
      "\n",
      "Initializing Node\n",
      "Initializing Virtual Robot\n",
      "Initializing beliefs with a Uniform Distribution\n",
      "Uniform Belief with each cell value:  0.0001388888888888889\n"
     ]
    }
   ],
   "source": [
    "# Instantiate VirtualRobot to communicate with the real robot\n",
    "robot = VirtualRobot()\n",
    "\n",
    "# Instantiate Mapper\n",
    "# Start points for each line segment describing the map\n",
    "start_points = np.array([[0,0],\n",
    "                         [3.04,0],\n",
    "                         [3.04,3.04],\n",
    "                         [0,3.04],\n",
    "                         [0,0],\n",
    "                         [0,0.608],\n",
    "                         [0.608,0.608],\n",
    "                         [0.608,0.912],\n",
    "                         [0,0.912],\n",
    "                         [0,2.128],\n",
    "                         [1.216,2.128],\n",
    "                         [1.216,1.52],\n",
    "                         [2.584,1.52],\n",
    "                         [2.584,0.912],\n",
    "                         [1.52,0.304]])\n",
    "\n",
    "# End points for each line segment describing the map\n",
    "end_points = np.array([  [3.04,0],\n",
    "                         [3.04,3.04],\n",
    "                         [0,3.04],\n",
    "                         [0,0],\n",
    "                         [0,0.608],\n",
    "                         [0.608,0.608],\n",
    "                         [0.608,0.912],\n",
    "                         [0,0.912],\n",
    "                         [0,2.128],\n",
    "                         [1.216,2.128],\n",
    "                         [1.216,1.52],\n",
    "                         [2.584,1.52],\n",
    "                         [2.584,0.912],\n",
    "                         [1.52,0.304],\n",
    "                         [0,0]])\n",
    "\n",
    "# Requires a RealRobot object as input\n",
    "mapper = Mapper(min_x=0, max_x=3.04, min_y=0, max_y=3.04, min_a=-180, max_a=180,\n",
    "                cell_size_x=0.152, cell_size_y=0.152, cell_size_a=20,\n",
    "                max_cells_x=20, max_cells_y=20, max_cells_a=18,\n",
    "                ray_length=7, lines=[start_points, end_points], obs_per_cell=18, \n",
    "                robot=robot)\n",
    "#mapper.populate_views()\n",
    "\n",
    "# Instantiate Localization \n",
    "odom_trans_sigma = 0.33\n",
    "odom_rot_sigma = 15\n",
    "sensor_sigma = 0.11\n",
    "\n",
    "# Requires a RealRobot object and a Mapper object as inputs\n",
    "loc = Localization(robot, mapper, sensor_sigma, odom_trans_sigma, odom_rot_sigma)\n",
    "\n",
    "# Visualize the map (described using line segments) in the plotter\n",
    "loc.plotter.visualize_map()"
   ]
  },
  {
   "cell_type": "code",
   "execution_count": 18,
   "metadata": {},
   "outputs": [
    {
     "data": {
      "image/png": "[encoded data removed]",
      "text/plain": [
       "<Figure size 432x288 with 1 Axes>"
      ]
     },
     "metadata": {
      "needs_background": "light"
     },
     "output_type": "display_data"
    }
   ],
   "source": [
    "import subprocess\n",
    "\n",
    "subprocess.run([\"/bin/bash\",\"-c\", \"wmctrl -a 'Plotter'\"])\n",
    "subprocess.run([\"/bin/bash\",\"-c\",\"scrot -d 4 -u -quality 100 map.png\"])\n",
    "gmap = OccupancyGridMap.from_png('map.png', 1)\n",
    "gmap.plot()"
   ]
  },
  {
   "cell_type": "code",
   "execution_count": 44,
   "metadata": {},
   "outputs": [
    {
     "name": "stdout",
     "output_type": "stream",
     "text": [
      "Start cell:  (11, 10)\n",
      "Goal cell:  (6, 2)\n"
     ]
    },
    {
     "data": {
      "image/png": "[encoded data removed]",
      "text/plain": [
       "<Figure size 432x288 with 1 Axes>"
      ]
     },
     "metadata": {
      "needs_background": "light"
     },
     "output_type": "display_data"
    },
    {
     "name": "stdout",
     "output_type": "stream",
     "text": [
      "-----------------\n"
     ]
    },
    {
     "data": {
      "image/png": "[encoded data removed]",
      "text/plain": [
       "<Figure size 432x288 with 1 Axes>"
      ]
     },
     "metadata": {
      "needs_background": "light"
     },
     "output_type": "display_data"
    },
    {
     "name": "stdout",
     "output_type": "stream",
     "text": [
      "Start cell:  (7, 2)\n",
      "Goal cell:  (15, 1)\n"
     ]
    },
    {
     "data": {
      "image/png": "[encoded data removed]",
      "text/plain": [
       "<Figure size 432x288 with 1 Axes>"
      ]
     },
     "metadata": {
      "needs_background": "light"
     },
     "output_type": "display_data"
    },
    {
     "name": "stdout",
     "output_type": "stream",
     "text": [
      "-----------------\n"
     ]
    },
    {
     "data": {
      "image/png": "[encoded data removed]",
      "text/plain": [
       "<Figure size 432x288 with 1 Axes>"
      ]
     },
     "metadata": {
      "needs_background": "light"
     },
     "output_type": "display_data"
    },
    {
     "name": "stdout",
     "output_type": "stream",
     "text": [
      "Start cell:  (5, 3)\n",
      "Goal cell:  (11, 11)\n"
     ]
    },
    {
     "data": {
      "image/png": "[encoded data removed]",
      "text/plain": [
       "<Figure size 432x288 with 1 Axes>"
      ]
     },
     "metadata": {
      "needs_background": "light"
     },
     "output_type": "display_data"
    },
    {
     "name": "stdout",
     "output_type": "stream",
     "text": [
      "-----------------\n"
     ]
    },
    {
     "data": {
      "image/png": "[encoded data removed]",
      "text/plain": [
       "<Figure size 432x288 with 1 Axes>"
      ]
     },
     "metadata": {
      "needs_background": "light"
     },
     "output_type": "display_data"
    },
    {
     "name": "stdout",
     "output_type": "stream",
     "text": [
      "Start cell:  (8, 4)\n",
      "Goal cell:  (12, 12)\n"
     ]
    },
    {
     "data": {
      "image/png": "[encoded data removed]",
      "text/plain": [
       "<Figure size 432x288 with 1 Axes>"
      ]
     },
     "metadata": {
      "needs_background": "light"
     },
     "output_type": "display_data"
    },
    {
     "name": "stdout",
     "output_type": "stream",
     "text": [
      "-----------------\n",
      "Goal is not reachable\n"
     ]
    },
    {
     "data": {
      "image/png": "[encoded data removed]",
      "text/plain": [
       "<Figure size 432x288 with 1 Axes>"
      ]
     },
     "metadata": {
      "needs_background": "light"
     },
     "output_type": "display_data"
    },
    {
     "name": "stdout",
     "output_type": "stream",
     "text": [
      "Start cell:  (12, 5)\n",
      "Goal cell:  (5, 2)\n"
     ]
    },
    {
     "data": {
      "image/png": "[encoded data removed]",
      "text/plain": [
       "<Figure size 432x288 with 1 Axes>"
      ]
     },
     "metadata": {
      "needs_background": "light"
     },
     "output_type": "display_data"
    },
    {
     "name": "stdout",
     "output_type": "stream",
     "text": [
      "-----------------\n",
      "Goal is not reachable\n"
     ]
    },
    {
     "data": {
      "image/png": "[encoded data removed]",
      "text/plain": [
       "<Figure size 432x288 with 1 Axes>"
      ]
     },
     "metadata": {
      "needs_background": "light"
     },
     "output_type": "display_data"
    },
    {
     "name": "stdout",
     "output_type": "stream",
     "text": [
      "Start cell:  (15, 1)\n",
      "Goal cell:  (7, 7)\n"
     ]
    },
    {
     "data": {
      "image/png": "[encoded data removed]",
      "text/plain": [
       "<Figure size 432x288 with 1 Axes>"
      ]
     },
     "metadata": {
      "needs_background": "light"
     },
     "output_type": "display_data"
    },
    {
     "name": "stdout",
     "output_type": "stream",
     "text": [
      "-----------------\n",
      "Goal is not reachable\n"
     ]
    },
    {
     "data": {
      "image/png": "[encoded data removed]",
      "text/plain": [
       "<Figure size 432x288 with 1 Axes>"
      ]
     },
     "metadata": {
      "needs_background": "light"
     },
     "output_type": "display_data"
    },
    {
     "name": "stdout",
     "output_type": "stream",
     "text": [
      "Start cell:  (7, 15)\n",
      "Goal cell:  (11, 6)\n"
     ]
    },
    {
     "data": {
      "image/png": "[encoded data removed]",
      "text/plain": [
       "<Figure size 432x288 with 1 Axes>"
      ]
     },
     "metadata": {
      "needs_background": "light"
     },
     "output_type": "display_data"
    },
    {
     "name": "stdout",
     "output_type": "stream",
     "text": [
      "-----------------\n",
      "Goal is not reachable\n"
     ]
    },
    {
     "data": {
      "image/png": "[encoded data removed]",
      "text/plain": [
       "<Figure size 432x288 with 1 Axes>"
      ]
     },
     "metadata": {
      "needs_background": "light"
     },
     "output_type": "display_data"
    },
    {
     "name": "stdout",
     "output_type": "stream",
     "text": [
      "Start cell:  (10, 4)\n",
      "Goal cell:  (8, 11)\n"
     ]
    },
    {
     "data": {
      "image/png": "[encoded data removed]",
      "text/plain": [
       "<Figure size 432x288 with 1 Axes>"
      ]
     },
     "metadata": {
      "needs_background": "light"
     },
     "output_type": "display_data"
    },
    {
     "name": "stdout",
     "output_type": "stream",
     "text": [
      "-----------------\n",
      "Goal is not reachable\n"
     ]
    },
    {
     "data": {
      "image/png": "[encoded data removed]",
      "text/plain": [
       "<Figure size 432x288 with 1 Axes>"
      ]
     },
     "metadata": {
      "needs_background": "light"
     },
     "output_type": "display_data"
    },
    {
     "name": "stdout",
     "output_type": "stream",
     "text": [
      "Start cell:  (13, 12)\n",
      "Goal cell:  (8, 4)\n"
     ]
    },
    {
     "data": {
      "image/png": "[encoded data removed]",
      "text/plain": [
       "<Figure size 432x288 with 1 Axes>"
      ]
     },
     "metadata": {
      "needs_background": "light"
     },
     "output_type": "display_data"
    },
    {
     "name": "stdout",
     "output_type": "stream",
     "text": [
      "-----------------\n",
      "Goal is not reachable\n"
     ]
    },
    {
     "data": {
      "image/png": "[encoded data removed]",
      "text/plain": [
       "<Figure size 432x288 with 1 Axes>"
      ]
     },
     "metadata": {
      "needs_background": "light"
     },
     "output_type": "display_data"
    },
    {
     "name": "stdout",
     "output_type": "stream",
     "text": [
      "Start cell:  (4, 4)\n",
      "Goal cell:  (15, 6)\n"
     ]
    },
    {
     "data": {
      "image/png": "[encoded data removed]",
      "text/plain": [
       "<Figure size 432x288 with 1 Axes>"
      ]
     },
     "metadata": {
      "needs_background": "light"
     },
     "output_type": "display_data"
    },
    {
     "name": "stdout",
     "output_type": "stream",
     "text": [
      "-----------------\n",
      "Goal is not reachable\n"
     ]
    },
    {
     "data": {
      "image/png": "[encoded data removed]",
      "text/plain": [
       "<Figure size 432x288 with 1 Axes>"
      ]
     },
     "metadata": {
      "needs_background": "light"
     },
     "output_type": "display_data"
    }
   ],
   "source": [
    "from planner_query import *\n",
    "\n",
    "grid =  [ 1,1,1,1,1,1,1,1,1,1,1,1,1,1,1,1,1,1,1,1,1,1,1,\n",
    "          1,1,1,1,1,1,1,1,1,1,1,1,1,1,1,1,1,1,1,1,1,1,1,\n",
    "          1,1,1,1,1,1,1,1,1,1,1,1,1,1,1,1,1,1,1,1,1,1,1,\n",
    "          1,1,1,1,1,1,1,1,1,1,1,1,1,1,1,1,1,1,1,1,1,1,1,\n",
    "          1,0,0,0,0,0,0,1,1,1,1,1,1,1,1,1,1,1,1,1,1,1,1,\n",
    "          1,0,0,0,0,0,0,1,1,1,1,1,1,1,1,1,1,1,1,1,1,1,1,\n",
    "          1,0,0,0,0,0,0,1,1,1,1,1,1,1,1,1,1,1,1,1,1,1,1,\n",
    "          1,0,0,0,0,0,0,0,0,0,0,0,0,0,0,0,0,1,1,1,1,1,1,\n",
    "          1,0,0,0,0,0,0,0,0,0,0,0,0,0,0,0,0,1,1,1,1,1,1,\n",
    "          1,0,0,0,0,0,0,0,0,0,0,0,0,0,0,0,0,1,1,1,1,1,1,\n",
    "          1,0,0,0,0,0,0,0,0,0,0,0,0,0,0,0,1,1,1,1,1,1,1,\n",
    "          1,1,1,1,0,0,0,0,0,0,0,0,0,0,0,1,1,1,1,1,1,1,1,\n",
    "          1,1,1,1,0,0,0,0,0,0,0,0,0,0,1,1,1,1,1,1,1,1,1,\n",
    "          1,0,0,0,0,0,0,0,0,0,0,0,0,1,1,1,1,1,1,1,1,1,1,\n",
    "          1,0,0,0,0,0,0,0,0,0,0,0,1,1,1,1,1,1,1,1,1,1,1,\n",
    "          1,0,0,0,0,0,0,0,0,0,1,1,1,1,1,1,1,1,1,1,1,1,1,\n",
    "          1,1,1,1,1,1,1,1,1,1,1,1,1,1,1,1,1,1,1,1,1,1,1]\n",
    "grid = np.array(grid, dtype=np.uint8)\n",
    "grid.resize(17,23)\n",
    "\n",
    "# Instantiate the class PlannerQuery\n",
    "pq = PlannerQuery(grid)\n",
    "gmap = OccupancyGridMap.from_data(grid,1)\n",
    "\n",
    "for i in range(0,10):\n",
    "    # Generate a start and goal pair\n",
    "    (start_node, goal_node) = pq.generate(plot=True)\n",
    "    gmap.plot()\n",
    "    print(\"-----------------\")\n",
    "    path, path_px = a_star(start_node, goal_node, gmap)\n",
    "\n",
    "\n",
    "    if path:\n",
    "        # plot resulting path in pixels over the map\n",
    "        plot_path(path_px, loc)\n",
    "    else:\n",
    "        print('Goal is not reachable')\n",
    "\n",
    "        # plot start and goal points over the map (in pixels)\n",
    "        start_node_px = gmap.get_index_from_coordinates(start_node[0], start_node[1])\n",
    "        goal_node_px = gmap.get_index_from_coordinates(goal_node[0], goal_node[1])\n",
    "\n",
    "        plt.plot(start_node_px[0], start_node_px[1], 'ro')\n",
    "        plt.plot(goal_node_px[0], goal_node_px[1], 'go')\n",
    "\n",
    "    plt.show()"
   ]
  },
  {
   "cell_type": "code",
   "execution_count": 17,
   "metadata": {},
   "outputs": [
    {
     "name": "stdout",
     "output_type": "stream",
     "text": [
      "Goal is not reachable\n"
     ]
    },
    {
     "data": {
      "image/png": "[encoded data removed]",
      "text/plain": [
       "<Figure size 432x288 with 1 Axes>"
      ]
     },
     "metadata": {
      "needs_background": "light"
     },
     "output_type": "display_data"
    }
   ],
   "source": [
    "# load the map\n",
    "#gmap = OccupancyGridMap.from_png('maps/example_map_binary.png', 1)\n",
    "gmap = OccupancyGridMap.from_png('map.png', 1)\n",
    "\n",
    "# set a start and an end node (in meters)\n",
    "start_node = (360.0, 330.0)\n",
    "goal_node = (285.0, 86.0)\n",
    "\n",
    "# run A*\n",
    "path, path_px = a_star(start_node, goal_node, gmap, movement='4N')\n",
    "\n",
    "gmap.plot()\n",
    "\n",
    "if path:\n",
    "    # plot resulting path in pixels over the map\n",
    "    plot_path(path_px, loc)\n",
    "else:\n",
    "    print('Goal is not reachable')\n",
    "\n",
    "    # plot start and goal points over the map (in pixels)\n",
    "    start_node_px = gmap.get_index_from_coordinates(start_node[0], start_node[1])\n",
    "    goal_node_px = gmap.get_index_from_coordinates(goal_node[0], goal_node[1])\n",
    "\n",
    "    plt.plot(start_node_px[0], start_node_px[1], 'ro')\n",
    "    plt.plot(goal_node_px[0], goal_node_px[1], 'go')\n",
    "\n",
    "plt.show()"
   ]
  },
  {
   "cell_type": "code",
   "execution_count": 9,
   "metadata": {},
   "outputs": [],
   "source": [
    "cx,cy,ca = mapper.to_map(0,2.128,0)\n",
    "#mapper.get_views(cx,cy,ca)"
   ]
  },
  {
   "cell_type": "markdown",
   "metadata": {},
   "source": [
    "# Bayes filter on the virtual robot\n",
    "The cell below run the bayes filter algorithm for the pre-planned trajectory."
   ]
  },
  {
   "cell_type": "code",
   "execution_count": null,
   "metadata": {},
   "outputs": [],
   "source": [
    "# Reset Plots\n",
    "robot.reset()\n",
    "loc.plotter.reset_plot()\n",
    "\n",
    "# Init Uniform Belief\n",
    "loc.init_pose()\n",
    "\n",
    "# Get Observation Data by executing a 360 degree rotation motion\n",
    "loc.get_observation_data()\n",
    "\n",
    "# Run Update Step\n",
    "loc.update_step()\n",
    "loc.print_update_stats(plot_data=True)\n",
    "    \n",
    "# Intialize the Trajectory object\n",
    "traj = Trajectory(loc)\n",
    "\n",
    "# Run through each motion steps\n",
    "for t in range(0, traj.total_time_steps):\n",
    "\n",
    "    print(\"\\n\\n-----------------\", t, \"-----------------\")\n",
    "    \n",
    "    prev_odom, current_odom, prev_gt, current_gt = traj.execute_time_step(t)\n",
    "    \n",
    "    # Prediction Step\n",
    "    loc.prediction_step(current_odom, prev_odom)\n",
    "    loc.print_prediction_stats(plot_data=True)\n",
    "    \n",
    "    # Get Observation Data by executing a 360 degree rotation motion\n",
    "    loc.get_observation_data()\n",
    "    \n",
    "    # Update Step    \n",
    "    loc.update_step()\n",
    "    loc.print_update_stats(plot_data=True)\n",
    "    \n",
    "        \n",
    "    print(\"-------------------------------------\")"
   ]
  }
 ],
 "metadata": {
  "kernelspec": {
   "display_name": "Python 3",
   "language": "python",
   "name": "python3"
  },
  "language_info": {
   "codemirror_mode": {
    "name": "ipython",
    "version": 3
   },
   "file_extension": ".py",
   "mimetype": "text/x-python",
   "name": "python",
   "nbconvert_exporter": "python",
   "pygments_lexer": "ipython3",
   "version": "3.6.9"
  }
 },
 "nbformat": 4,
 "nbformat_minor": 4
}
