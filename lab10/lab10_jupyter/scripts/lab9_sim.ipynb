{
 "cells": [
  {
   "cell_type": "markdown",
   "metadata": {},
   "source": [
    "# Lab 9: Grid Localization using Bayes Filter on the Virtual Robot\n",
    "\n",
    "#### <span style=\"color:rgb(0,150,0)\">It is recommended that you close any heavy-duty applications running on your system while working on this lab.</span>\n",
    "\n",
    "#### This notebook showcases localization results of the **Localization** module (defined in *robot_interface.py*) for the virtual robot.\n",
    "\n",
    "<hr>\n"
   ]
  },
  {
   "cell_type": "code",
   "execution_count": 12,
   "metadata": {},
   "outputs": [
    {
     "name": "stdout",
     "output_type": "stream",
     "text": [
      "The autoreload extension is already loaded. To reload it, use:\n",
      "  %reload_ext autoreload\n"
     ]
    }
   ],
   "source": [
    "# Automatically reload changes in python modules\n",
    "%load_ext autoreload\n",
    "%autoreload 2\n",
    "\n",
    "# Import classes\n",
    "from robot_interface import *\n",
    "\n",
    "import time\n",
    "import numpy as np\n",
    "import rospy\n",
    "from Traj import Trajectory"
   ]
  },
  {
   "cell_type": "code",
   "execution_count": 13,
   "metadata": {},
   "outputs": [],
   "source": [
    "from gridmap import OccupancyGridMap\n",
    "import matplotlib.pyplot as plt\n",
    "from a_star import a_star\n",
    "from utils import plot_path"
   ]
  },
  {
   "cell_type": "code",
   "execution_count": 14,
   "metadata": {},
   "outputs": [
    {
     "name": "stdout",
     "output_type": "stream",
     "text": [
      "Using python version: 3.6.9 (default, Jul 17 2020, 12:50:27) \n",
      "[GCC 8.4.0] \n",
      "\n",
      "Initializing Node\n",
      "Initializing Virtual Robot\n",
      "Initializing beliefs with a Uniform Distribution\n",
      "Uniform Belief with each cell value:  0.0001388888888888889\n"
     ]
    }
   ],
   "source": [
    "# Instantiate VirtualRobot to communicate with the real robot\n",
    "robot = VirtualRobot()\n",
    "\n",
    "# Instantiate Mapper\n",
    "# Start points for each line segment describing the map\n",
    "start_points = np.array([[0,0],\n",
    "                         [3.04,0],\n",
    "                         [3.04,3.04],\n",
    "                         [0,3.04],\n",
    "                         [0,0],\n",
    "                         [0,0.608],\n",
    "                         [0.608,0.608],\n",
    "                         [0.608,0.912],\n",
    "                         [0,0.912],\n",
    "                         [0,2.128],\n",
    "                         [1.216,2.128],\n",
    "                         [1.216,1.52],\n",
    "                         [2.584,1.52],\n",
    "                         [2.584,0.912],\n",
    "                         [1.52,0.304]])\n",
    "\n",
    "# End points for each line segment describing the map\n",
    "end_points = np.array([  [3.04,0],\n",
    "                         [3.04,3.04],\n",
    "                         [0,3.04],\n",
    "                         [0,0],\n",
    "                         [0,0.608],\n",
    "                         [0.608,0.608],\n",
    "                         [0.608,0.912],\n",
    "                         [0,0.912],\n",
    "                         [0,2.128],\n",
    "                         [1.216,2.128],\n",
    "                         [1.216,1.52],\n",
    "                         [2.584,1.52],\n",
    "                         [2.584,0.912],\n",
    "                         [1.52,0.304],\n",
    "                         [0,0]])\n",
    "\n",
    "# Requires a RealRobot object as input\n",
    "mapper = Mapper(min_x=0, max_x=3.04, min_y=0, max_y=3.04, min_a=-180, max_a=180,\n",
    "                cell_size_x=0.152, cell_size_y=0.152, cell_size_a=20,\n",
    "                max_cells_x=20, max_cells_y=20, max_cells_a=18,\n",
    "                ray_length=7, lines=[start_points, end_points], obs_per_cell=18, \n",
    "                robot=robot)\n",
    "#mapper.populate_views()\n",
    "\n",
    "# Instantiate Localization \n",
    "odom_trans_sigma = 0.33\n",
    "odom_rot_sigma = 15\n",
    "sensor_sigma = 0.11\n",
    "\n",
    "# Requires a RealRobot object and a Mapper object as inputs\n",
    "loc = Localization(robot, mapper, sensor_sigma, odom_trans_sigma, odom_rot_sigma)\n",
    "\n",
    "# Visualize the map (described using line segments) in the plotter\n",
    "loc.plotter.visualize_map()"
   ]
  },
  {
   "cell_type": "code",
   "execution_count": null,
   "metadata": {},
   "outputs": [],
   "source": [
    "import subprocess\n",
    "\n",
    "subprocess.run([\"/bin/bash\",\"-c\", \"wmctrl -a 'Plotter'\"])\n",
    "subprocess.run([\"/bin/bash\",\"-c\",\"scrot -d 4 -u -quality 100 map.png\"])\n",
    "gmap = OccupancyGridMap.from_png('map.png', 1)\n",
    "gmap.plot()"
   ]
  },
  {
   "cell_type": "code",
   "execution_count": null,
   "metadata": {},
   "outputs": [],
   "source": [
    "#robot.get_gt_pose()\n",
    "robot.get_laser_data()"
   ]
  },
  {
   "cell_type": "code",
   "execution_count": 20,
   "metadata": {},
   "outputs": [],
   "source": [
    "def check_front(robot):\n",
    "    return robot.get_laser_data() < 0.2\n",
    "\n",
    "def move_to_next(currPos, nextPos, robot):\n",
    "    print(str(currPos) + \" to \" + str(nextPos))\n",
    "    #while(round(robot.get_gt_pose()[0],2) != nextPos[0] and round(robot.get_gt_pose()[1],2) != nextPos[1]):\n",
    "    print(robot.get_gt_pose())\n",
    "    if(currPos[0]>nextPos[0]): #moving left\n",
    "        print(\"moving left\")\n",
    "        #print(robot.get_gt_pose())\n",
    "        nextAng = 180;\n",
    "        while(round(robot.get_gt_pose()[2]) != nextAng): #wait till it gets to the right angle\n",
    "            robot.set_vel(0,0.1)\n",
    "        #print(\"@ 180\")\n",
    "        while(round(robot.get_gt_pose()[0],2) > nextPos[0]): #wait till it gets to the right distance\n",
    "            robot.set_vel(0.1,0)\n",
    "        #print(\"@ location\")\n",
    "        #print(robot.get_gt_pose())\n",
    "\n",
    "    if(currPos[0]<nextPos[0]): #moving right\n",
    "        print(\"moving right\")\n",
    "        #print(robot.get_gt_pose())\n",
    "        nextAng = 0;\n",
    "        while(round(robot.get_gt_pose()[2]) != nextAng): #wait till it gets to the right angle\n",
    "            robot.set_vel(0,0.1)\n",
    "        #print(\"@ 0\")\n",
    "        while(round(robot.get_gt_pose()[0],2) < nextPos[0]): #wait till it gets to the right distance\n",
    "            robot.set_vel(0.1,0)\n",
    "        #print(\"@ location\")\n",
    "        #print(robot.get_gt_pose())\n",
    "\n",
    "    if(currPos[1]>nextPos[1]): #moving down\n",
    "        print(\"moving down\")\n",
    "        #print(robot.get_gt_pose())\n",
    "        nextAng = -90;\n",
    "        while(round(robot.get_gt_pose()[2]) != nextAng): #wait till it gets to the right angle\n",
    "            robot.set_vel(0,0.1)\n",
    "        #print(\"@ -90\")\n",
    "        while(round(robot.get_gt_pose()[1],2) > nextPos[1] and (not check_front(robot))): #wait till it gets to the right distance\n",
    "            robot.set_vel(0.1,0)\n",
    "        #print(\"@ location\")\n",
    "        #print(robot.get_gt_pose())\n",
    "\n",
    "    if(currPos[1]<nextPos[1]): #moving up\n",
    "        print(\"moving up\")\n",
    "        #print(robot.get_gt_pose())\n",
    "        nextAng = 90;\n",
    "        while(round(robot.get_gt_pose()[2]) != nextAng): #wait till it gets to the right angle\n",
    "            robot.set_vel(0,0.1)\n",
    "        #print(\"@ 90\")\n",
    "        while(round(robot.get_gt_pose()[1],2) < nextPos[1] and (not check_front(robot))): #wait till it gets to the right distance\n",
    "            robot.set_vel(0.1,0)\n",
    "        #print(\"@ location\")\n",
    "        #print(robot.get_gt_pose())\n",
    "\n",
    "    print(\"DONE WITH STEP\")\n",
    "    robot.set_vel(0,0)"
   ]
  },
  {
   "cell_type": "code",
   "execution_count": 22,
   "metadata": {},
   "outputs": [
    {
     "name": "stdout",
     "output_type": "stream",
     "text": [
      "Start cell:  (13, 2)\n",
      "Goal cell:  (8, 8)\n"
     ]
    },
    {
     "data": {
      "image/png": "[encoded data removed]",
      "text/plain": [
       "<Figure size 432x288 with 1 Axes>"
      ]
     },
     "metadata": {
      "needs_background": "light"
     },
     "output_type": "display_data"
    },
    {
     "name": "stdout",
     "output_type": "stream",
     "text": [
      "-----------------\n",
      "(1, 1, 0) to (0.304, 0.608, 0)\n",
      "(1.0, 1.0, 0.0)\n",
      "moving left\n",
      "moving down\n",
      "DONE WITH STEP\n",
      "(0.304, 0.608, 0) to (0.45599999999999996, 0.608, 0)\n",
      "(0.2990452965457926, 0.6011159984864647, -90.13687849338494)\n",
      "moving right\n",
      "DONE WITH STEP\n",
      "(0.45599999999999996, 0.608, 0) to (0.608, 0.608, 0)\n",
      "(0.45904448485193305, 0.6006063501995551, -0.18250465784561978)\n",
      "moving right\n",
      "DONE WITH STEP\n",
      "(0.608, 0.608, 0) to (0.608, 0.76, 0)\n",
      "(0.6090437238889391, 0.6001285549305774, -0.18250465784561978)\n",
      "moving up\n",
      "DONE WITH STEP\n",
      "(0.608, 0.76, 0) to (0.608, 0.9119999999999999, 0)\n",
      "(0.6096807836415982, 0.7601272866595249, 89.7718691776937)\n",
      "moving up\n",
      "DONE WITH STEP\n",
      "(0.608, 0.9119999999999999, 0) to (0.608, 1.064, 0)\n",
      "(0.6103178433942572, 0.9201260183884724, 89.7718691776937)\n",
      "moving up\n",
      "DONE WITH STEP\n",
      "(0.608, 1.064, 0) to (0.608, 1.216, 0)\n",
      "(0.6109150869123751, 1.0701248293843606, 89.7718691776937)\n",
      "moving up\n",
      "DONE WITH STEP\n",
      "(0.608, 1.216, 0) to (0.608, 1.3679999999999999, 0)\n",
      "(0.6115123304304929, 1.220123640380249, 89.7718691776937)\n",
      "moving up\n",
      "DONE WITH STEP\n",
      "(0.608, 1.3679999999999999, 0) to (0.76, 1.3679999999999999, 0)\n",
      "(0.6121095739486108, 1.3701224513761372, 89.7718691776937)\n",
      "moving right\n",
      "DONE WITH STEP\n",
      "(0.76, 1.3679999999999999, 0) to (0.9119999999999999, 1.3679999999999999, 0)\n",
      "(0.7621065301043559, 1.3691668656859772, -0.36500931569121176)\n",
      "moving right\n",
      "DONE WITH STEP\n",
      "(0.9119999999999999, 1.3679999999999999, 0) to (1.064, 1.3679999999999999, 0)\n",
      "(0.9221032833371507, 1.36814757428314, -0.36500931569121176)\n",
      "moving right\n",
      "DONE WITH STEP\n",
      "(1.064, 1.3679999999999999, 0) to (1.216, 1.3679999999999999, 0)\n",
      "(1.0721002394928967, 1.36719198859298, -0.36500931569121176)\n",
      "moving right\n",
      "DONE WITH STEP\n",
      "MOVE FROM (13, 2) TO (8, 8) COMPLETE!\n"
     ]
    },
    {
     "data": {
      "image/png": "[encoded data removed]",
      "text/plain": [
       "<Figure size 432x288 with 1 Axes>"
      ]
     },
     "metadata": {
      "needs_background": "light"
     },
     "output_type": "display_data"
    },
    {
     "name": "stdout",
     "output_type": "stream",
     "text": [
      "Start cell:  (10, 9)\n",
      "Goal cell:  (15, 3)\n"
     ]
    },
    {
     "data": {
      "image/png": "[encoded data removed]",
      "text/plain": [
       "<Figure size 432x288 with 1 Axes>"
      ]
     },
     "metadata": {
      "needs_background": "light"
     },
     "output_type": "display_data"
    },
    {
     "name": "stdout",
     "output_type": "stream",
     "text": [
      "-----------------\n",
      "(1, 1, 0) to (1.3679999999999999, 1.064, 0)\n",
      "(1.2220971956486435, 1.36623640290282, -0.36500931569121176)\n",
      "moving right\n",
      "moving up\n",
      "DONE WITH STEP\n",
      "(1.3679999999999999, 1.064, 0) to (1.216, 1.064, 0)\n",
      "(1.3720941518043903, 1.36528081721266, 89.5893645198481)\n",
      "moving left\n",
      "DONE WITH STEP\n",
      "(1.216, 1.064, 0) to (1.064, 1.064, 0)\n",
      "(1.2120992248684959, 1.3665549266184267, 179.54373835538598)\n",
      "moving left\n",
      "DONE WITH STEP\n",
      "(1.064, 1.064, 0) to (0.9119999999999999, 1.064, 0)\n",
      "(1.0621039808660948, 1.367749404186333, 179.54373835538598)\n",
      "moving left\n",
      "DONE WITH STEP\n",
      "(0.9119999999999999, 1.064, 0) to (0.76, 1.064, 0)\n",
      "(0.9121087368636938, 1.3689438817542392, 179.54373835538598)\n",
      "moving left\n",
      "DONE WITH STEP\n",
      "(0.76, 1.064, 0) to (0.608, 1.064, 0)\n",
      "(0.7621134928612927, 1.3701383593221454, 179.54373835538598)\n",
      "moving left\n",
      "DONE WITH STEP\n",
      "(0.608, 1.064, 0) to (0.608, 0.9119999999999999, 0)\n",
      "(0.6021185659253983, 1.3714124687279121, 179.54373835538598)\n",
      "moving down\n",
      "DONE WITH STEP\n",
      "(0.608, 0.9119999999999999, 0) to (0.608, 0.76, 0)\n",
      "(0.6026891521968409, 0.9114128226070656, -89.9289300139453)\n",
      "moving down\n",
      "DONE WITH STEP\n",
      "(0.608, 0.76, 0) to (0.608, 0.608, 0)\n",
      "(0.6028752129375288, 0.7614129380024404, -89.9289300139453)\n",
      "moving down\n",
      "DONE WITH STEP\n",
      "(0.608, 0.608, 0) to (0.45599999999999996, 0.608, 0)\n",
      "(0.6030736777275958, 0.6014130610908401, -89.9289300139453)\n",
      "moving left\n",
      "DONE WITH STEP\n",
      "(0.45599999999999996, 0.608, 0) to (0.45599999999999996, 0.45599999999999996, 0)\n",
      "(0.45307377666944704, 0.6015853473222664, 179.9341914926712)\n",
      "moving down\n",
      "DONE WITH STEP\n",
      "(0.45599999999999996, 0.45599999999999996, 0) to (0.45599999999999996, 0.304, 0)\n",
      "(0.452782041564824, 0.4515856310204393, -90.1114346717909)\n",
      "moving down\n",
      "DONE WITH STEP\n",
      "MOVE FROM (10, 9) TO (15, 3) COMPLETE!\n"
     ]
    },
    {
     "data": {
      "image/png": "[encoded data removed]",
      "text/plain": [
       "<Figure size 432x288 with 1 Axes>"
      ]
     },
     "metadata": {
      "needs_background": "light"
     },
     "output_type": "display_data"
    },
    {
     "name": "stdout",
     "output_type": "stream",
     "text": [
      "Start cell:  (7, 7)\n",
      "Goal cell:  (14, 1)\n"
     ]
    },
    {
     "data": {
      "image/png": "[encoded data removed]",
      "text/plain": [
       "<Figure size 432x288 with 1 Axes>"
      ]
     },
     "metadata": {
      "needs_background": "light"
     },
     "output_type": "display_data"
    },
    {
     "name": "stdout",
     "output_type": "stream",
     "text": [
      "-----------------\n",
      "(1, 1, 0) to (1.064, 1.52, 0)\n",
      "(0.45249030646020094, 0.3015859147186116, -90.1114346717909)\n",
      "moving right\n",
      "moving up\n",
      "DONE WITH STEP\n",
      "(1.064, 1.52, 0) to (0.9119999999999999, 1.52, 0)\n",
      "(1.0768037857426562, 1.519878721327202, 89.79731299928773)\n",
      "moving left\n",
      "DONE WITH STEP\n",
      "(0.9119999999999999, 1.52, 0) to (0.76, 1.52, 0)\n",
      "(0.9068053822557061, 1.5206154790132536, 179.75168683482562)\n",
      "moving left\n",
      "DONE WITH STEP\n",
      "(0.76, 1.52, 0) to (0.608, 1.52, 0)\n",
      "(0.7568067909436905, 1.5212655593244755, 179.75168683482562)\n",
      "moving left\n",
      "DONE WITH STEP\n",
      "(0.608, 1.52, 0) to (0.608, 1.3679999999999999, 0)\n",
      "(0.5968082935442073, 1.5219589783231122, 179.75168683482562)\n",
      "moving down\n",
      "DONE WITH STEP\n",
      "(0.608, 1.3679999999999999, 0) to (0.608, 1.216, 0)\n",
      "(0.595987463688273, 1.361961083842128, -90.2939393296365)\n",
      "moving down\n",
      "DONE WITH STEP\n",
      "(0.608, 1.216, 0) to (0.608, 1.064, 0)\n",
      "(0.5952179356983347, 1.2119630577662055, -90.2939393296365)\n",
      "moving down\n",
      "DONE WITH STEP\n",
      "(0.608, 1.064, 0) to (0.608, 0.9119999999999999, 0)\n",
      "(0.5944484077083964, 1.061965031690283, -90.2939393296365)\n",
      "moving down\n",
      "DONE WITH STEP\n",
      "(0.608, 0.9119999999999999, 0) to (0.608, 0.76, 0)\n",
      "(0.593678879718458, 0.9119670056143613, -90.2939393296365)\n",
      "moving down\n",
      "DONE WITH STEP\n",
      "(0.608, 0.76, 0) to (0.608, 0.608, 0)\n",
      "(0.5929093517285197, 0.7619689795384403, -90.2939393296365)\n",
      "moving down\n",
      "DONE WITH STEP\n",
      "(0.608, 0.608, 0) to (0.45599999999999996, 0.608, 0)\n",
      "(0.5920885218725854, 0.601971085057458, -90.2939393296365)\n",
      "moving left\n",
      "DONE WITH STEP\n",
      "(0.45599999999999996, 0.608, 0) to (0.304, 0.608, 0)\n",
      "(0.45209247952867754, 0.6030237616663008, 179.56918217698004)\n",
      "moving left\n",
      "DONE WITH STEP\n",
      "(0.304, 0.608, 0) to (0.152, 0.608, 0)\n",
      "(0.30209671987449105, 0.6041516294614895, 179.56918217698004)\n",
      "moving left\n",
      "DONE WITH STEP\n",
      "(0.152, 0.608, 0) to (0.152, 0.45599999999999996, 0)\n",
      "(0.15210096022030428, 0.6052794972566782, 179.56918217698004)\n",
      "moving down\n",
      "DONE WITH STEP\n",
      "MOVE FROM (7, 7) TO (14, 1) COMPLETE!\n"
     ]
    },
    {
     "data": {
      "image/png": "[encoded data removed]",
      "text/plain": [
       "<Figure size 432x288 with 1 Axes>"
      ]
     },
     "metadata": {
      "needs_background": "light"
     },
     "output_type": "display_data"
    },
    {
     "name": "stdout",
     "output_type": "stream",
     "text": [
      "Start cell:  (8, 11)\n",
      "Goal cell:  (15, 4)\n"
     ]
    },
    {
     "data": {
      "image/png": "[encoded data removed]",
      "text/plain": [
       "<Figure size 432x288 with 1 Axes>"
      ]
     },
     "metadata": {
      "needs_background": "light"
     },
     "output_type": "display_data"
    },
    {
     "name": "stdout",
     "output_type": "stream",
     "text": [
      "-----------------\n",
      "(1, 1, 0) to (1.672, 1.3679999999999999, 0)\n",
      "(0.1507704929483149, 0.44528502904968603, -90.4764439874821)\n",
      "moving right\n",
      "moving up\n",
      "DONE WITH STEP\n",
      "(1.672, 1.3679999999999999, 0) to (1.52, 1.3679999999999999, 0)\n",
      "(1.680685405781964, 1.3666439050829455, 90.00526147872738)\n",
      "moving left\n",
      "DONE WITH STEP\n",
      "(1.52, 1.3679999999999999, 0) to (1.3679999999999999, 1.3679999999999999, 0)\n",
      "(1.5206854454872056, 1.3667566245404397, 179.95963531426526)\n",
      "moving left\n",
      "DONE WITH STEP\n",
      "(1.3679999999999999, 1.3679999999999999, 0) to (1.216, 1.3679999999999999, 0)\n",
      "(1.3606854851924473, 1.3668693439979338, 179.95963531426526)\n",
      "moving left\n",
      "DONE WITH STEP\n",
      "(1.216, 1.3679999999999999, 0) to (1.064, 1.3679999999999999, 0)\n",
      "(1.2106855224161113, 1.3669750184893346, 179.95963531426526)\n",
      "moving left\n",
      "DONE WITH STEP\n",
      "(1.064, 1.3679999999999999, 0) to (0.9119999999999999, 1.3679999999999999, 0)\n",
      "(1.0606855596397753, 1.3670806929807353, 179.95963531426526)\n",
      "moving left\n",
      "DONE WITH STEP\n",
      "(0.9119999999999999, 1.3679999999999999, 0) to (0.76, 1.3679999999999999, 0)\n",
      "(0.9106855968634403, 1.367186367472136, 179.95963531426526)\n",
      "moving left\n",
      "DONE WITH STEP\n",
      "(0.76, 1.3679999999999999, 0) to (0.608, 1.3679999999999999, 0)\n",
      "(0.760685634087106, 1.3672920419635368, 179.95963531426526)\n",
      "moving left\n",
      "DONE WITH STEP\n",
      "(0.608, 1.3679999999999999, 0) to (0.608, 1.216, 0)\n",
      "(0.6006856737923494, 1.367404761421031, 179.95963531426526)\n",
      "moving down\n",
      "DONE WITH STEP\n",
      "(0.608, 1.216, 0) to (0.608, 1.064, 0)\n",
      "(0.6004455421284929, 1.2074049416186832, -90.08599085019688)\n",
      "moving down\n",
      "DONE WITH STEP\n",
      "(0.608, 1.064, 0) to (0.608, 0.9119999999999999, 0)\n",
      "(0.6002204186936274, 1.0574051105539821, -90.08599085019688)\n",
      "moving down\n",
      "DONE WITH STEP\n",
      "(0.608, 0.9119999999999999, 0) to (0.608, 0.76, 0)\n",
      "(0.5999952952587619, 0.9074052794892811, -90.08599085019688)\n",
      "moving down\n",
      "DONE WITH STEP\n",
      "(0.608, 0.76, 0) to (0.608, 0.608, 0)\n",
      "(0.5997701718238965, 0.75740544842458, -90.08599085019688)\n",
      "moving down\n",
      "DONE WITH STEP\n",
      "(0.608, 0.608, 0) to (0.608, 0.45599999999999996, 0)\n",
      "(0.59953004016004, 0.5974056286222322, -90.08599085019688)\n",
      "moving down\n",
      "DONE WITH STEP\n",
      "(0.608, 0.45599999999999996, 0) to (0.608, 0.304, 0)\n",
      "(0.5993049167251745, 0.44740579755753085, -90.08599085019688)\n",
      "moving down\n",
      "DONE WITH STEP\n",
      "MOVE FROM (8, 11) TO (15, 4) COMPLETE!\n"
     ]
    },
    {
     "data": {
      "image/png": "[encoded data removed]",
      "text/plain": [
       "<Figure size 432x288 with 1 Axes>"
      ]
     },
     "metadata": {
      "needs_background": "light"
     },
     "output_type": "display_data"
    },
    {
     "name": "stdout",
     "output_type": "stream",
     "text": [
      "Start cell:  (6, 5)\n",
      "Goal cell:  (10, 11)\n"
     ]
    },
    {
     "data": {
      "image/png": "[encoded data removed]",
      "text/plain": [
       "<Figure size 432x288 with 1 Axes>"
      ]
     },
     "metadata": {
      "needs_background": "light"
     },
     "output_type": "display_data"
    },
    {
     "name": "stdout",
     "output_type": "stream",
     "text": [
      "-----------------\n",
      "(1, 1, 0) to (0.76, 1.672, 0)\n",
      "(0.599079793290309, 0.29740596649282897, -90.08599085019688)\n",
      "moving left\n",
      "moving up\n",
      "DONE WITH STEP\n",
      "(0.76, 1.672, 0) to (0.9119999999999999, 1.672, 0)\n",
      "(0.6077444585987614, 1.6773787646215055, 89.64025216303618)\n",
      "moving right\n",
      "DONE WITH STEP\n",
      "(0.9119999999999999, 1.672, 0) to (1.064, 1.672, 0)\n",
      "(0.9177328134994338, 1.6746917912360766, -0.4966263303487333)\n",
      "moving right\n",
      "DONE WITH STEP\n",
      "(1.064, 1.672, 0) to (1.064, 1.52, 0)\n",
      "(1.0677271787739535, 1.6733916428237723, -0.4966263303487333)\n",
      "moving down\n",
      "DONE WITH STEP\n",
      "(1.064, 1.52, 0) to (1.216, 1.52, 0)\n",
      "(1.0675686670532443, 1.5233917265770132, -90.06054702860284)\n",
      "moving right\n",
      "DONE WITH STEP\n",
      "(1.216, 1.52, 0) to (1.3679999999999999, 1.52, 0)\n",
      "(1.2175684095126855, 1.5231137659666478, -0.10617319306351468)\n",
      "moving right\n",
      "DONE WITH STEP\n",
      "(1.3679999999999999, 1.52, 0) to (1.52, 1.52, 0)\n",
      "(1.3675681519721268, 1.5228358053562825, -0.10617319306351468)\n",
      "moving right\n",
      "DONE WITH STEP\n",
      "(1.52, 1.52, 0) to (1.672, 1.52, 0)\n",
      "(1.517567894431568, 1.5225578447459172, -0.10617319306351468)\n",
      "moving right\n",
      "DONE WITH STEP\n",
      "(1.672, 1.52, 0) to (1.672, 1.3679999999999999, 0)\n",
      "(1.6775676197216387, 1.5222613534281941, -0.10617319306351468)\n",
      "moving down\n",
      "DONE WITH STEP\n",
      "(1.672, 1.3679999999999999, 0) to (1.672, 1.216, 0)\n",
      "(1.676888893408289, 1.3622627930265723, -90.24305168644842)\n",
      "moving down\n",
      "DONE WITH STEP\n",
      "(1.672, 1.216, 0) to (1.672, 1.064, 0)\n",
      "(1.6762525874895238, 1.2122641426500518, -90.24305168644842)\n",
      "moving down\n",
      "DONE WITH STEP\n",
      "MOVE FROM (6, 5) TO (10, 11) COMPLETE!\n"
     ]
    },
    {
     "data": {
      "image/png": "[encoded data removed]",
      "text/plain": [
       "<Figure size 432x288 with 1 Axes>"
      ]
     },
     "metadata": {
      "needs_background": "light"
     },
     "output_type": "display_data"
    },
    {
     "name": "stdout",
     "output_type": "stream",
     "text": [
      "Start cell:  (8, 10)\n",
      "Goal cell:  (5, 3)\n"
     ]
    },
    {
     "data": {
      "image/png": "[encoded data removed]",
      "text/plain": [
       "<Figure size 432x288 with 1 Axes>"
      ]
     },
     "metadata": {
      "needs_background": "light"
     },
     "output_type": "display_data"
    },
    {
     "name": "stdout",
     "output_type": "stream",
     "text": [
      "-----------------\n",
      "(1, 1, 0) to (1.52, 1.3679999999999999, 0)\n",
      "(1.6756162815707585, 1.0622654922735313, -90.24305168644842)\n",
      "moving right\n",
      "moving up\n",
      "DONE WITH STEP\n",
      "(1.52, 1.3679999999999999, 0) to (1.52, 1.52, 0)\n",
      "(1.6774250300969, 1.3722602155008312, 89.6656959846302)\n",
      "moving up\n",
      "DONE WITH STEP\n",
      "(1.52, 1.52, 0) to (1.3679999999999999, 1.52, 0)\n",
      "(1.678300230996646, 1.5222576622237183, 89.6656959846302)\n",
      "moving left\n",
      "DONE WITH STEP\n",
      "(1.3679999999999999, 1.52, 0) to (1.216, 1.52, 0)\n",
      "(1.3583072662657312, 1.5243795770943747, 179.6200698201681)\n",
      "moving left\n",
      "DONE WITH STEP\n",
      "(1.216, 1.52, 0) to (1.064, 1.52, 0)\n",
      "(1.2083105640481149, 1.5253742246899948, 179.6200698201681)\n",
      "moving left\n",
      "DONE WITH STEP\n",
      "(1.064, 1.52, 0) to (1.064, 1.672, 0)\n",
      "(1.0583138618304986, 1.526368872285615, 179.6200698201681)\n",
      "moving up\n",
      "DONE WITH STEP\n",
      "(1.064, 1.672, 0) to (1.064, 1.8239999999999998, 0)\n",
      "(1.0581668637965966, 1.676368800257525, 90.05614912191544)\n",
      "moving up\n",
      "DONE WITH STEP\n",
      "(1.064, 1.8239999999999998, 0) to (0.9119999999999999, 1.8239999999999998, 0)\n",
      "(1.0580198657626947, 1.826368728229435, 90.05614912191544)\n",
      "moving left\n",
      "DONE WITH STEP\n",
      "(0.9119999999999999, 1.8239999999999998, 0) to (0.76, 1.8239999999999998, 0)\n",
      "(0.9080205415035068, 1.8268189745920782, 179.82801829960772)\n",
      "moving left\n",
      "DONE WITH STEP\n",
      "(0.76, 1.8239999999999998, 0) to (0.608, 1.8239999999999998, 0)\n",
      "(0.7580212172443183, 1.8272692209547214, 179.82801829960772)\n",
      "moving left\n",
      "DONE WITH STEP\n",
      "(0.608, 1.8239999999999998, 0) to (0.45599999999999996, 1.8239999999999998, 0)\n",
      "(0.5980219380345172, 1.827749483741541, 179.82801829960772)\n",
      "moving left\n",
      "DONE WITH STEP\n",
      "MOVE FROM (8, 10) TO (5, 3) COMPLETE!\n"
     ]
    },
    {
     "data": {
      "image/png": "[encoded data removed]",
      "text/plain": [
       "<Figure size 432x288 with 1 Axes>"
      ]
     },
     "metadata": {
      "needs_background": "light"
     },
     "output_type": "display_data"
    },
    {
     "name": "stdout",
     "output_type": "stream",
     "text": [
      "Start cell:  (12, 6)\n",
      "Goal cell:  (10, 15)\n"
     ]
    },
    {
     "data": {
      "image/png": "[encoded data removed]",
      "text/plain": [
       "<Figure size 432x288 with 1 Axes>"
      ]
     },
     "metadata": {
      "needs_background": "light"
     },
     "output_type": "display_data"
    },
    {
     "name": "stdout",
     "output_type": "stream",
     "text": [
      "-----------------\n",
      "(1, 1, 0) to (0.9119999999999999, 0.76, 0)\n",
      "(0.44802261377532904, 1.8281997301041841, 179.82801829960772)\n",
      "moving left\n",
      "moving down\n",
      "DONE WITH STEP\n",
      "(0.9119999999999999, 0.76, 0) to (0.9119999999999999, 0.9119999999999999, 0)\n",
      "(0.4439587916648405, 0.7582074472582474, -90.2176078648544)\n",
      "moving up\n",
      "DONE WITH STEP\n",
      "(0.9119999999999999, 0.9119999999999999, 0) to (0.9119999999999999, 1.064, 0)\n",
      "(0.4448212878571905, 0.9182051225548542, 89.69113980622424)\n",
      "moving up\n",
      "DONE WITH STEP\n",
      "(0.9119999999999999, 1.064, 0) to (1.064, 1.064, 0)\n",
      "(0.44562987803751863, 1.0682029431454223, 89.69113980622424)\n",
      "moving right\n",
      "DONE WITH STEP\n",
      "(1.064, 1.064, 0) to (1.216, 1.064, 0)\n",
      "(1.0656111162204212, 1.0633796350281426, -0.445738687160663)\n",
      "moving right\n",
      "DONE WITH STEP\n",
      "(1.216, 1.064, 0) to (1.3679999999999999, 1.064, 0)\n",
      "(1.2156065770711248, 1.0622127056449298, -0.445738687160663)\n",
      "moving right\n",
      "DONE WITH STEP\n",
      "(1.3679999999999999, 1.064, 0) to (1.52, 1.064, 0)\n",
      "(1.3656020379218285, 1.061045776261717, -0.445738687160663)\n",
      "moving right\n",
      "DONE WITH STEP\n",
      "(1.52, 1.064, 0) to (1.672, 1.064, 0)\n",
      "(1.5155974987725322, 1.059878846878504, -0.445738687160663)\n",
      "moving right\n",
      "DONE WITH STEP\n",
      "(1.672, 1.064, 0) to (1.8239999999999998, 1.064, 0)\n",
      "(1.6755926570132829, 1.058634122203077, -0.445738687160663)\n",
      "moving right\n",
      "DONE WITH STEP\n",
      "(1.8239999999999998, 1.064, 0) to (1.976, 1.064, 0)\n",
      "(1.8255881178639866, 1.0574671928198642, -0.445738687160663)\n",
      "moving right\n",
      "DONE WITH STEP\n",
      "(1.976, 1.064, 0) to (2.128, 1.064, 0)\n",
      "(1.9755835787146903, 1.0563002634366514, -0.445738687160663)\n",
      "moving right\n",
      "DONE WITH STEP\n",
      "(2.128, 1.064, 0) to (2.28, 1.064, 0)\n",
      "(2.125579039565391, 1.0551333340534386, -0.445738687160663)\n",
      "moving right\n",
      "DONE WITH STEP\n",
      "MOVE FROM (12, 6) TO (10, 15) COMPLETE!\n"
     ]
    },
    {
     "data": {
      "image/png": "[encoded data removed]",
      "text/plain": [
       "<Figure size 432x288 with 1 Axes>"
      ]
     },
     "metadata": {
      "needs_background": "light"
     },
     "output_type": "display_data"
    },
    {
     "name": "stdout",
     "output_type": "stream",
     "text": [
      "Start cell:  (10, 9)\n",
      "Goal cell:  (7, 16)\n"
     ]
    },
    {
     "data": {
      "image/png": "[encoded data removed]",
      "text/plain": [
       "<Figure size 432x288 with 1 Axes>"
      ]
     },
     "metadata": {
      "needs_background": "light"
     },
     "output_type": "display_data"
    },
    {
     "name": "stdout",
     "output_type": "stream",
     "text": [
      "-----------------\n",
      "(1, 1, 0) to (1.3679999999999999, 1.064, 0)\n",
      "(2.2755745004160914, 1.0539664046702257, -0.445738687160663)\n",
      "moving right\n",
      "moving up\n",
      "DONE WITH STEP\n",
      "(1.3679999999999999, 1.064, 0) to (1.3679999999999999, 1.216, 0)\n",
      "(2.275746017003449, 1.0739656692082096, 89.50863514837866)\n",
      "moving up\n",
      "DONE WITH STEP\n",
      "(1.3679999999999999, 1.216, 0) to (1.3679999999999999, 1.3679999999999999, 0)\n",
      "(2.277032391408632, 1.2239601532430884, 89.50863514837866)\n",
      "moving up\n",
      "DONE WITH STEP\n",
      "(1.3679999999999999, 1.3679999999999999, 0) to (1.3679999999999999, 1.52, 0)\n",
      "(2.2783187658138147, 1.3739546372779672, 89.50863514837866)\n",
      "moving up\n",
      "DONE WITH STEP\n",
      "(1.3679999999999999, 1.52, 0) to (1.52, 1.52, 0)\n",
      "(2.2796051402189974, 1.523949121312846, 89.50863514837866)\n",
      "moving right\n",
      "DONE WITH STEP\n",
      "(1.52, 1.52, 0) to (1.672, 1.52, 0)\n",
      "(2.2796051402189974, 1.523949121312846, -0.05528554987544436)\n",
      "moving right\n",
      "DONE WITH STEP\n",
      "(1.672, 1.52, 0) to (1.8239999999999998, 1.52, 0)\n",
      "(2.2796051402189974, 1.523949121312846, -0.05528554987544436)\n",
      "moving right\n",
      "DONE WITH STEP\n",
      "(1.8239999999999998, 1.52, 0) to (1.976, 1.52, 0)\n",
      "(2.2796051402189974, 1.523949121312846, -0.05528554987544436)\n",
      "moving right\n",
      "DONE WITH STEP\n",
      "(1.976, 1.52, 0) to (2.128, 1.52, 0)\n",
      "(2.2796051402189974, 1.523949121312846, -0.05528554987544436)\n",
      "moving right\n",
      "DONE WITH STEP\n",
      "(2.128, 1.52, 0) to (2.28, 1.52, 0)\n",
      "(2.2796051402189974, 1.523949121312846, -0.05528554987544436)\n",
      "moving right\n",
      "DONE WITH STEP\n",
      "(2.28, 1.52, 0) to (2.432, 1.52, 0)\n",
      "(2.2796051402189974, 1.523949121312846, -0.05528554987544436)\n",
      "moving right\n",
      "DONE WITH STEP\n",
      "MOVE FROM (10, 9) TO (7, 16) COMPLETE!\n"
     ]
    },
    {
     "data": {
      "image/png": "[encoded data removed]",
      "text/plain": [
       "<Figure size 432x288 with 1 Axes>"
      ]
     },
     "metadata": {
      "needs_background": "light"
     },
     "output_type": "display_data"
    },
    {
     "name": "stdout",
     "output_type": "stream",
     "text": [
      "Start cell:  (10, 10)\n",
      "Goal cell:  (15, 4)\n"
     ]
    },
    {
     "data": {
      "image/png": "[encoded data removed]",
      "text/plain": [
       "<Figure size 432x288 with 1 Axes>"
      ]
     },
     "metadata": {
      "needs_background": "light"
     },
     "output_type": "display_data"
    },
    {
     "name": "stdout",
     "output_type": "stream",
     "text": [
      "-----------------\n",
      "(1, 1, 0) to (1.52, 1.064, 0)\n",
      "(2.439605065734149, 1.5237947349569474, -0.05528554987544436)\n",
      "moving right\n",
      "moving up\n",
      "DONE WITH STEP\n",
      "(1.52, 1.064, 0) to (1.3679999999999999, 1.064, 0)\n",
      "(2.439605065734149, 1.5237947349569474, 89.89908828566388)\n",
      "moving left\n",
      "DONE WITH STEP\n",
      "(1.3679999999999999, 1.064, 0) to (1.216, 1.064, 0)\n",
      "(1.359608597956704, 1.5265569058866895, 179.85346212120177)\n",
      "moving left\n",
      "DONE WITH STEP\n",
      "(1.216, 1.064, 0) to (1.064, 1.064, 0)\n",
      "(1.2096090885431687, 1.5269405407380425, 179.85346212120177)\n",
      "moving left\n",
      "DONE WITH STEP\n",
      "(1.064, 1.064, 0) to (0.9119999999999999, 1.064, 0)\n",
      "(1.0596095791296334, 1.5273241755893956, 179.85346212120177)\n",
      "moving left\n",
      "DONE WITH STEP\n",
      "(0.9119999999999999, 1.064, 0) to (0.76, 1.064, 0)\n",
      "(0.9096100697160991, 1.5277078104407487, 179.85346212120177)\n",
      "moving left\n",
      "DONE WITH STEP\n",
      "(0.76, 1.064, 0) to (0.608, 1.064, 0)\n",
      "(0.7596105603025655, 1.5280914452921017, 179.85346212120177)\n",
      "moving left\n",
      "DONE WITH STEP\n",
      "(0.608, 1.064, 0) to (0.608, 0.9119999999999999, 0)\n",
      "(0.5996110835947962, 1.5285006558002117, 179.85346212120177)\n",
      "moving down\n",
      "DONE WITH STEP\n",
      "(0.608, 0.9119999999999999, 0) to (0.608, 0.76, 0)\n",
      "(0.5975316724327401, 0.9085041428670955, -90.19216404326036)\n",
      "moving down\n",
      "DONE WITH STEP\n",
      "(0.608, 0.76, 0) to (0.608, 0.608, 0)\n",
      "(0.5970285890870813, 0.7585049865123107, -90.19216404326036)\n",
      "moving down\n",
      "DONE WITH STEP\n",
      "(0.608, 0.608, 0) to (0.608, 0.45599999999999996, 0)\n",
      "(0.596491966851712, 0.5985058864005403, -90.19216404326036)\n",
      "moving down\n",
      "DONE WITH STEP\n",
      "(0.608, 0.45599999999999996, 0) to (0.608, 0.304, 0)\n",
      "(0.5959888835060533, 0.44850673004575514, -90.19216404326036)\n",
      "moving down\n",
      "DONE WITH STEP\n",
      "MOVE FROM (10, 10) TO (15, 4) COMPLETE!\n"
     ]
    },
    {
     "data": {
      "image/png": "[encoded data removed]",
      "text/plain": [
       "<Figure size 432x288 with 1 Axes>"
      ]
     },
     "metadata": {
      "needs_background": "light"
     },
     "output_type": "display_data"
    },
    {
     "name": "stdout",
     "output_type": "stream",
     "text": [
      "Start cell:  (13, 2)\n",
      "Goal cell:  (5, 2)\n"
     ]
    },
    {
     "data": {
      "image/png": "[encoded data removed]",
      "text/plain": [
       "<Figure size 432x288 with 1 Axes>"
      ]
     },
     "metadata": {
      "needs_background": "light"
     },
     "output_type": "display_data"
    },
    {
     "name": "stdout",
     "output_type": "stream",
     "text": [
      "-----------------\n",
      "(1, 1, 0) to (0.304, 0.608, 0)\n",
      "(0.5954858001603945, 0.29850757369096953, -90.19216404326036)\n",
      "moving left\n",
      "moving down\n",
      "DONE WITH STEP\n",
      "(0.304, 0.608, 0) to (0.45599999999999996, 0.608, 0)\n",
      "(0.295490747239897, 0.30023042691386975, -90.37466870110595)\n",
      "moving right\n",
      "DONE WITH STEP\n",
      "(0.45599999999999996, 0.608, 0) to (0.608, 0.608, 0)\n",
      "(0.4554864424600694, 0.29905675276249627, -0.4202948655666279)\n",
      "moving right\n",
      "DONE WITH STEP\n",
      "(0.608, 0.608, 0) to (0.608, 0.76, 0)\n",
      "(0.6054824067289817, 0.29795643324558363, -0.4202948655666279)\n",
      "moving up\n",
      "DONE WITH STEP\n",
      "(0.608, 0.76, 0) to (0.608, 0.9119999999999999, 0)\n",
      "(0.6092230192756982, 0.7579412241004299, 89.53407896997268)\n",
      "moving up\n",
      "DONE WITH STEP\n",
      "(0.608, 0.9119999999999999, 0) to (0.608, 1.064, 0)\n",
      "(0.6105241019006431, 0.9179359339629855, 89.53407896997268)\n",
      "moving up\n",
      "DONE WITH STEP\n",
      "(0.608, 1.064, 0) to (0.608, 1.216, 0)\n",
      "(0.6117438668615289, 1.0679309744591312, 89.53407896997268)\n",
      "moving up\n",
      "DONE WITH STEP\n",
      "(0.608, 1.216, 0) to (0.608, 1.3679999999999999, 0)\n",
      "(0.6129636318224148, 1.217926014955277, 89.53407896997268)\n",
      "moving up\n",
      "DONE WITH STEP\n",
      "(0.608, 1.3679999999999999, 0) to (0.608, 1.52, 0)\n",
      "(0.6141833967833006, 1.367921055451423, 89.53407896997268)\n",
      "moving up\n",
      "DONE WITH STEP\n",
      "(0.608, 1.52, 0) to (0.608, 1.672, 0)\n",
      "(0.6154031617441864, 1.5179160959475688, 89.53407896997268)\n",
      "moving up\n",
      "DONE WITH STEP\n",
      "(0.608, 1.672, 0) to (0.608, 1.8239999999999998, 0)\n",
      "(0.6167042443691313, 1.6779108058101244, 89.53407896997268)\n",
      "moving up\n",
      "DONE WITH STEP\n",
      "(0.608, 1.8239999999999998, 0) to (0.45599999999999996, 1.8239999999999998, 0)\n",
      "(0.6179240093300171, 1.8279058463062703, 89.53407896997268)\n",
      "moving left\n",
      "DONE WITH STEP\n",
      "(0.45599999999999996, 1.8239999999999998, 0) to (0.304, 1.8239999999999998, 0)\n",
      "(0.4479243890112746, 1.8282651393392646, 179.8789059427958)\n",
      "moving left\n",
      "DONE WITH STEP\n",
      "MOVE FROM (13, 2) TO (5, 2) COMPLETE!\n"
     ]
    },
    {
     "data": {
      "image/png": "[encoded data removed]",
      "text/plain": [
       "<Figure size 432x288 with 1 Axes>"
      ]
     },
     "metadata": {
      "needs_background": "light"
     },
     "output_type": "display_data"
    }
   ],
   "source": [
    "from planner_query import *\n",
    "\n",
    "grid =  [ 1,1,1,1,1,1,1,1,1,1,1,1,1,1,1,1,1,1,1,1,1,1,1,\n",
    "          1,1,1,1,1,1,1,1,1,1,1,1,1,1,1,1,1,1,1,1,1,1,1,\n",
    "          1,1,1,1,1,1,1,1,1,1,1,1,1,1,1,1,1,1,1,1,1,1,1,\n",
    "          1,1,1,1,1,1,1,1,1,1,1,1,1,1,1,1,1,1,1,1,1,1,1,\n",
    "          1,0,0,0,0,0,0,0,1,1,1,1,1,1,1,1,1,1,1,1,1,1,1,\n",
    "          1,0,0,0,0,0,0,0,1,1,1,1,1,1,1,1,1,1,1,1,1,1,1,\n",
    "          1,0,0,0,0,0,0,0,1,1,1,1,1,1,1,1,1,1,1,1,1,1,1,\n",
    "          1,0,0,0,0,0,0,0,0,0,0,0,0,0,0,0,0,0,1,1,1,1,1,\n",
    "          1,0,0,0,0,0,0,0,0,0,0,0,0,0,0,0,0,0,1,1,1,1,1,\n",
    "          1,0,0,0,0,0,0,0,0,0,0,0,0,0,0,0,0,1,1,1,1,1,1,\n",
    "          1,0,0,0,0,0,0,0,0,0,0,0,0,0,0,0,1,1,1,1,1,1,1,\n",
    "          1,1,1,1,0,0,0,0,0,0,0,0,0,0,0,1,1,1,1,1,1,1,1,\n",
    "          1,1,1,1,0,0,0,0,0,0,0,0,0,0,1,1,1,1,1,1,1,1,1,\n",
    "          1,0,0,0,0,0,0,0,0,0,0,0,0,1,1,1,1,1,1,1,1,1,1,\n",
    "          1,0,0,0,0,0,0,0,0,0,0,0,1,1,1,1,1,1,1,1,1,1,1,\n",
    "          1,0,0,0,0,0,0,1,1,1,1,1,1,1,1,1,1,1,1,1,1,1,1,\n",
    "          1,1,1,1,1,1,1,1,1,1,1,1,1,1,1,1,1,1,1,1,1,1,1]\n",
    "grid = np.array(grid, dtype=np.uint8)\n",
    "grid.resize(17,23)\n",
    "\n",
    "# Instantiate the class PlannerQuery\n",
    "pq = PlannerQuery(grid)\n",
    "        \n",
    "for i in range(0,10):\n",
    "    # Generate a start and goal pair\n",
    "    (start_node, goal_node) = pq.generate(plot=True)\n",
    "    gmap = OccupancyGridMap.from_data(grid,1,1)\n",
    "    gmap.plot()\n",
    "    print(\"-----------------\")\n",
    "    path, path_px = a_star(start_node, goal_node, gmap,movement=\"4N\")\n",
    "    \n",
    "\n",
    "    if path:\n",
    "        # plot resulting path in pixels over the map\n",
    "        #plot_path(path_px)\n",
    "        path_arr = np.array(path)\n",
    "        prevStep = (1,1,0)\n",
    "        #nextStep = ((start_node[1])*0.152,(17-start_node[0])*0.152,0)\n",
    "        #move_to_next(prevStep,nextStep,robot)\n",
    "        #prevStep = nextStep\n",
    "        for i in path_arr:\n",
    "            graphStep = ((i[1])*0.152,(17-i[0])*0.152, 0)\n",
    "            loc.plotter.plot_point(graphStep[0], graphStep[1],GT)\n",
    "            \n",
    "            nextStep = ((i[1])*0.152,(17-i[0])*0.152,0)\n",
    "            move_to_next(prevStep,nextStep,robot)\n",
    "            loc.plotter.plot_point(robot.get_gt_pose()[0], robot.get_gt_pose()[1], GT)\n",
    "            loc.plotter.plot_point(robot.get_pose()[0], robot.get_pose()[1], ODOM)\n",
    "            prevStep = nextStep\n",
    "        print(\"MOVE FROM \" + str(start_node) + \" TO \" + str(goal_node) + \" COMPLETE!\")\n",
    "        robot.set_vel(0,0)\n",
    "        start_node_px = gmap.get_index_from_coordinates(start_node[0], start_node[1])\n",
    "        goal_node_px = gmap.get_index_from_coordinates(goal_node[0], goal_node[1])\n",
    "\n",
    "        plt.plot(path_arr[:, 1], path_arr[:, 0], 'yo')\n",
    "        plt.plot(start_node_px[1], start_node_px[0], 'ro')\n",
    "        plt.plot(goal_node_px[1], goal_node_px[0], 'go')\n",
    "    else:\n",
    "        print('Goal is not reachable')\n",
    "\n",
    "        # plot start and goal points over the map (in pixels)\n",
    "        start_node_px = gmap.get_index_from_coordinates(start_node[0], start_node[1])\n",
    "        goal_node_px = gmap.get_index_from_coordinates(goal_node[0], goal_node[1])\n",
    "\n",
    "        plt.plot(start_node_px[1], start_node_px[0], 'ro')\n",
    "        plt.plot(goal_node_px[1], goal_node_px[0], 'go')\n",
    "\n",
    "    plt.show()"
   ]
  },
  {
   "cell_type": "code",
   "execution_count": null,
   "metadata": {},
   "outputs": [],
   "source": [
    "cx,cy,ca = mapper.to_map(0,2.128,0)\n",
    "#mapper.get_views(cx,cy,ca)\n",
    "for i in range(0,start_points.shape[0]):\n",
    "    get_sim_model(start_points[i],end_points[i])"
   ]
  },
  {
   "cell_type": "markdown",
   "metadata": {},
   "source": [
    "# Bayes filter on the virtual robot\n",
    "The cell below run the bayes filter algorithm for the pre-planned trajectory."
   ]
  },
  {
   "cell_type": "code",
   "execution_count": null,
   "metadata": {},
   "outputs": [],
   "source": [
    "# Reset Plots\n",
    "robot.reset()\n",
    "loc.plotter.reset_plot()\n",
    "\n",
    "# Init Uniform Belief\n",
    "loc.init_pose()\n",
    "\n",
    "# Get Observation Data by executing a 360 degree rotation motion\n",
    "loc.get_observation_data()\n",
    "\n",
    "# Run Update Step\n",
    "loc.update_step()\n",
    "loc.print_update_stats(plot_data=True)\n",
    "    \n",
    "# Intialize the Trajectory object\n",
    "traj = Trajectory(loc)\n",
    "\n",
    "# Run through each motion steps\n",
    "for t in range(0, traj.total_time_steps):\n",
    "\n",
    "    print(\"\\n\\n-----------------\", t, \"-----------------\")\n",
    "    \n",
    "    prev_odom, current_odom, prev_gt, current_gt = traj.execute_time_step(t)\n",
    "    \n",
    "    # Prediction Step\n",
    "    loc.prediction_step(current_odom, prev_odom)\n",
    "    loc.print_prediction_stats(plot_data=True)\n",
    "    \n",
    "    # Get Observation Data by executing a 360 degree rotation motion\n",
    "    loc.get_observation_data()\n",
    "    \n",
    "    # Update Step    \n",
    "    loc.update_step()\n",
    "    loc.print_update_stats(plot_data=True)\n",
    "    \n",
    "        \n",
    "    print(\"-------------------------------------\")"
   ]
  }
 ],
 "metadata": {
  "kernelspec": {
   "display_name": "Python 3",
   "language": "python",
   "name": "python3"
  },
  "language_info": {
   "codemirror_mode": {
    "name": "ipython",
    "version": 3
   },
   "file_extension": ".py",
   "mimetype": "text/x-python",
   "name": "python",
   "nbconvert_exporter": "python",
   "pygments_lexer": "ipython3",
   "version": "3.8.3"
  }
 },
 "nbformat": 4,
 "nbformat_minor": 4
}
