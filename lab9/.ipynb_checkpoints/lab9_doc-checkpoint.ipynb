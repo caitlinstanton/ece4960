{
 "cells": [
  {
   "cell_type": "markdown",
   "metadata": {},
   "source": [
    "# Grid Localization using Bayes Filter\n",
    "### Documentation\n",
    "There are five major classes (VirtualRobot, Mapper, Localization, Plotter and Trajectory)  defined in **robot_interface.py** that provide you with the necessary functions and variables required for performing grid localization using the bayes filter.\n",
    "<hr>"
   ]
  },
  {
   "cell_type": "markdown",
   "metadata": {},
   "source": [
    "## VirtualRobot\n",
    "The class provides member functions required to interact with the virtual robot in the simulator. <br> \n",
    "\n",
    "**Make sure the simulator is running.** <br>\n",
    "\n",
    "### Member Functions:\n",
    "- <span style=\"color:rgb(255,191,0)\">**get_pose()**</span>:  Returns the latest odometry robot pose estimate as a tuple of the format $(x, y, yaw)$ with units $(meters, meters, degrees)$.\n",
    "\n",
    "- <span style=\"color:rgb(255,191,0)\">**get_gt_pose()**</span>: Returns the latest ground truth robot pose as a tuple of the format $(x, y, yaw)$ with units $(meters, meters, degrees)$.\n",
    "\n",
    "\n",
    "**<ins>NOTE</ins>**: The above functions provide angle information in degrees.\n",
    "\n",
    "<hr>"
   ]
  },
  {
   "cell_type": "markdown",
   "metadata": {},
   "source": [
    "## Mapper\n",
    "The class provides member functions to handle various operations related to the grid map. <br>\n",
    "The discrete grid map spans a world of $(-2, 2)~meters$ in the x-axis, $(-2,2)~meters$ in the y-axis and $[-180, 180)~degrees$ in the $\\theta$-axis. <br>\n",
    "The grid cell size in the x, y, and angle axes are 0.2 m, 0.2 m and 20 deg, respectively. <br>\n",
    "The grid has $(20, 20, 18)$ cells along the different dimensions, with a total number of 7200 cells. <br>   \n",
    "\n",
    "### Member Functions:\n",
    "- <span style=\"color:rgb(255,191,0)\">**from_map(cx, cy, ca)**</span>: Returns the continuous world coordinates *(x,y,a)* of the center of the grid cell index *(cx, cy, ca)*. \n",
    "- <span style=\"color:rgb(255,191,0)\">**to_map(x, y, a)**</span>: Returns the grid map cell index *(cx, cy, ca)* of the continuous world coordinates *(x,y,a)*.\n",
    "- <span style=\"color:rgb(255,191,0)\">**normalize_angle(a)**</span>: Normalizes the angle *a* to the interval \\[-180, 180).\n",
    "- <span style=\"color:rgb(255,191,0)\">**get_views(cx, cy, ca)**</span>: Returns a 1D array of the precached true measurements (views) at a given grid cell index *(cx, cy, ca)*. The true measurements are calculated offline by performing ray cast operations from the center of each cell in the map.\n",
    "\n",
    "### Member Variables:\n",
    "- <span style=\"color:rgb(100,191,100)\">**MAX_CELLS_X**</span>: Maximum number of grid cells in the X direction.\n",
    "- <span style=\"color:rgb(100,191,100)\">**MAX_CELLS_Y**</span>: Maximum number of grid cells in the Y direction.\n",
    "- <span style=\"color:rgb(100,191,100)\">**MAX_CELLS_A**</span>: Maximum number of grid cells in the $\\theta$ direction ('A' stands for 'Angle').\n",
    "- <span style=\"color:rgb(100,191,100)\">**OBS_PER_CELL**</span>: Number of observations per cell. This is set to 18.\n",
    "- <span style=\"color:rgb(100,191,100)\">**obs_views**</span>: A 4D Numpy array where the first three dimensions represents the cell index (cx, cy, ca) and the fourth dimension represents the precached true measurements (views). Hence the size of the Numpy array is (20,20,18,18). You may think of it as a 3D array representing the grid where each cell stores 18 precached true measurements calculated using ray casting from the center of that cell.\n",
    "\n",
    "**<ins>NOTE</ins>**: **Do not change the map properties** such as discretization size, map size, maximum number of cells, etc as they are tuned for the specific lab setting.\n",
    "<hr>"
   ]
  },
  {
   "cell_type": "markdown",
   "metadata": {},
   "source": [
    "## Plotter\n",
    "The Plotter class provides various member functions to plot and visualize data. <br>\n",
    "\n",
    "### Member Functions:\n",
    "\n",
    "- <span style=\"color:rgb(255,191,0)\">**plot_point(x, y, plot_type)**</span>: Plots a point at the position *x*,*y*. The color of the plotted point depends on *plot_type* which can be equal to one of the following: *ODOM, GT, or BEL* for blue, green or yellow, respectively.\n",
    "\n",
    "- <span style=\"color:rgb(255,191,0)\">**visualize_map()**</span>: Visualizes the map in the plotter as white lines segments as defined in the member variable **lines** of class **Mapper**.\n",
    "\n",
    "- <span style=\"color:rgb(255,191,0)\">**visualize_prior_bel()**</span>: Visualizes the prior belief(i.e belief after the prediction step) in the plotter as a grid map where each cell has a grayscale value depending on the probability of the cell; darkers regions indicate lower probability. **Make sure the \"Dist.\" toggle is switched on in the plotter**.\n",
    "\n",
    "- <span style=\"color:rgb(255,191,0)\">**visualize_bel()**</span>: Visualizes the belief(i.e belief after the update step) in the plotter as a grid map where each cell has a grayscale value depending on the probability of the cell; darkers regions indicate lower probability. **Make sure the \"Dist.\" toggle is switched on in the plotter**.\n",
    "\n",
    "- <span style=\"color:rgb(255,191,0)\">**reset_plot()**</span>: Resets the plots in the plotter. This removes all the previous plotted information.\n",
    "\n",
    "- <span style=\"color:rgb(255,191,0)\">**reset_map()**</span>: Clears the map visualization in the plotter.\n",
    "\n",
    "\n",
    "**<ins>NOTE</ins>**: The functions *visualize_prior_bel()* and *visualize_bel()* visualize a 3D (grid) Belief in a 2D (grid) space by marginalizing over  $\\theta$ i.e $bel(x,y) = \\sum_{\\theta} bel(x,y,\\theta)$ and $\\overline{bel}(x,y) = \\sum_{\\theta} \\overline{bel}(x,y,\\theta)$. <br>\n",
    "<hr>"
   ]
  },
  {
   "cell_type": "markdown",
   "metadata": {},
   "source": [
    "## BaseLocalization\n",
    "The class provides member functions and member variables required for Grid Localization. <br>\n",
    "Below is a quick summary of the necessary member functions and variables that will be required to complete this lab:\n",
    "\n",
    "### Member Functions:\n",
    "- <span style=\"color:rgb(255,191,0)\">**init_pose(x,y,a)**</span>: Initialize the member variable **bel** with a point mass distribution centered at *(x,y,a)*.\n",
    "- <span style=\"color:rgb(255,191,0)\">**gaussian(x, mu, sigma)**</span>: Returns the relative likelihood of *x* in a Normal Distribution with mean *mu* and standard deviation *sigma*.\n",
    "- <span style=\"color:rgb(255,191,0)\">**get_observation_data()**</span>: Executes a rotation behavior where the robot rotates in place and collects 18 (=*OBS_PER_CELL*)  range measurements at equidistant angular intervals over a 360 degree space. This mimics a 360 degree laser scanner. The range measurements are stored in the member variable **obs_range_data** of class **BaseLocalization**.\n",
    "- <span style=\"color:rgb(255,191,0)\">**print_prediction_stats(plot_data)**</span>: A helper function that displays statistics after your prediction step and plots the ground truth position (green), odometry position (blue) and visualizes the prior belief (grayscale grid) if *plot_data* is True.\n",
    "- <span style=\"color:rgb(255,191,0)\">**print_update_stats(plot_data)**</span>: A helper function that displays statistics after your update step and plots the belief position (yellow) if *plot_data* is True.\n",
    "\n",
    "### Member Variables:\n",
    "- <span style=\"color:rgb(100,191,100)\">**obs_range_data**</span>: A 1D Numpy array containing range measurements made by a robot after completing a rotation behaviour i.e after calling the function **get_observation_data()**.\n",
    "- <span style=\"color:rgb(100,191,100)\">**bel_bar**</span>: A 3D Numpy array that is used to represent the prior belief of the robot i.e after the most recent prediction step.  \n",
    "- <span style=\"color:rgb(100,191,100)\">**bel**</span>: A 3D Numpy array that is used to represent the belief of the robot i.e after the most recent update step. It is initialized with a point mass distribution centered at $(0~m,0~m,0~deg)$ or grid index $(10,10,9)$.\n",
    "- <span style=\"color:rgb(100,191,100)\">**sensor_sigma**</span>: The noise parameter (standard deviation of the Gaussian function) for your sensor model.\n",
    "- <span style=\"color:rgb(100,191,100)\">**odom_rot_sigma**</span>: The noise parameter (standard deviation of the Gaussian function) for rotation in your odometry motion model.\n",
    "- <span style=\"color:rgb(100,191,100)\">**odom_trans_sigma**</span>: The noise parameter (standard deviation of the Gaussian function) for translation in your odometry motion model.\n",
    "\n",
    "**<ins>NOTE</ins>**: The noise parameters are dependent on the robot motion model, sensor model and grid discretization. The values are thus tuned to work for the lab setting. **Do not change the noise parameters.**\n",
    "<hr>"
   ]
  },
  {
   "cell_type": "markdown",
   "metadata": {},
   "source": [
    "## Trajectory\n",
    "#### For Virtual Robot only\n",
    "The trajectory class encodes a pre-planned collision free trajectory to be executed by your virtual robot. The class is defined in **Traj.py**. <br>\n",
    "\n",
    "### Member Functions:\n",
    "<span style=\"color:rgb(255,191,0)\">**execute_time_step(t)**</span>: Executes the motion at time step *t* and returns *prev_odom, current_odom, prev_gt, current_gt*.\n",
    "   - prev_odom: odometry pose before executing the motion.    \n",
    "   - current_odom: odometry pose after executing the motion.\n",
    "   - prev_gt     : ground truth pose before executing the motion.\n",
    "   - current_gt  : ground truth pose after executing the motion.\n",
    "\n",
    "### Member Variables:\n",
    "<span style=\"color:rgb(100,191,100)\">**total_time_steps**</span>: The total number of time steps in the trajectory (26). \n",
    "\n",
    "\n",
    "Thus, calling the member function **execute_time_step(t)** repeatedly from t=0 to t=total_time_steps-1 will make the robot execute the entire collision-free, pre-planned trajectory."
   ]
  }
 ],
 "metadata": {
  "kernelspec": {
   "display_name": "Python 3",
   "language": "python",
   "name": "python3"
  },
  "language_info": {
   "codemirror_mode": {
    "name": "ipython",
    "version": 3
   },
   "file_extension": ".py",
   "mimetype": "text/x-python",
   "name": "python",
   "nbconvert_exporter": "python",
   "pygments_lexer": "ipython3",
   "version": "3.6.9"
  }
 },
 "nbformat": 4,
 "nbformat_minor": 4
}
